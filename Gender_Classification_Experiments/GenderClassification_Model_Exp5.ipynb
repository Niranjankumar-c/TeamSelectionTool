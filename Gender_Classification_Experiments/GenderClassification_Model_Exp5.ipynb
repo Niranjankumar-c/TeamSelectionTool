{
 "cells": [
  {
   "cell_type": "markdown",
   "metadata": {},
   "source": []
  },
  {
   "cell_type": "code",
   "execution_count": 1,
   "metadata": {
    "scrolled": true
   },
   "outputs": [
    {
     "name": "stderr",
     "output_type": "stream",
     "text": [
      "Using TensorFlow backend.\n"
     ]
    }
   ],
   "source": [
    "#importing the required packages\n",
    "import os\n",
    "import matplotlib.pyplot as plt\n",
    "import numpy as np\n",
    "from keras import backend\n",
    "import argparse\n",
    "import random\n",
    "import cv2\n",
    "import glob"
   ]
  },
  {
   "cell_type": "code",
   "execution_count": 2,
   "metadata": {},
   "outputs": [],
   "source": [
    "from keras.models import Sequential\n",
    "from keras.layers import Conv2D, MaxPooling2D, Flatten, Dense, Dropout\n",
    "from keras.optimizers import Adam, SGD\n",
    "from keras.preprocessing.image import ImageDataGenerator\n",
    "from keras.callbacks import Callback, ModelCheckpoint\n",
    "from keras.layers.normalization import BatchNormalization\n",
    "from keras.layers.core import Activation\n",
    "from keras.preprocessing.image import img_to_array\n",
    "from keras.utils import to_categorical\n",
    "from sklearn.model_selection import train_test_split"
   ]
  },
  {
   "cell_type": "code",
   "execution_count": 3,
   "metadata": {},
   "outputs": [],
   "source": [
    "from keras import applications\n",
    "from keras import Model"
   ]
  },
  {
   "cell_type": "code",
   "execution_count": 4,
   "metadata": {},
   "outputs": [],
   "source": [
    "dataset_path = \"Data\\\\gender_dataset_face_asian\"\n",
    "img_dims = (96,96,3)\n",
    "data = []\n",
    "labels = []"
   ]
  },
  {
   "cell_type": "code",
   "execution_count": 5,
   "metadata": {},
   "outputs": [],
   "source": [
    "# load image files from the dataset\n",
    "random.seed(42)\n",
    "image_files = [f for f in glob.glob(dataset_path + \"/**/*\", recursive=True) if not os.path.isdir(f)]\n",
    "random.shuffle(image_files)"
   ]
  },
  {
   "cell_type": "code",
   "execution_count": 6,
   "metadata": {},
   "outputs": [],
   "source": [
    "# create groud-truth label from the image path\n",
    "for img in image_files:\n",
    "\n",
    "    image = cv2.imread(img)\n",
    "    \n",
    "    image = cv2.resize(image, (img_dims[0],img_dims[1]))\n",
    "    image = img_to_array(image)\n",
    "    data.append(image)\n",
    "\n",
    "    label = img.split(os.path.sep)[-2]\n",
    "    if label == \"woman\":\n",
    "        label = 1\n",
    "    else:\n",
    "        label = 0\n",
    "        \n",
    "    labels.append([label])"
   ]
  },
  {
   "cell_type": "code",
   "execution_count": 7,
   "metadata": {},
   "outputs": [
    {
     "name": "stdout",
     "output_type": "stream",
     "text": [
      "10908\n",
      "10908\n"
     ]
    }
   ],
   "source": [
    "print(len(data))\n",
    "print(len(labels))"
   ]
  },
  {
   "cell_type": "code",
   "execution_count": 8,
   "metadata": {
    "scrolled": true
   },
   "outputs": [],
   "source": [
    "# pre-processing\n",
    "data = np.array(data, dtype=\"float\") / 255.0\n",
    "labels = np.array(labels)"
   ]
  },
  {
   "cell_type": "code",
   "execution_count": null,
   "metadata": {},
   "outputs": [],
   "source": []
  },
  {
   "cell_type": "code",
   "execution_count": 9,
   "metadata": {},
   "outputs": [],
   "source": [
    "# split dataset for training and validation\n",
    "(trainX, testX, trainY, testY) = train_test_split(data, labels, test_size=0.2,\n",
    "                                                  random_state=42)\n"
   ]
  },
  {
   "cell_type": "code",
   "execution_count": 10,
   "metadata": {},
   "outputs": [],
   "source": [
    "trainY = to_categorical(trainY, num_classes=2)\n",
    "testY = to_categorical(testY, num_classes=2)"
   ]
  },
  {
   "cell_type": "code",
   "execution_count": 11,
   "metadata": {},
   "outputs": [],
   "source": [
    "# augmenting datset \n",
    "aug = ImageDataGenerator(rotation_range=50, \n",
    "                         width_shift_range=0.3,\n",
    "                         height_shift_range=0.4, \n",
    "                         shear_range=0.4, \n",
    "                         zoom_range=0.4,\n",
    "                         horizontal_flip=True, \n",
    "                         fill_mode=\"nearest\")"
   ]
  },
  {
   "cell_type": "code",
   "execution_count": 12,
   "metadata": {},
   "outputs": [
    {
     "name": "stdout",
     "output_type": "stream",
     "text": [
      "training x length:  8726\n",
      "testing x length:  2182\n"
     ]
    }
   ],
   "source": [
    "print(\"training x length: \", len(trainX))\n",
    "print(\"testing x length: \", len(testY))"
   ]
  },
  {
   "cell_type": "code",
   "execution_count": null,
   "metadata": {},
   "outputs": [],
   "source": []
  },
  {
   "cell_type": "code",
   "execution_count": 13,
   "metadata": {},
   "outputs": [],
   "source": [
    "# initial parameters\n",
    "epochs = 100\n",
    "lr_rate = 0.0001\n",
    "batch_size = 64\n",
    "drop_out = 0.20"
   ]
  },
  {
   "cell_type": "code",
   "execution_count": null,
   "metadata": {},
   "outputs": [],
   "source": []
  },
  {
   "cell_type": "markdown",
   "metadata": {},
   "source": [
    "## VGG 19"
   ]
  },
  {
   "cell_type": "code",
   "execution_count": 14,
   "metadata": {},
   "outputs": [],
   "source": [
    "#Creating a function for saving the model at each epoch end\n",
    "class LossHistory(Callback):\n",
    "    def __init__(self):\n",
    "        super().__init__()\n",
    "        self.epoch_id = 0\n",
    "        self.losses = ''\n",
    " \n",
    "    def on_epoch_end(self, epoch, logs={}):\n",
    "        self.losses += \"Epoch {}: accuracy -> {:.3f}, val_accuracy -> {:.3f}\\n\"\\\n",
    "            .format(str(self.epoch_id), logs.get('acc'), logs.get('val_acc'))\n",
    "        self.epoch_id += 1\n",
    " \n",
    "    def on_train_begin(self, logs={}):\n",
    "        self.losses += 'Training begins...\\n'"
   ]
  },
  {
   "cell_type": "code",
   "execution_count": 15,
   "metadata": {
    "scrolled": true
   },
   "outputs": [],
   "source": [
    "model = applications.VGG19(weights = \"imagenet\", include_top=False, input_shape = (img_dims[0], img_dims[1], 3))"
   ]
  },
  {
   "cell_type": "code",
   "execution_count": 16,
   "metadata": {
    "scrolled": true
   },
   "outputs": [
    {
     "name": "stdout",
     "output_type": "stream",
     "text": [
      "_________________________________________________________________\n",
      "Layer (type)                 Output Shape              Param #   \n",
      "=================================================================\n",
      "input_1 (InputLayer)         (None, 96, 96, 3)         0         \n",
      "_________________________________________________________________\n",
      "block1_conv1 (Conv2D)        (None, 96, 96, 64)        1792      \n",
      "_________________________________________________________________\n",
      "block1_conv2 (Conv2D)        (None, 96, 96, 64)        36928     \n",
      "_________________________________________________________________\n",
      "block1_pool (MaxPooling2D)   (None, 48, 48, 64)        0         \n",
      "_________________________________________________________________\n",
      "block2_conv1 (Conv2D)        (None, 48, 48, 128)       73856     \n",
      "_________________________________________________________________\n",
      "block2_conv2 (Conv2D)        (None, 48, 48, 128)       147584    \n",
      "_________________________________________________________________\n",
      "block2_pool (MaxPooling2D)   (None, 24, 24, 128)       0         \n",
      "_________________________________________________________________\n",
      "block3_conv1 (Conv2D)        (None, 24, 24, 256)       295168    \n",
      "_________________________________________________________________\n",
      "block3_conv2 (Conv2D)        (None, 24, 24, 256)       590080    \n",
      "_________________________________________________________________\n",
      "block3_conv3 (Conv2D)        (None, 24, 24, 256)       590080    \n",
      "_________________________________________________________________\n",
      "block3_conv4 (Conv2D)        (None, 24, 24, 256)       590080    \n",
      "_________________________________________________________________\n",
      "block3_pool (MaxPooling2D)   (None, 12, 12, 256)       0         \n",
      "_________________________________________________________________\n",
      "block4_conv1 (Conv2D)        (None, 12, 12, 512)       1180160   \n",
      "_________________________________________________________________\n",
      "block4_conv2 (Conv2D)        (None, 12, 12, 512)       2359808   \n",
      "_________________________________________________________________\n",
      "block4_conv3 (Conv2D)        (None, 12, 12, 512)       2359808   \n",
      "_________________________________________________________________\n",
      "block4_conv4 (Conv2D)        (None, 12, 12, 512)       2359808   \n",
      "_________________________________________________________________\n",
      "block4_pool (MaxPooling2D)   (None, 6, 6, 512)         0         \n",
      "_________________________________________________________________\n",
      "block5_conv1 (Conv2D)        (None, 6, 6, 512)         2359808   \n",
      "_________________________________________________________________\n",
      "block5_conv2 (Conv2D)        (None, 6, 6, 512)         2359808   \n",
      "_________________________________________________________________\n",
      "block5_conv3 (Conv2D)        (None, 6, 6, 512)         2359808   \n",
      "_________________________________________________________________\n",
      "block5_conv4 (Conv2D)        (None, 6, 6, 512)         2359808   \n",
      "_________________________________________________________________\n",
      "block5_pool (MaxPooling2D)   (None, 3, 3, 512)         0         \n",
      "=================================================================\n",
      "Total params: 20,024,384\n",
      "Trainable params: 20,024,384\n",
      "Non-trainable params: 0\n",
      "_________________________________________________________________\n"
     ]
    }
   ],
   "source": [
    "model.summary()"
   ]
  },
  {
   "cell_type": "code",
   "execution_count": 17,
   "metadata": {},
   "outputs": [
    {
     "data": {
      "text/plain": [
       "22"
      ]
     },
     "execution_count": 17,
     "metadata": {},
     "output_type": "execute_result"
    }
   ],
   "source": [
    "len(model.layers)"
   ]
  },
  {
   "cell_type": "code",
   "execution_count": 18,
   "metadata": {},
   "outputs": [],
   "source": [
    "# Freeze the layers which you don't want to train. \n",
    "for layer in model.layers[:17]:\n",
    "    layer.trainable = False"
   ]
  },
  {
   "cell_type": "code",
   "execution_count": 19,
   "metadata": {},
   "outputs": [],
   "source": [
    "#Adding custom Layers \n",
    "x = model.output\n",
    "x = Flatten()(x)\n",
    "x = Dense(4096, activation=\"relu\")(x)\n",
    "x = BatchNormalization()(x)\n",
    "x = Dropout(0.5)(x)\n",
    "x = Dense(4096, activation=\"relu\")(x)\n",
    "predictions = Dense(2, activation=\"softmax\")(x)"
   ]
  },
  {
   "cell_type": "code",
   "execution_count": 20,
   "metadata": {},
   "outputs": [
    {
     "name": "stderr",
     "output_type": "stream",
     "text": [
      "C:\\Users\\NiranjanKumar\\Anaconda3\\envs\\deepbackup\\lib\\site-packages\\ipykernel_launcher.py:2: UserWarning: Update your `Model` call to the Keras 2 API: `Model(inputs=Tensor(\"in..., outputs=Tensor(\"de...)`\n",
      "  \n"
     ]
    }
   ],
   "source": [
    "# creating the final model \n",
    "model_final = Model(input = model.input, output = predictions)"
   ]
  },
  {
   "cell_type": "code",
   "execution_count": 21,
   "metadata": {},
   "outputs": [],
   "source": [
    "# compile the model \n",
    "model_final.compile(loss = \"binary_crossentropy\", optimizer = SGD(lr=lr_rate, momentum=0.9, decay=lr_rate/epochs), metrics=[\"accuracy\"])"
   ]
  },
  {
   "cell_type": "code",
   "execution_count": 22,
   "metadata": {
    "scrolled": true
   },
   "outputs": [
    {
     "name": "stdout",
     "output_type": "stream",
     "text": [
      "_________________________________________________________________\n",
      "Layer (type)                 Output Shape              Param #   \n",
      "=================================================================\n",
      "input_1 (InputLayer)         (None, 96, 96, 3)         0         \n",
      "_________________________________________________________________\n",
      "block1_conv1 (Conv2D)        (None, 96, 96, 64)        1792      \n",
      "_________________________________________________________________\n",
      "block1_conv2 (Conv2D)        (None, 96, 96, 64)        36928     \n",
      "_________________________________________________________________\n",
      "block1_pool (MaxPooling2D)   (None, 48, 48, 64)        0         \n",
      "_________________________________________________________________\n",
      "block2_conv1 (Conv2D)        (None, 48, 48, 128)       73856     \n",
      "_________________________________________________________________\n",
      "block2_conv2 (Conv2D)        (None, 48, 48, 128)       147584    \n",
      "_________________________________________________________________\n",
      "block2_pool (MaxPooling2D)   (None, 24, 24, 128)       0         \n",
      "_________________________________________________________________\n",
      "block3_conv1 (Conv2D)        (None, 24, 24, 256)       295168    \n",
      "_________________________________________________________________\n",
      "block3_conv2 (Conv2D)        (None, 24, 24, 256)       590080    \n",
      "_________________________________________________________________\n",
      "block3_conv3 (Conv2D)        (None, 24, 24, 256)       590080    \n",
      "_________________________________________________________________\n",
      "block3_conv4 (Conv2D)        (None, 24, 24, 256)       590080    \n",
      "_________________________________________________________________\n",
      "block3_pool (MaxPooling2D)   (None, 12, 12, 256)       0         \n",
      "_________________________________________________________________\n",
      "block4_conv1 (Conv2D)        (None, 12, 12, 512)       1180160   \n",
      "_________________________________________________________________\n",
      "block4_conv2 (Conv2D)        (None, 12, 12, 512)       2359808   \n",
      "_________________________________________________________________\n",
      "block4_conv3 (Conv2D)        (None, 12, 12, 512)       2359808   \n",
      "_________________________________________________________________\n",
      "block4_conv4 (Conv2D)        (None, 12, 12, 512)       2359808   \n",
      "_________________________________________________________________\n",
      "block4_pool (MaxPooling2D)   (None, 6, 6, 512)         0         \n",
      "_________________________________________________________________\n",
      "block5_conv1 (Conv2D)        (None, 6, 6, 512)         2359808   \n",
      "_________________________________________________________________\n",
      "block5_conv2 (Conv2D)        (None, 6, 6, 512)         2359808   \n",
      "_________________________________________________________________\n",
      "block5_conv3 (Conv2D)        (None, 6, 6, 512)         2359808   \n",
      "_________________________________________________________________\n",
      "block5_conv4 (Conv2D)        (None, 6, 6, 512)         2359808   \n",
      "_________________________________________________________________\n",
      "block5_pool (MaxPooling2D)   (None, 3, 3, 512)         0         \n",
      "_________________________________________________________________\n",
      "flatten_1 (Flatten)          (None, 4608)              0         \n",
      "_________________________________________________________________\n",
      "dense_1 (Dense)              (None, 4096)              18878464  \n",
      "_________________________________________________________________\n",
      "batch_normalization_1 (Batch (None, 4096)              16384     \n",
      "_________________________________________________________________\n",
      "dropout_1 (Dropout)          (None, 4096)              0         \n",
      "_________________________________________________________________\n",
      "dense_2 (Dense)              (None, 4096)              16781312  \n",
      "_________________________________________________________________\n",
      "dense_3 (Dense)              (None, 2)                 8194      \n",
      "=================================================================\n",
      "Total params: 55,708,738\n",
      "Trainable params: 45,115,394\n",
      "Non-trainable params: 10,593,344\n",
      "_________________________________________________________________\n"
     ]
    }
   ],
   "source": [
    "#summary of final model\n",
    "model_final.summary()"
   ]
  },
  {
   "cell_type": "code",
   "execution_count": 23,
   "metadata": {},
   "outputs": [
    {
     "name": "stdout",
     "output_type": "stream",
     "text": [
      "Number of trainable weights before freezing the conv base: 16\n"
     ]
    }
   ],
   "source": [
    "print('Number of trainable weights before freezing the conv base:', len(model_final.trainable_weights))"
   ]
  },
  {
   "cell_type": "code",
   "execution_count": null,
   "metadata": {
    "scrolled": true
   },
   "outputs": [],
   "source": []
  },
  {
   "cell_type": "code",
   "execution_count": 24,
   "metadata": {},
   "outputs": [],
   "source": [
    "# Save the model according to the conditions  \n",
    "checkpoint = ModelCheckpoint(filepath = os.path.join('Detection\\\\Models', 'vgg19_3.h5'), monitor='val_acc', verbose=1, \n",
    "                             save_best_only=True, save_weights_only=False, mode='auto', period=1)"
   ]
  },
  {
   "cell_type": "code",
   "execution_count": 25,
   "metadata": {},
   "outputs": [],
   "source": [
    "# Create a loss history \n",
    "#saving to text file\n",
    "history = LossHistory()"
   ]
  },
  {
   "cell_type": "code",
   "execution_count": 26,
   "metadata": {
    "scrolled": true
   },
   "outputs": [
    {
     "name": "stderr",
     "output_type": "stream",
     "text": [
      "C:\\Users\\NiranjanKumar\\Anaconda3\\envs\\deepbackup\\lib\\site-packages\\ipykernel_launcher.py:9: UserWarning: Update your `fit_generator` call to the Keras 2 API: `fit_generator(<keras_pre..., steps_per_epoch=136, epochs=100, validation_data=(array([[[..., verbose=1, callbacks=[<__main__..., max_queue_size=100, workers=6)`\n",
      "  if __name__ == '__main__':\n"
     ]
    },
    {
     "name": "stdout",
     "output_type": "stream",
     "text": [
      "Epoch 1/100\n",
      "136/136 [==============================] - 124s 915ms/step - loss: 0.6232 - acc: 0.6769 - val_loss: 0.4839 - val_acc: 0.7617\n",
      "\n",
      "Epoch 00001: val_acc improved from -inf to 0.76169, saving model to Detection\\Models\\vgg19_3.h5\n",
      "Epoch 2/100\n",
      "136/136 [==============================] - 40s 294ms/step - loss: 0.5088 - acc: 0.7561 - val_loss: 0.3917 - val_acc: 0.8208\n",
      "\n",
      "Epoch 00002: val_acc improved from 0.76169 to 0.82081, saving model to Detection\\Models\\vgg19_3.h5\n",
      "Epoch 3/100\n",
      "136/136 [==============================] - 40s 293ms/step - loss: 0.4732 - acc: 0.7782 - val_loss: 0.3761 - val_acc: 0.8346\n",
      "\n",
      "Epoch 00003: val_acc improved from 0.82081 to 0.83456, saving model to Detection\\Models\\vgg19_3.h5\n",
      "Epoch 4/100\n",
      "136/136 [==============================] - 40s 293ms/step - loss: 0.4332 - acc: 0.8031 - val_loss: 0.3172 - val_acc: 0.8676\n",
      "\n",
      "Epoch 00004: val_acc improved from 0.83456 to 0.86755, saving model to Detection\\Models\\vgg19_3.h5\n",
      "Epoch 5/100\n",
      "136/136 [==============================] - 40s 294ms/step - loss: 0.4135 - acc: 0.8151 - val_loss: 0.2673 - val_acc: 0.8923\n",
      "\n",
      "Epoch 00005: val_acc improved from 0.86755 to 0.89230, saving model to Detection\\Models\\vgg19_3.h5\n",
      "Epoch 6/100\n",
      "136/136 [==============================] - 40s 294ms/step - loss: 0.3770 - acc: 0.8333 - val_loss: 0.2649 - val_acc: 0.8932\n",
      "\n",
      "Epoch 00006: val_acc improved from 0.89230 to 0.89322, saving model to Detection\\Models\\vgg19_3.h5\n",
      "Epoch 7/100\n",
      "136/136 [==============================] - 40s 295ms/step - loss: 0.3654 - acc: 0.8411 - val_loss: 0.2534 - val_acc: 0.8955\n",
      "\n",
      "Epoch 00007: val_acc improved from 0.89322 to 0.89551, saving model to Detection\\Models\\vgg19_3.h5\n",
      "Epoch 8/100\n",
      "136/136 [==============================] - 40s 294ms/step - loss: 0.3591 - acc: 0.8432 - val_loss: 0.2549 - val_acc: 0.9033\n",
      "\n",
      "Epoch 00008: val_acc improved from 0.89551 to 0.90330, saving model to Detection\\Models\\vgg19_3.h5\n",
      "Epoch 9/100\n",
      "136/136 [==============================] - 40s 295ms/step - loss: 0.3379 - acc: 0.8547 - val_loss: 0.2288 - val_acc: 0.9083\n",
      "\n",
      "Epoch 00009: val_acc improved from 0.90330 to 0.90834, saving model to Detection\\Models\\vgg19_3.h5\n",
      "Epoch 10/100\n",
      "136/136 [==============================] - 40s 294ms/step - loss: 0.3189 - acc: 0.8620 - val_loss: 0.2837 - val_acc: 0.8786\n",
      "\n",
      "Epoch 00010: val_acc did not improve from 0.90834\n",
      "Epoch 11/100\n",
      "136/136 [==============================] - 40s 293ms/step - loss: 0.3234 - acc: 0.8608 - val_loss: 0.2288 - val_acc: 0.9038\n",
      "\n",
      "Epoch 00011: val_acc did not improve from 0.90834\n",
      "Epoch 12/100\n",
      "136/136 [==============================] - 40s 294ms/step - loss: 0.3177 - acc: 0.8598 - val_loss: 0.1879 - val_acc: 0.9216\n",
      "\n",
      "Epoch 00012: val_acc improved from 0.90834 to 0.92163, saving model to Detection\\Models\\vgg19_3.h5\n",
      "Epoch 13/100\n",
      "136/136 [==============================] - 40s 295ms/step - loss: 0.3015 - acc: 0.8710 - val_loss: 0.2228 - val_acc: 0.9120\n",
      "\n",
      "Epoch 00013: val_acc did not improve from 0.92163\n",
      "Epoch 14/100\n",
      "136/136 [==============================] - 40s 294ms/step - loss: 0.2955 - acc: 0.8779 - val_loss: 0.1797 - val_acc: 0.9326\n",
      "\n",
      "Epoch 00014: val_acc improved from 0.92163 to 0.93263, saving model to Detection\\Models\\vgg19_3.h5\n",
      "Epoch 15/100\n",
      "136/136 [==============================] - 40s 294ms/step - loss: 0.2861 - acc: 0.8762 - val_loss: 0.1995 - val_acc: 0.9225\n",
      "\n",
      "Epoch 00015: val_acc did not improve from 0.93263\n",
      "Epoch 16/100\n",
      "136/136 [==============================] - 40s 294ms/step - loss: 0.2812 - acc: 0.8810 - val_loss: 0.1744 - val_acc: 0.9239\n",
      "\n",
      "Epoch 00016: val_acc did not improve from 0.93263\n",
      "Epoch 17/100\n",
      "136/136 [==============================] - 40s 294ms/step - loss: 0.2712 - acc: 0.8861 - val_loss: 0.1903 - val_acc: 0.9207\n",
      "\n",
      "Epoch 00017: val_acc did not improve from 0.93263\n",
      "Epoch 18/100\n",
      "136/136 [==============================] - 40s 294ms/step - loss: 0.2809 - acc: 0.8811 - val_loss: 0.1997 - val_acc: 0.9148\n",
      "\n",
      "Epoch 00018: val_acc did not improve from 0.93263\n",
      "Epoch 19/100\n",
      "136/136 [==============================] - 40s 296ms/step - loss: 0.2654 - acc: 0.8872 - val_loss: 0.1607 - val_acc: 0.9340\n",
      "\n",
      "Epoch 00019: val_acc improved from 0.93263 to 0.93401, saving model to Detection\\Models\\vgg19_3.h5\n",
      "Epoch 20/100\n",
      "136/136 [==============================] - 40s 296ms/step - loss: 0.2660 - acc: 0.8876 - val_loss: 0.1688 - val_acc: 0.9358\n",
      "\n",
      "Epoch 00020: val_acc improved from 0.93401 to 0.93584, saving model to Detection\\Models\\vgg19_3.h5\n",
      "Epoch 21/100\n",
      "136/136 [==============================] - 40s 296ms/step - loss: 0.2618 - acc: 0.8922 - val_loss: 0.1686 - val_acc: 0.9322\n",
      "\n",
      "Epoch 00021: val_acc did not improve from 0.93584\n",
      "Epoch 22/100\n",
      "136/136 [==============================] - 40s 296ms/step - loss: 0.2404 - acc: 0.8990 - val_loss: 0.1512 - val_acc: 0.9372\n",
      "\n",
      "Epoch 00022: val_acc improved from 0.93584 to 0.93721, saving model to Detection\\Models\\vgg19_3.h5\n",
      "Epoch 23/100\n",
      "136/136 [==============================] - 40s 296ms/step - loss: 0.2458 - acc: 0.8966 - val_loss: 0.1422 - val_acc: 0.9400\n",
      "\n",
      "Epoch 00023: val_acc improved from 0.93721 to 0.93996, saving model to Detection\\Models\\vgg19_3.h5\n",
      "Epoch 24/100\n",
      "136/136 [==============================] - 40s 295ms/step - loss: 0.2510 - acc: 0.8986 - val_loss: 0.1500 - val_acc: 0.9400\n",
      "\n",
      "Epoch 00024: val_acc did not improve from 0.93996\n",
      "Epoch 25/100\n",
      "136/136 [==============================] - 40s 296ms/step - loss: 0.2506 - acc: 0.8978 - val_loss: 0.1246 - val_acc: 0.9510\n",
      "\n",
      "Epoch 00025: val_acc improved from 0.93996 to 0.95096, saving model to Detection\\Models\\vgg19_3.h5\n",
      "Epoch 26/100\n",
      "136/136 [==============================] - 40s 296ms/step - loss: 0.2448 - acc: 0.8993 - val_loss: 0.1404 - val_acc: 0.9450\n",
      "\n",
      "Epoch 00026: val_acc did not improve from 0.95096\n",
      "Epoch 27/100\n",
      "136/136 [==============================] - 40s 296ms/step - loss: 0.2330 - acc: 0.9046 - val_loss: 0.1393 - val_acc: 0.9441\n",
      "\n",
      "Epoch 00027: val_acc did not improve from 0.95096\n",
      "Epoch 28/100\n",
      "136/136 [==============================] - 40s 296ms/step - loss: 0.2312 - acc: 0.9046 - val_loss: 0.1783 - val_acc: 0.9299\n",
      "\n",
      "Epoch 00028: val_acc did not improve from 0.95096\n",
      "Epoch 29/100\n",
      "136/136 [==============================] - 40s 295ms/step - loss: 0.2409 - acc: 0.8984 - val_loss: 0.1387 - val_acc: 0.9436\n",
      "\n",
      "Epoch 00029: val_acc did not improve from 0.95096\n",
      "Epoch 30/100\n",
      "136/136 [==============================] - 40s 296ms/step - loss: 0.2374 - acc: 0.8996 - val_loss: 0.1420 - val_acc: 0.9432\n",
      "\n",
      "Epoch 00030: val_acc did not improve from 0.95096\n",
      "Epoch 31/100\n",
      "136/136 [==============================] - 40s 295ms/step - loss: 0.2281 - acc: 0.9072 - val_loss: 0.1299 - val_acc: 0.9496\n",
      "\n",
      "Epoch 00031: val_acc did not improve from 0.95096\n",
      "Epoch 32/100\n",
      "136/136 [==============================] - 40s 295ms/step - loss: 0.2244 - acc: 0.9082 - val_loss: 0.1270 - val_acc: 0.9505\n",
      "\n",
      "Epoch 00032: val_acc did not improve from 0.95096\n",
      "Epoch 33/100\n",
      "136/136 [==============================] - 40s 296ms/step - loss: 0.2138 - acc: 0.9128 - val_loss: 0.1553 - val_acc: 0.9372\n",
      "\n",
      "Epoch 00033: val_acc did not improve from 0.95096\n",
      "Epoch 34/100\n",
      "136/136 [==============================] - 40s 294ms/step - loss: 0.2209 - acc: 0.9094 - val_loss: 0.1160 - val_acc: 0.9542\n",
      "\n",
      "Epoch 00034: val_acc improved from 0.95096 to 0.95417, saving model to Detection\\Models\\vgg19_3.h5\n",
      "Epoch 35/100\n",
      "136/136 [==============================] - 40s 296ms/step - loss: 0.2120 - acc: 0.9141 - val_loss: 0.1184 - val_acc: 0.9565\n",
      "\n",
      "Epoch 00035: val_acc improved from 0.95417 to 0.95646, saving model to Detection\\Models\\vgg19_3.h5\n",
      "Epoch 36/100\n",
      "136/136 [==============================] - 40s 295ms/step - loss: 0.2225 - acc: 0.9076 - val_loss: 0.1194 - val_acc: 0.9555\n",
      "\n",
      "Epoch 00036: val_acc did not improve from 0.95646\n",
      "Epoch 37/100\n",
      "136/136 [==============================] - 40s 297ms/step - loss: 0.2076 - acc: 0.9157 - val_loss: 0.1399 - val_acc: 0.9455\n",
      "\n",
      "Epoch 00037: val_acc did not improve from 0.95646\n",
      "Epoch 38/100\n",
      "136/136 [==============================] - 40s 295ms/step - loss: 0.2248 - acc: 0.9093 - val_loss: 0.1708 - val_acc: 0.9303\n",
      "\n",
      "Epoch 00038: val_acc did not improve from 0.95646\n",
      "Epoch 39/100\n",
      "136/136 [==============================] - 40s 296ms/step - loss: 0.2026 - acc: 0.9179 - val_loss: 0.1203 - val_acc: 0.9560\n",
      "\n",
      "Epoch 00039: val_acc did not improve from 0.95646\n",
      "Epoch 40/100\n"
     ]
    },
    {
     "name": "stdout",
     "output_type": "stream",
     "text": [
      "136/136 [==============================] - 40s 297ms/step - loss: 0.2097 - acc: 0.9169 - val_loss: 0.1170 - val_acc: 0.9601\n",
      "\n",
      "Epoch 00040: val_acc improved from 0.95646 to 0.96013, saving model to Detection\\Models\\vgg19_3.h5\n",
      "Epoch 41/100\n",
      "136/136 [==============================] - 40s 296ms/step - loss: 0.2049 - acc: 0.9180 - val_loss: 0.1104 - val_acc: 0.9588\n",
      "\n",
      "Epoch 00041: val_acc did not improve from 0.96013\n",
      "Epoch 42/100\n",
      "136/136 [==============================] - 40s 295ms/step - loss: 0.2102 - acc: 0.9128 - val_loss: 0.1026 - val_acc: 0.9647\n",
      "\n",
      "Epoch 00042: val_acc improved from 0.96013 to 0.96471, saving model to Detection\\Models\\vgg19_3.h5\n",
      "Epoch 43/100\n",
      "136/136 [==============================] - 40s 297ms/step - loss: 0.2053 - acc: 0.9165 - val_loss: 0.1104 - val_acc: 0.9620\n",
      "\n",
      "Epoch 00043: val_acc did not improve from 0.96471\n",
      "Epoch 44/100\n",
      "136/136 [==============================] - 40s 297ms/step - loss: 0.1995 - acc: 0.9187 - val_loss: 0.1456 - val_acc: 0.9409\n",
      "\n",
      "Epoch 00044: val_acc did not improve from 0.96471\n",
      "Epoch 45/100\n",
      "136/136 [==============================] - 40s 297ms/step - loss: 0.1966 - acc: 0.9188 - val_loss: 0.1018 - val_acc: 0.9633\n",
      "\n",
      "Epoch 00045: val_acc did not improve from 0.96471\n",
      "Epoch 46/100\n",
      "136/136 [==============================] - 40s 295ms/step - loss: 0.1992 - acc: 0.9193 - val_loss: 0.1180 - val_acc: 0.9574\n",
      "\n",
      "Epoch 00046: val_acc did not improve from 0.96471\n",
      "Epoch 47/100\n",
      "136/136 [==============================] - 40s 296ms/step - loss: 0.2000 - acc: 0.9176 - val_loss: 0.0974 - val_acc: 0.9643\n",
      "\n",
      "Epoch 00047: val_acc did not improve from 0.96471\n",
      "Epoch 48/100\n",
      "136/136 [==============================] - 40s 296ms/step - loss: 0.1909 - acc: 0.9242 - val_loss: 0.1047 - val_acc: 0.9592\n",
      "\n",
      "Epoch 00048: val_acc did not improve from 0.96471\n",
      "Epoch 49/100\n",
      "136/136 [==============================] - 40s 296ms/step - loss: 0.1938 - acc: 0.9204 - val_loss: 0.1207 - val_acc: 0.9537\n",
      "\n",
      "Epoch 00049: val_acc did not improve from 0.96471\n",
      "Epoch 50/100\n",
      "136/136 [==============================] - 40s 297ms/step - loss: 0.1945 - acc: 0.9230 - val_loss: 0.1038 - val_acc: 0.9615\n",
      "\n",
      "Epoch 00050: val_acc did not improve from 0.96471\n",
      "Epoch 51/100\n",
      "136/136 [==============================] - 40s 295ms/step - loss: 0.1857 - acc: 0.9220 - val_loss: 0.0974 - val_acc: 0.9647\n",
      "\n",
      "Epoch 00051: val_acc did not improve from 0.96471\n",
      "Epoch 52/100\n",
      "136/136 [==============================] - 40s 297ms/step - loss: 0.1845 - acc: 0.9269 - val_loss: 0.0990 - val_acc: 0.9638\n",
      "\n",
      "Epoch 00052: val_acc did not improve from 0.96471\n",
      "Epoch 53/100\n",
      "136/136 [==============================] - 40s 296ms/step - loss: 0.1894 - acc: 0.9253 - val_loss: 0.1221 - val_acc: 0.9537\n",
      "\n",
      "Epoch 00053: val_acc did not improve from 0.96471\n",
      "Epoch 54/100\n",
      "136/136 [==============================] - 40s 296ms/step - loss: 0.1885 - acc: 0.9240 - val_loss: 0.1004 - val_acc: 0.9629\n",
      "\n",
      "Epoch 00054: val_acc did not improve from 0.96471\n",
      "Epoch 55/100\n",
      "136/136 [==============================] - 40s 296ms/step - loss: 0.1880 - acc: 0.9234 - val_loss: 0.1008 - val_acc: 0.9620\n",
      "\n",
      "Epoch 00055: val_acc did not improve from 0.96471\n",
      "Epoch 56/100\n",
      "136/136 [==============================] - 40s 295ms/step - loss: 0.1835 - acc: 0.9288 - val_loss: 0.0997 - val_acc: 0.9615\n",
      "\n",
      "Epoch 00056: val_acc did not improve from 0.96471\n",
      "Epoch 57/100\n",
      "136/136 [==============================] - 40s 297ms/step - loss: 0.1788 - acc: 0.9281 - val_loss: 0.0943 - val_acc: 0.9638\n",
      "\n",
      "Epoch 00057: val_acc did not improve from 0.96471\n",
      "Epoch 58/100\n",
      "136/136 [==============================] - 40s 295ms/step - loss: 0.1664 - acc: 0.9392 - val_loss: 0.0971 - val_acc: 0.9647\n",
      "\n",
      "Epoch 00058: val_acc did not improve from 0.96471\n",
      "Epoch 59/100\n",
      "136/136 [==============================] - 41s 298ms/step - loss: 0.1808 - acc: 0.9285 - val_loss: 0.1047 - val_acc: 0.9597\n",
      "\n",
      "Epoch 00059: val_acc did not improve from 0.96471\n",
      "Epoch 60/100\n",
      "136/136 [==============================] - 40s 295ms/step - loss: 0.1749 - acc: 0.9313 - val_loss: 0.0982 - val_acc: 0.9643\n",
      "\n",
      "Epoch 00060: val_acc did not improve from 0.96471\n",
      "Epoch 61/100\n",
      "136/136 [==============================] - 40s 296ms/step - loss: 0.1742 - acc: 0.9278 - val_loss: 0.0971 - val_acc: 0.9615\n",
      "\n",
      "Epoch 00061: val_acc did not improve from 0.96471\n",
      "Epoch 62/100\n",
      "136/136 [==============================] - 40s 296ms/step - loss: 0.1745 - acc: 0.9293 - val_loss: 0.0984 - val_acc: 0.9643\n",
      "\n",
      "Epoch 00062: val_acc did not improve from 0.96471\n",
      "Epoch 63/100\n",
      "136/136 [==============================] - 40s 297ms/step - loss: 0.1755 - acc: 0.9346 - val_loss: 0.0982 - val_acc: 0.9620\n",
      "\n",
      "Epoch 00063: val_acc did not improve from 0.96471\n",
      "Epoch 64/100\n",
      "136/136 [==============================] - 40s 296ms/step - loss: 0.1696 - acc: 0.9317 - val_loss: 0.0958 - val_acc: 0.9624\n",
      "\n",
      "Epoch 00064: val_acc did not improve from 0.96471\n",
      "Epoch 65/100\n",
      "136/136 [==============================] - 40s 296ms/step - loss: 0.1776 - acc: 0.9315 - val_loss: 0.1099 - val_acc: 0.9601\n",
      "\n",
      "Epoch 00065: val_acc did not improve from 0.96471\n",
      "Epoch 66/100\n",
      "136/136 [==============================] - 40s 295ms/step - loss: 0.1825 - acc: 0.9244 - val_loss: 0.0937 - val_acc: 0.9679\n",
      "\n",
      "Epoch 00066: val_acc improved from 0.96471 to 0.96792, saving model to Detection\\Models\\vgg19_3.h5\n",
      "Epoch 67/100\n",
      "136/136 [==============================] - 40s 296ms/step - loss: 0.1662 - acc: 0.9343 - val_loss: 0.0915 - val_acc: 0.9675\n",
      "\n",
      "Epoch 00067: val_acc did not improve from 0.96792\n",
      "Epoch 68/100\n",
      "136/136 [==============================] - 40s 296ms/step - loss: 0.1691 - acc: 0.9320 - val_loss: 0.0996 - val_acc: 0.9633\n",
      "\n",
      "Epoch 00068: val_acc did not improve from 0.96792\n",
      "Epoch 69/100\n",
      "136/136 [==============================] - 40s 296ms/step - loss: 0.1642 - acc: 0.9361 - val_loss: 0.0844 - val_acc: 0.9707\n",
      "\n",
      "Epoch 00069: val_acc improved from 0.96792 to 0.97067, saving model to Detection\\Models\\vgg19_3.h5\n",
      "Epoch 70/100\n",
      "136/136 [==============================] - 40s 297ms/step - loss: 0.1713 - acc: 0.9321 - val_loss: 0.1170 - val_acc: 0.9578\n",
      "\n",
      "Epoch 00070: val_acc did not improve from 0.97067\n",
      "Epoch 71/100\n",
      "136/136 [==============================] - 40s 295ms/step - loss: 0.1722 - acc: 0.9344 - val_loss: 0.0949 - val_acc: 0.9652\n",
      "\n",
      "Epoch 00071: val_acc did not improve from 0.97067\n",
      "Epoch 72/100\n",
      "136/136 [==============================] - 40s 296ms/step - loss: 0.1641 - acc: 0.9354 - val_loss: 0.1064 - val_acc: 0.9629\n",
      "\n",
      "Epoch 00072: val_acc did not improve from 0.97067\n",
      "Epoch 73/100\n",
      "136/136 [==============================] - 40s 296ms/step - loss: 0.1581 - acc: 0.9366 - val_loss: 0.0859 - val_acc: 0.9679\n",
      "\n",
      "Epoch 00073: val_acc did not improve from 0.97067\n",
      "Epoch 74/100\n",
      "136/136 [==============================] - 40s 296ms/step - loss: 0.1668 - acc: 0.9382 - val_loss: 0.1374 - val_acc: 0.9432\n",
      "\n",
      "Epoch 00074: val_acc did not improve from 0.97067\n",
      "Epoch 75/100\n",
      "136/136 [==============================] - 40s 296ms/step - loss: 0.1606 - acc: 0.9369 - val_loss: 0.1045 - val_acc: 0.9624\n",
      "\n",
      "Epoch 00075: val_acc did not improve from 0.97067\n",
      "Epoch 76/100\n",
      "136/136 [==============================] - 40s 296ms/step - loss: 0.1626 - acc: 0.9320 - val_loss: 0.1037 - val_acc: 0.9610\n",
      "\n",
      "Epoch 00076: val_acc did not improve from 0.97067\n",
      "Epoch 77/100\n",
      "136/136 [==============================] - 40s 296ms/step - loss: 0.1625 - acc: 0.9345 - val_loss: 0.0880 - val_acc: 0.9670\n",
      "\n",
      "Epoch 00077: val_acc did not improve from 0.97067\n",
      "Epoch 78/100\n",
      "136/136 [==============================] - 40s 296ms/step - loss: 0.1545 - acc: 0.9372 - val_loss: 0.1077 - val_acc: 0.9597\n",
      "\n",
      "Epoch 00078: val_acc did not improve from 0.97067\n",
      "Epoch 79/100\n",
      "136/136 [==============================] - 40s 296ms/step - loss: 0.1623 - acc: 0.9356 - val_loss: 0.0911 - val_acc: 0.9684\n",
      "\n",
      "Epoch 00079: val_acc did not improve from 0.97067\n",
      "Epoch 80/100\n",
      "136/136 [==============================] - 40s 295ms/step - loss: 0.1711 - acc: 0.9303 - val_loss: 0.1005 - val_acc: 0.9629\n",
      "\n",
      "Epoch 00080: val_acc did not improve from 0.97067\n",
      "Epoch 81/100\n",
      "136/136 [==============================] - 40s 296ms/step - loss: 0.1615 - acc: 0.9381 - val_loss: 0.0982 - val_acc: 0.9652\n",
      "\n",
      "Epoch 00081: val_acc did not improve from 0.97067\n",
      "Epoch 82/100\n",
      "136/136 [==============================] - 40s 296ms/step - loss: 0.1597 - acc: 0.9365 - val_loss: 0.0958 - val_acc: 0.9670\n"
     ]
    },
    {
     "name": "stdout",
     "output_type": "stream",
     "text": [
      "\n",
      "Epoch 00082: val_acc did not improve from 0.97067\n",
      "Epoch 83/100\n",
      "136/136 [==============================] - 40s 296ms/step - loss: 0.1542 - acc: 0.9398 - val_loss: 0.1057 - val_acc: 0.9629\n",
      "\n",
      "Epoch 00083: val_acc did not improve from 0.97067\n",
      "Epoch 84/100\n",
      "136/136 [==============================] - 40s 295ms/step - loss: 0.1528 - acc: 0.9391 - val_loss: 0.1108 - val_acc: 0.9610\n",
      "\n",
      "Epoch 00084: val_acc did not improve from 0.97067\n",
      "Epoch 85/100\n",
      "136/136 [==============================] - 40s 296ms/step - loss: 0.1547 - acc: 0.9396 - val_loss: 0.0908 - val_acc: 0.9675\n",
      "\n",
      "Epoch 00085: val_acc did not improve from 0.97067\n",
      "Epoch 86/100\n",
      "136/136 [==============================] - 40s 296ms/step - loss: 0.1535 - acc: 0.9384 - val_loss: 0.0823 - val_acc: 0.9693\n",
      "\n",
      "Epoch 00086: val_acc did not improve from 0.97067\n",
      "Epoch 87/100\n",
      "136/136 [==============================] - 40s 295ms/step - loss: 0.1662 - acc: 0.9336 - val_loss: 0.0856 - val_acc: 0.9684\n",
      "\n",
      "Epoch 00087: val_acc did not improve from 0.97067\n",
      "Epoch 88/100\n",
      "136/136 [==============================] - 40s 297ms/step - loss: 0.1480 - acc: 0.9406 - val_loss: 0.0941 - val_acc: 0.9665\n",
      "\n",
      "Epoch 00088: val_acc did not improve from 0.97067\n",
      "Epoch 89/100\n",
      "136/136 [==============================] - 40s 296ms/step - loss: 0.1557 - acc: 0.9396 - val_loss: 0.0954 - val_acc: 0.9670\n",
      "\n",
      "Epoch 00089: val_acc did not improve from 0.97067\n",
      "Epoch 90/100\n",
      "136/136 [==============================] - 40s 296ms/step - loss: 0.1657 - acc: 0.9362 - val_loss: 0.0812 - val_acc: 0.9693\n",
      "\n",
      "Epoch 00090: val_acc did not improve from 0.97067\n",
      "Epoch 91/100\n",
      "136/136 [==============================] - 40s 296ms/step - loss: 0.1498 - acc: 0.9401 - val_loss: 0.0996 - val_acc: 0.9652\n",
      "\n",
      "Epoch 00091: val_acc did not improve from 0.97067\n",
      "Epoch 92/100\n",
      "136/136 [==============================] - 40s 296ms/step - loss: 0.1440 - acc: 0.9413 - val_loss: 0.0932 - val_acc: 0.9675\n",
      "\n",
      "Epoch 00092: val_acc did not improve from 0.97067\n",
      "Epoch 93/100\n",
      "136/136 [==============================] - 40s 296ms/step - loss: 0.1547 - acc: 0.9393 - val_loss: 0.1123 - val_acc: 0.9592\n",
      "\n",
      "Epoch 00093: val_acc did not improve from 0.97067\n",
      "Epoch 94/100\n",
      "136/136 [==============================] - 40s 296ms/step - loss: 0.1425 - acc: 0.9439 - val_loss: 0.0940 - val_acc: 0.9661\n",
      "\n",
      "Epoch 00094: val_acc did not improve from 0.97067\n",
      "Epoch 95/100\n",
      "136/136 [==============================] - 40s 296ms/step - loss: 0.1534 - acc: 0.9415 - val_loss: 0.0872 - val_acc: 0.9670\n",
      "\n",
      "Epoch 00095: val_acc did not improve from 0.97067\n",
      "Epoch 96/100\n",
      "136/136 [==============================] - 40s 296ms/step - loss: 0.1510 - acc: 0.9414 - val_loss: 0.0838 - val_acc: 0.9665\n",
      "\n",
      "Epoch 00096: val_acc did not improve from 0.97067\n",
      "Epoch 97/100\n",
      "136/136 [==============================] - 40s 295ms/step - loss: 0.1450 - acc: 0.9414 - val_loss: 0.1207 - val_acc: 0.9537\n",
      "\n",
      "Epoch 00097: val_acc did not improve from 0.97067\n",
      "Epoch 98/100\n",
      "136/136 [==============================] - 40s 295ms/step - loss: 0.1488 - acc: 0.9426 - val_loss: 0.0989 - val_acc: 0.9610\n",
      "\n",
      "Epoch 00098: val_acc did not improve from 0.97067\n",
      "Epoch 99/100\n",
      "136/136 [==============================] - 40s 297ms/step - loss: 0.1503 - acc: 0.9392 - val_loss: 0.0894 - val_acc: 0.9684\n",
      "\n",
      "Epoch 00099: val_acc did not improve from 0.97067\n",
      "Epoch 100/100\n",
      "136/136 [==============================] - 40s 296ms/step - loss: 0.1465 - acc: 0.9417 - val_loss: 0.0913 - val_acc: 0.9661\n",
      "\n",
      "Epoch 00100: val_acc did not improve from 0.97067\n"
     ]
    }
   ],
   "source": [
    "# train the model\n",
    "x = model_final.fit_generator(aug.flow(trainX, trainY, batch_size=batch_size),\n",
    "                        validation_data=(testX,testY),\n",
    "                        steps_per_epoch=len(trainX) // batch_size,\n",
    "                        epochs=epochs, \n",
    "                        verbose=1, \n",
    "                        workers = 6, \n",
    "                        callbacks = [history, checkpoint], \n",
    "                        max_q_size = 100)"
   ]
  },
  {
   "cell_type": "code",
   "execution_count": 27,
   "metadata": {
    "scrolled": true
   },
   "outputs": [
    {
     "data": {
      "text/plain": [
       "dict_keys(['acc', 'loss', 'val_loss', 'val_acc'])"
      ]
     },
     "execution_count": 27,
     "metadata": {},
     "output_type": "execute_result"
    }
   ],
   "source": [
    "x.history.keys()"
   ]
  },
  {
   "cell_type": "code",
   "execution_count": null,
   "metadata": {},
   "outputs": [],
   "source": []
  },
  {
   "cell_type": "code",
   "execution_count": 28,
   "metadata": {},
   "outputs": [],
   "source": [
    "plt.rcParams['figure.figsize'] = (12,20)\n",
    "plt.style.use(\"seaborn\")"
   ]
  },
  {
   "cell_type": "code",
   "execution_count": 29,
   "metadata": {},
   "outputs": [
    {
     "data": {
      "image/png": "[encoded data removed]",
      "text/plain": [
       "<Figure size 576x396 with 1 Axes>"
      ]
     },
     "metadata": {},
     "output_type": "display_data"
    }
   ],
   "source": [
    "# plot training/validation loss/accuracy\n",
    "N = epochs\n",
    "plt.plot(np.arange(0,N), x.history[\"loss\"], label=\"train_loss\")\n",
    "plt.plot(np.arange(0,N), x.history[\"val_loss\"], label=\"val_loss\")\n",
    "plt.plot(np.arange(0,N), x.history[\"acc\"], label=\"train_acc\")\n",
    "plt.plot(np.arange(0,N), x.history[\"val_acc\"], label=\"val_acc\")\n",
    "\n",
    "plt.title(\"Training & Validation - Loss/Accuracy\")\n",
    "plt.xlabel(\"Epoch #\")\n",
    "plt.ylabel(\"Loss/Accuracy\")\n",
    "plt.legend(loc=\"center right\")\n",
    "plt.tight_layout()\n",
    "plt.show()"
   ]
  },
  {
   "cell_type": "code",
   "execution_count": 31,
   "metadata": {},
   "outputs": [
    {
     "data": {
      "image/png": "[encoded data removed]",
      "text/plain": [
       "<Figure size 576x396 with 1 Axes>"
      ]
     },
     "metadata": {},
     "output_type": "display_data"
    }
   ],
   "source": [
    "# summarize history for accuracy\n",
    "plt.plot(x.history['acc'])\n",
    "plt.plot(x.history['val_acc'])\n",
    "plt.title('Model Accuracy')\n",
    "plt.ylabel('Accuracy')\n",
    "plt.xlabel('Epoch #')\n",
    "plt.legend(['train', 'test'], loc='upper left')\n",
    "plt.tight_layout()\n",
    "plt.show()"
   ]
  },
  {
   "cell_type": "code",
   "execution_count": 32,
   "metadata": {},
   "outputs": [
    {
     "data": {
      "image/png": "[encoded data removed]",
      "text/plain": [
       "<Figure size 576x396 with 1 Axes>"
      ]
     },
     "metadata": {},
     "output_type": "display_data"
    }
   ],
   "source": [
    "# summarize history for loss\n",
    "plt.plot(x.history['loss'])\n",
    "plt.plot(x.history['val_loss'])\n",
    "plt.title('Model Loss')\n",
    "plt.ylabel('Loss')\n",
    "plt.xlabel('Epoch #')\n",
    "plt.legend(['train', 'test'], loc='upper left')\n",
    "plt.tight_layout()\n",
    "plt.show()"
   ]
  },
  {
   "cell_type": "code",
   "execution_count": null,
   "metadata": {},
   "outputs": [],
   "source": []
  },
  {
   "cell_type": "code",
   "execution_count": 33,
   "metadata": {
    "scrolled": true
   },
   "outputs": [
    {
     "name": "stdout",
     "output_type": "stream",
     "text": [
      "2182/2182 [==============================] - 8s 4ms/step\n",
      "Accuracy on test data: 0.966086159487\n"
     ]
    }
   ],
   "source": [
    "score = model_final.evaluate(testX, testY)\n",
    "print(\"Accuracy on test data:\", score[1])"
   ]
  },
  {
   "cell_type": "code",
   "execution_count": 34,
   "metadata": {},
   "outputs": [],
   "source": [
    "# Save loss history to file\n",
    "loss_history_path = os.path.join('Detection\\\\Models', 'loss_history_transfer_vgg19_2.log')\n",
    "myFile = open(loss_history_path, 'w+')\n",
    "myFile.write(history.losses)\n",
    "myFile.close()"
   ]
  },
  {
   "cell_type": "code",
   "execution_count": 35,
   "metadata": {},
   "outputs": [],
   "source": [
    "backend.clear_session()"
   ]
  },
  {
   "cell_type": "code",
   "execution_count": null,
   "metadata": {},
   "outputs": [],
   "source": []
  },
  {
   "cell_type": "code",
   "execution_count": null,
   "metadata": {},
   "outputs": [],
   "source": []
  },
  {
   "cell_type": "code",
   "execution_count": null,
   "metadata": {},
   "outputs": [],
   "source": []
  }
 ],
 "metadata": {
  "kernelspec": {
   "display_name": "Python 3",
   "language": "python",
   "name": "python3"
  },
  "language_info": {
   "codemirror_mode": {
    "name": "ipython",
    "version": 3
   },
   "file_extension": ".py",
   "mimetype": "text/x-python",
   "name": "python",
   "nbconvert_exporter": "python",
   "pygments_lexer": "ipython3",
   "version": "3.5.5"
  }
 },
 "nbformat": 4,
 "nbformat_minor": 2
}
