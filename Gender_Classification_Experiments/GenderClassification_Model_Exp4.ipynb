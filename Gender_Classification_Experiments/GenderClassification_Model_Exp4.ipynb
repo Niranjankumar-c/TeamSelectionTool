{
 "cells": [
  {
   "cell_type": "code",
   "execution_count": 1,
   "metadata": {},
   "outputs": [
    {
     "name": "stderr",
     "output_type": "stream",
     "text": [
      "Using TensorFlow backend.\n"
     ]
    }
   ],
   "source": [
    "#importing the required packages\n",
    "import os\n",
    "import matplotlib.pyplot as plt\n",
    "import numpy as np\n",
    "from keras import backend\n",
    "import argparse\n",
    "import random\n",
    "import cv2\n",
    "import glob"
   ]
  },
  {
   "cell_type": "code",
   "execution_count": 2,
   "metadata": {},
   "outputs": [],
   "source": [
    "from keras.models import Sequential\n",
    "from keras.layers import Conv2D, MaxPooling2D, Flatten, Dense, Dropout\n",
    "from keras.optimizers import Adam, SGD\n",
    "from keras.preprocessing.image import ImageDataGenerator\n",
    "from keras.callbacks import Callback, ModelCheckpoint\n",
    "from keras.layers.normalization import BatchNormalization\n",
    "from keras.layers.core import Activation\n",
    "from keras.preprocessing.image import img_to_array\n",
    "from keras.utils import to_categorical\n",
    "from sklearn.model_selection import train_test_split"
   ]
  },
  {
   "cell_type": "code",
   "execution_count": 3,
   "metadata": {},
   "outputs": [],
   "source": [
    "from keras import applications\n",
    "from keras import Model"
   ]
  },
  {
   "cell_type": "code",
   "execution_count": null,
   "metadata": {},
   "outputs": [],
   "source": []
  },
  {
   "cell_type": "code",
   "execution_count": 4,
   "metadata": {},
   "outputs": [],
   "source": [
    "dataset_path = \"Data\\\\gender_dataset_face\"\n",
    "img_dims = (96,96,3)\n",
    "data = []\n",
    "labels = []"
   ]
  },
  {
   "cell_type": "code",
   "execution_count": 5,
   "metadata": {},
   "outputs": [],
   "source": [
    "# load image files from the dataset\n",
    "random.seed(42)\n",
    "image_files = [f for f in glob.glob(dataset_path + \"/**/*\", recursive=True) if not os.path.isdir(f)]\n",
    "random.shuffle(image_files)"
   ]
  },
  {
   "cell_type": "code",
   "execution_count": 6,
   "metadata": {},
   "outputs": [],
   "source": [
    "# create groud-truth label from the image path\n",
    "for img in image_files:\n",
    "\n",
    "    image = cv2.imread(img)\n",
    "    \n",
    "    image = cv2.resize(image, (img_dims[0],img_dims[1]))\n",
    "    image = img_to_array(image)\n",
    "    data.append(image)\n",
    "\n",
    "    label = img.split(os.path.sep)[-2]\n",
    "    if label == \"woman\":\n",
    "        label = 1\n",
    "    else:\n",
    "        label = 0\n",
    "        \n",
    "    labels.append([label])"
   ]
  },
  {
   "cell_type": "code",
   "execution_count": 8,
   "metadata": {},
   "outputs": [
    {
     "name": "stdout",
     "output_type": "stream",
     "text": [
      "10218\n",
      "10218\n"
     ]
    }
   ],
   "source": [
    "print(len(data))\n",
    "print(len(labels))"
   ]
  },
  {
   "cell_type": "code",
   "execution_count": 9,
   "metadata": {
    "scrolled": true
   },
   "outputs": [],
   "source": [
    "# pre-processing\n",
    "data = np.array(data, dtype=\"float\") / 255.0\n",
    "labels = np.array(labels)\n",
    "\n",
    "# split dataset for training and validation\n",
    "(trainX, testX, trainY, testY) = train_test_split(data, labels, test_size=0.2,\n",
    "                                                  random_state=42)\n",
    "trainY = to_categorical(trainY, num_classes=2)\n",
    "testY = to_categorical(testY, num_classes=2)"
   ]
  },
  {
   "cell_type": "code",
   "execution_count": 10,
   "metadata": {},
   "outputs": [],
   "source": [
    "# augmenting datset \n",
    "aug = ImageDataGenerator(rotation_range=25, \n",
    "                         width_shift_range=0.1,\n",
    "                         height_shift_range=0.1, \n",
    "                         shear_range=0.2, \n",
    "                         zoom_range=0.2,\n",
    "                         horizontal_flip=True, \n",
    "                         fill_mode=\"nearest\")"
   ]
  },
  {
   "cell_type": "code",
   "execution_count": 11,
   "metadata": {},
   "outputs": [
    {
     "name": "stdout",
     "output_type": "stream",
     "text": [
      "training x length:  8174\n",
      "testing x length:  2044\n"
     ]
    }
   ],
   "source": [
    "print(\"training x length: \", len(trainX))\n",
    "print(\"testing x length: \", len(testY))"
   ]
  },
  {
   "cell_type": "code",
   "execution_count": null,
   "metadata": {},
   "outputs": [],
   "source": []
  },
  {
   "cell_type": "code",
   "execution_count": 12,
   "metadata": {},
   "outputs": [],
   "source": [
    "# initial parameters\n",
    "epochs = 100\n",
    "lr_rate = 0.0001\n",
    "batch_size = 64\n",
    "drop_out = 0.15"
   ]
  },
  {
   "cell_type": "code",
   "execution_count": null,
   "metadata": {},
   "outputs": [],
   "source": []
  },
  {
   "cell_type": "markdown",
   "metadata": {},
   "source": [
    "## VGG 19"
   ]
  },
  {
   "cell_type": "code",
   "execution_count": 13,
   "metadata": {},
   "outputs": [],
   "source": [
    "#Creating a function for saving the model at each epoch end\n",
    "class LossHistory(Callback):\n",
    "    def __init__(self):\n",
    "        super().__init__()\n",
    "        self.epoch_id = 0\n",
    "        self.losses = ''\n",
    " \n",
    "    def on_epoch_end(self, epoch, logs={}):\n",
    "        self.losses += \"Epoch {}: accuracy -> {:.3f}, val_accuracy -> {:.3f}\\n\"\\\n",
    "            .format(str(self.epoch_id), logs.get('acc'), logs.get('val_acc'))\n",
    "        self.epoch_id += 1\n",
    " \n",
    "    def on_train_begin(self, logs={}):\n",
    "        self.losses += 'Training begins...\\n'"
   ]
  },
  {
   "cell_type": "code",
   "execution_count": 14,
   "metadata": {
    "scrolled": true
   },
   "outputs": [],
   "source": [
    "model = applications.VGG19(weights = \"imagenet\", include_top=False, input_shape = (img_dims[0], img_dims[1], 3))"
   ]
  },
  {
   "cell_type": "code",
   "execution_count": 15,
   "metadata": {
    "scrolled": true
   },
   "outputs": [
    {
     "name": "stdout",
     "output_type": "stream",
     "text": [
      "_________________________________________________________________\n",
      "Layer (type)                 Output Shape              Param #   \n",
      "=================================================================\n",
      "input_1 (InputLayer)         (None, 96, 96, 3)         0         \n",
      "_________________________________________________________________\n",
      "block1_conv1 (Conv2D)        (None, 96, 96, 64)        1792      \n",
      "_________________________________________________________________\n",
      "block1_conv2 (Conv2D)        (None, 96, 96, 64)        36928     \n",
      "_________________________________________________________________\n",
      "block1_pool (MaxPooling2D)   (None, 48, 48, 64)        0         \n",
      "_________________________________________________________________\n",
      "block2_conv1 (Conv2D)        (None, 48, 48, 128)       73856     \n",
      "_________________________________________________________________\n",
      "block2_conv2 (Conv2D)        (None, 48, 48, 128)       147584    \n",
      "_________________________________________________________________\n",
      "block2_pool (MaxPooling2D)   (None, 24, 24, 128)       0         \n",
      "_________________________________________________________________\n",
      "block3_conv1 (Conv2D)        (None, 24, 24, 256)       295168    \n",
      "_________________________________________________________________\n",
      "block3_conv2 (Conv2D)        (None, 24, 24, 256)       590080    \n",
      "_________________________________________________________________\n",
      "block3_conv3 (Conv2D)        (None, 24, 24, 256)       590080    \n",
      "_________________________________________________________________\n",
      "block3_conv4 (Conv2D)        (None, 24, 24, 256)       590080    \n",
      "_________________________________________________________________\n",
      "block3_pool (MaxPooling2D)   (None, 12, 12, 256)       0         \n",
      "_________________________________________________________________\n",
      "block4_conv1 (Conv2D)        (None, 12, 12, 512)       1180160   \n",
      "_________________________________________________________________\n",
      "block4_conv2 (Conv2D)        (None, 12, 12, 512)       2359808   \n",
      "_________________________________________________________________\n",
      "block4_conv3 (Conv2D)        (None, 12, 12, 512)       2359808   \n",
      "_________________________________________________________________\n",
      "block4_conv4 (Conv2D)        (None, 12, 12, 512)       2359808   \n",
      "_________________________________________________________________\n",
      "block4_pool (MaxPooling2D)   (None, 6, 6, 512)         0         \n",
      "_________________________________________________________________\n",
      "block5_conv1 (Conv2D)        (None, 6, 6, 512)         2359808   \n",
      "_________________________________________________________________\n",
      "block5_conv2 (Conv2D)        (None, 6, 6, 512)         2359808   \n",
      "_________________________________________________________________\n",
      "block5_conv3 (Conv2D)        (None, 6, 6, 512)         2359808   \n",
      "_________________________________________________________________\n",
      "block5_conv4 (Conv2D)        (None, 6, 6, 512)         2359808   \n",
      "_________________________________________________________________\n",
      "block5_pool (MaxPooling2D)   (None, 3, 3, 512)         0         \n",
      "=================================================================\n",
      "Total params: 20,024,384\n",
      "Trainable params: 20,024,384\n",
      "Non-trainable params: 0\n",
      "_________________________________________________________________\n"
     ]
    }
   ],
   "source": [
    "model.summary()"
   ]
  },
  {
   "cell_type": "code",
   "execution_count": 17,
   "metadata": {},
   "outputs": [
    {
     "data": {
      "text/plain": [
       "22"
      ]
     },
     "execution_count": 17,
     "metadata": {},
     "output_type": "execute_result"
    }
   ],
   "source": [
    "len(model.layers)"
   ]
  },
  {
   "cell_type": "code",
   "execution_count": 18,
   "metadata": {},
   "outputs": [],
   "source": [
    "for layer in model.layers:\n",
    "    layer.trainable = False"
   ]
  },
  {
   "cell_type": "code",
   "execution_count": 19,
   "metadata": {},
   "outputs": [],
   "source": [
    "#Adding custom Layers \n",
    "x = model.output\n",
    "x = Flatten()(x)\n",
    "x = Dense(4096, activation=\"relu\")(x)\n",
    "x = BatchNormalization()(x)\n",
    "x = Dropout(0.5)(x)\n",
    "x = Dense(4096, activation=\"relu\")(x)\n",
    "predictions = Dense(2, activation=\"softmax\")(x)"
   ]
  },
  {
   "cell_type": "code",
   "execution_count": 20,
   "metadata": {},
   "outputs": [
    {
     "name": "stderr",
     "output_type": "stream",
     "text": [
      "C:\\Users\\NiranjanKumar\\Anaconda3\\envs\\deepbackup\\lib\\site-packages\\ipykernel_launcher.py:2: UserWarning: Update your `Model` call to the Keras 2 API: `Model(outputs=Tensor(\"de..., inputs=Tensor(\"in...)`\n",
      "  \n"
     ]
    }
   ],
   "source": [
    "# creating the final model \n",
    "model_final = Model(input = model.input, output = predictions)"
   ]
  },
  {
   "cell_type": "code",
   "execution_count": 21,
   "metadata": {},
   "outputs": [],
   "source": [
    "# compile the model \n",
    "model_final.compile(loss = \"binary_crossentropy\", optimizer = SGD(lr=lr_rate, momentum=0.9), metrics=[\"accuracy\"])"
   ]
  },
  {
   "cell_type": "code",
   "execution_count": 22,
   "metadata": {
    "scrolled": true
   },
   "outputs": [
    {
     "name": "stdout",
     "output_type": "stream",
     "text": [
      "_________________________________________________________________\n",
      "Layer (type)                 Output Shape              Param #   \n",
      "=================================================================\n",
      "input_1 (InputLayer)         (None, 96, 96, 3)         0         \n",
      "_________________________________________________________________\n",
      "block1_conv1 (Conv2D)        (None, 96, 96, 64)        1792      \n",
      "_________________________________________________________________\n",
      "block1_conv2 (Conv2D)        (None, 96, 96, 64)        36928     \n",
      "_________________________________________________________________\n",
      "block1_pool (MaxPooling2D)   (None, 48, 48, 64)        0         \n",
      "_________________________________________________________________\n",
      "block2_conv1 (Conv2D)        (None, 48, 48, 128)       73856     \n",
      "_________________________________________________________________\n",
      "block2_conv2 (Conv2D)        (None, 48, 48, 128)       147584    \n",
      "_________________________________________________________________\n",
      "block2_pool (MaxPooling2D)   (None, 24, 24, 128)       0         \n",
      "_________________________________________________________________\n",
      "block3_conv1 (Conv2D)        (None, 24, 24, 256)       295168    \n",
      "_________________________________________________________________\n",
      "block3_conv2 (Conv2D)        (None, 24, 24, 256)       590080    \n",
      "_________________________________________________________________\n",
      "block3_conv3 (Conv2D)        (None, 24, 24, 256)       590080    \n",
      "_________________________________________________________________\n",
      "block3_conv4 (Conv2D)        (None, 24, 24, 256)       590080    \n",
      "_________________________________________________________________\n",
      "block3_pool (MaxPooling2D)   (None, 12, 12, 256)       0         \n",
      "_________________________________________________________________\n",
      "block4_conv1 (Conv2D)        (None, 12, 12, 512)       1180160   \n",
      "_________________________________________________________________\n",
      "block4_conv2 (Conv2D)        (None, 12, 12, 512)       2359808   \n",
      "_________________________________________________________________\n",
      "block4_conv3 (Conv2D)        (None, 12, 12, 512)       2359808   \n",
      "_________________________________________________________________\n",
      "block4_conv4 (Conv2D)        (None, 12, 12, 512)       2359808   \n",
      "_________________________________________________________________\n",
      "block4_pool (MaxPooling2D)   (None, 6, 6, 512)         0         \n",
      "_________________________________________________________________\n",
      "block5_conv1 (Conv2D)        (None, 6, 6, 512)         2359808   \n",
      "_________________________________________________________________\n",
      "block5_conv2 (Conv2D)        (None, 6, 6, 512)         2359808   \n",
      "_________________________________________________________________\n",
      "block5_conv3 (Conv2D)        (None, 6, 6, 512)         2359808   \n",
      "_________________________________________________________________\n",
      "block5_conv4 (Conv2D)        (None, 6, 6, 512)         2359808   \n",
      "_________________________________________________________________\n",
      "block5_pool (MaxPooling2D)   (None, 3, 3, 512)         0         \n",
      "_________________________________________________________________\n",
      "flatten_1 (Flatten)          (None, 4608)              0         \n",
      "_________________________________________________________________\n",
      "dense_1 (Dense)              (None, 4096)              18878464  \n",
      "_________________________________________________________________\n",
      "batch_normalization_1 (Batch (None, 4096)              16384     \n",
      "_________________________________________________________________\n",
      "dropout_1 (Dropout)          (None, 4096)              0         \n",
      "_________________________________________________________________\n",
      "dense_2 (Dense)              (None, 4096)              16781312  \n",
      "_________________________________________________________________\n",
      "dense_3 (Dense)              (None, 2)                 8194      \n",
      "=================================================================\n",
      "Total params: 55,708,738\n",
      "Trainable params: 35,676,162\n",
      "Non-trainable params: 20,032,576\n",
      "_________________________________________________________________\n"
     ]
    }
   ],
   "source": [
    "#summary of final model\n",
    "model_final.summary()"
   ]
  },
  {
   "cell_type": "code",
   "execution_count": 23,
   "metadata": {},
   "outputs": [],
   "source": [
    "# Save the model according to the conditions  \n",
    "checkpoint = ModelCheckpoint(filepath = os.path.join('Detection\\\\Models', 'vgg19_1.h5'), monitor='val_acc', verbose=1, \n",
    "                             save_best_only=True, save_weights_only=False, mode='auto', period=1)"
   ]
  },
  {
   "cell_type": "code",
   "execution_count": 24,
   "metadata": {},
   "outputs": [],
   "source": [
    "# Create a loss history \n",
    "#saving to text file\n",
    "history = LossHistory()"
   ]
  },
  {
   "cell_type": "code",
   "execution_count": 25,
   "metadata": {
    "scrolled": true
   },
   "outputs": [
    {
     "name": "stderr",
     "output_type": "stream",
     "text": [
      "C:\\Users\\NiranjanKumar\\Anaconda3\\envs\\deepbackup\\lib\\site-packages\\ipykernel_launcher.py:9: UserWarning: Update your `fit_generator` call to the Keras 2 API: `fit_generator(<keras_pre..., steps_per_epoch=127, max_queue_size=100, workers=6, validation_data=(array([[[..., verbose=1, callbacks=[<__main__..., epochs=100)`\n",
      "  if __name__ == '__main__':\n"
     ]
    },
    {
     "name": "stdout",
     "output_type": "stream",
     "text": [
      "Epoch 1/100\n",
      "127/127 [==============================] - 84s 665ms/step - loss: 0.5652 - acc: 0.7231 - val_loss: 0.3445 - val_acc: 0.8444\n",
      "\n",
      "Epoch 00001: val_acc improved from -inf to 0.84442, saving model to Detection\\Models\\vgg19_1.h5\n",
      "Epoch 2/100\n",
      "127/127 [==============================] - 31s 243ms/step - loss: 0.4125 - acc: 0.8116 - val_loss: 0.3364 - val_acc: 0.8439\n",
      "\n",
      "Epoch 00002: val_acc did not improve from 0.84442\n",
      "Epoch 3/100\n",
      "127/127 [==============================] - 31s 244ms/step - loss: 0.3984 - acc: 0.8189 - val_loss: 0.2926 - val_acc: 0.8620\n",
      "\n",
      "Epoch 00003: val_acc improved from 0.84442 to 0.86204, saving model to Detection\\Models\\vgg19_1.h5\n",
      "Epoch 4/100\n",
      "127/127 [==============================] - 31s 244ms/step - loss: 0.3621 - acc: 0.8330 - val_loss: 0.2807 - val_acc: 0.8689\n",
      "\n",
      "Epoch 00004: val_acc improved from 0.86204 to 0.86888, saving model to Detection\\Models\\vgg19_1.h5\n",
      "Epoch 5/100\n",
      "127/127 [==============================] - 31s 244ms/step - loss: 0.3516 - acc: 0.8469 - val_loss: 0.2719 - val_acc: 0.8708\n",
      "\n",
      "Epoch 00005: val_acc improved from 0.86888 to 0.87084, saving model to Detection\\Models\\vgg19_1.h5\n",
      "Epoch 6/100\n",
      "127/127 [==============================] - 31s 244ms/step - loss: 0.3432 - acc: 0.8486 - val_loss: 0.2606 - val_acc: 0.8777\n",
      "\n",
      "Epoch 00006: val_acc improved from 0.87084 to 0.87769, saving model to Detection\\Models\\vgg19_1.h5\n",
      "Epoch 7/100\n",
      "127/127 [==============================] - 31s 244ms/step - loss: 0.3242 - acc: 0.8573 - val_loss: 0.2646 - val_acc: 0.8767\n",
      "\n",
      "Epoch 00007: val_acc did not improve from 0.87769\n",
      "Epoch 8/100\n",
      "127/127 [==============================] - 31s 244ms/step - loss: 0.3102 - acc: 0.8690 - val_loss: 0.2567 - val_acc: 0.8850\n",
      "\n",
      "Epoch 00008: val_acc improved from 0.87769 to 0.88503, saving model to Detection\\Models\\vgg19_1.h5\n",
      "Epoch 9/100\n",
      "127/127 [==============================] - 31s 244ms/step - loss: 0.3268 - acc: 0.8582 - val_loss: 0.2547 - val_acc: 0.8855\n",
      "\n",
      "Epoch 00009: val_acc improved from 0.88503 to 0.88552, saving model to Detection\\Models\\vgg19_1.h5\n",
      "Epoch 10/100\n",
      "127/127 [==============================] - 31s 245ms/step - loss: 0.3066 - acc: 0.8654 - val_loss: 0.2459 - val_acc: 0.8938\n",
      "\n",
      "Epoch 00010: val_acc improved from 0.88552 to 0.89384, saving model to Detection\\Models\\vgg19_1.h5\n",
      "Epoch 11/100\n",
      "127/127 [==============================] - 31s 244ms/step - loss: 0.3030 - acc: 0.8688 - val_loss: 0.2406 - val_acc: 0.8977\n",
      "\n",
      "Epoch 00011: val_acc improved from 0.89384 to 0.89775, saving model to Detection\\Models\\vgg19_1.h5\n",
      "Epoch 12/100\n",
      "127/127 [==============================] - 31s 244ms/step - loss: 0.2984 - acc: 0.8724 - val_loss: 0.2368 - val_acc: 0.8977\n",
      "\n",
      "Epoch 00012: val_acc did not improve from 0.89775\n",
      "Epoch 13/100\n",
      "127/127 [==============================] - 31s 245ms/step - loss: 0.2979 - acc: 0.8721 - val_loss: 0.2377 - val_acc: 0.8938\n",
      "\n",
      "Epoch 00013: val_acc did not improve from 0.89775\n",
      "Epoch 14/100\n",
      "127/127 [==============================] - 31s 245ms/step - loss: 0.2937 - acc: 0.8772 - val_loss: 0.2400 - val_acc: 0.8914\n",
      "\n",
      "Epoch 00014: val_acc did not improve from 0.89775\n",
      "Epoch 15/100\n",
      "127/127 [==============================] - 31s 244ms/step - loss: 0.2830 - acc: 0.8803 - val_loss: 0.2280 - val_acc: 0.9007\n",
      "\n",
      "Epoch 00015: val_acc improved from 0.89775 to 0.90068, saving model to Detection\\Models\\vgg19_1.h5\n",
      "Epoch 16/100\n",
      "127/127 [==============================] - 31s 245ms/step - loss: 0.2910 - acc: 0.8711 - val_loss: 0.2191 - val_acc: 0.9051\n",
      "\n",
      "Epoch 00016: val_acc improved from 0.90068 to 0.90509, saving model to Detection\\Models\\vgg19_1.h5\n",
      "Epoch 17/100\n",
      "127/127 [==============================] - 31s 245ms/step - loss: 0.2817 - acc: 0.8795 - val_loss: 0.2213 - val_acc: 0.9012\n",
      "\n",
      "Epoch 00017: val_acc did not improve from 0.90509\n",
      "Epoch 18/100\n",
      "127/127 [==============================] - 31s 245ms/step - loss: 0.2768 - acc: 0.8827 - val_loss: 0.2166 - val_acc: 0.9056\n",
      "\n",
      "Epoch 00018: val_acc improved from 0.90509 to 0.90558, saving model to Detection\\Models\\vgg19_1.h5\n",
      "Epoch 19/100\n",
      "127/127 [==============================] - 31s 245ms/step - loss: 0.2874 - acc: 0.8780 - val_loss: 0.2221 - val_acc: 0.9046\n",
      "\n",
      "Epoch 00019: val_acc did not improve from 0.90558\n",
      "Epoch 20/100\n",
      "127/127 [==============================] - 31s 246ms/step - loss: 0.2773 - acc: 0.8819 - val_loss: 0.2190 - val_acc: 0.9061\n",
      "\n",
      "Epoch 00020: val_acc improved from 0.90558 to 0.90607, saving model to Detection\\Models\\vgg19_1.h5\n",
      "Epoch 21/100\n",
      "127/127 [==============================] - 31s 246ms/step - loss: 0.2710 - acc: 0.8854 - val_loss: 0.2120 - val_acc: 0.9075\n",
      "\n",
      "Epoch 00021: val_acc improved from 0.90607 to 0.90753, saving model to Detection\\Models\\vgg19_1.h5\n",
      "Epoch 22/100\n",
      "127/127 [==============================] - 31s 246ms/step - loss: 0.2757 - acc: 0.8841 - val_loss: 0.2057 - val_acc: 0.9129\n",
      "\n",
      "Epoch 00022: val_acc improved from 0.90753 to 0.91292, saving model to Detection\\Models\\vgg19_1.h5\n",
      "Epoch 23/100\n",
      "127/127 [==============================] - 31s 246ms/step - loss: 0.2649 - acc: 0.8891 - val_loss: 0.2107 - val_acc: 0.9119\n",
      "\n",
      "Epoch 00023: val_acc did not improve from 0.91292\n",
      "Epoch 24/100\n",
      "127/127 [==============================] - 31s 246ms/step - loss: 0.2649 - acc: 0.8868 - val_loss: 0.2149 - val_acc: 0.9090\n",
      "\n",
      "Epoch 00024: val_acc did not improve from 0.91292\n",
      "Epoch 25/100\n",
      "127/127 [==============================] - 31s 246ms/step - loss: 0.2643 - acc: 0.8872 - val_loss: 0.2077 - val_acc: 0.9134\n",
      "\n",
      "Epoch 00025: val_acc improved from 0.91292 to 0.91341, saving model to Detection\\Models\\vgg19_1.h5\n",
      "Epoch 26/100\n",
      "127/127 [==============================] - 31s 247ms/step - loss: 0.2583 - acc: 0.8872 - val_loss: 0.2118 - val_acc: 0.9085\n",
      "\n",
      "Epoch 00026: val_acc did not improve from 0.91341\n",
      "Epoch 27/100\n",
      "127/127 [==============================] - 31s 246ms/step - loss: 0.2657 - acc: 0.8865 - val_loss: 0.2054 - val_acc: 0.9090\n",
      "\n",
      "Epoch 00027: val_acc did not improve from 0.91341\n",
      "Epoch 28/100\n",
      "127/127 [==============================] - 31s 246ms/step - loss: 0.2589 - acc: 0.8889 - val_loss: 0.2049 - val_acc: 0.9134ss: 0.2597 - acc: 0.888\n",
      "\n",
      "Epoch 00028: val_acc improved from 0.91341 to 0.91341, saving model to Detection\\Models\\vgg19_1.h5\n",
      "Epoch 29/100\n",
      "127/127 [==============================] - 31s 246ms/step - loss: 0.2581 - acc: 0.8940 - val_loss: 0.2024 - val_acc: 0.9105\n",
      "\n",
      "Epoch 00029: val_acc did not improve from 0.91341\n",
      "Epoch 30/100\n",
      "127/127 [==============================] - 31s 247ms/step - loss: 0.2484 - acc: 0.8944 - val_loss: 0.2017 - val_acc: 0.9114\n",
      "\n",
      "Epoch 00030: val_acc did not improve from 0.91341\n",
      "Epoch 31/100\n",
      "127/127 [==============================] - 31s 246ms/step - loss: 0.2604 - acc: 0.8902 - val_loss: 0.2031 - val_acc: 0.9134\n",
      "\n",
      "Epoch 00031: val_acc did not improve from 0.91341\n",
      "Epoch 32/100\n",
      "127/127 [==============================] - 31s 246ms/step - loss: 0.2527 - acc: 0.8924 - val_loss: 0.2017 - val_acc: 0.9114\n",
      "\n",
      "Epoch 00032: val_acc did not improve from 0.91341\n",
      "Epoch 33/100\n",
      "127/127 [==============================] - 31s 246ms/step - loss: 0.2535 - acc: 0.8926 - val_loss: 0.2015 - val_acc: 0.9159\n",
      "\n",
      "Epoch 00033: val_acc improved from 0.91341 to 0.91585, saving model to Detection\\Models\\vgg19_1.h5\n",
      "Epoch 34/100\n",
      "127/127 [==============================] - 31s 246ms/step - loss: 0.2448 - acc: 0.8937 - val_loss: 0.1996 - val_acc: 0.9129\n",
      "\n",
      "Epoch 00034: val_acc did not improve from 0.91585\n",
      "Epoch 35/100\n",
      "127/127 [==============================] - 31s 246ms/step - loss: 0.2519 - acc: 0.8927 - val_loss: 0.1965 - val_acc: 0.9217\n",
      "\n",
      "Epoch 00035: val_acc improved from 0.91585 to 0.92172, saving model to Detection\\Models\\vgg19_1.h5\n",
      "Epoch 36/100\n",
      "127/127 [==============================] - 31s 247ms/step - loss: 0.2565 - acc: 0.8904 - val_loss: 0.2005 - val_acc: 0.9154\n",
      "\n",
      "Epoch 00036: val_acc did not improve from 0.92172\n",
      "Epoch 37/100\n",
      "127/127 [==============================] - 31s 246ms/step - loss: 0.2436 - acc: 0.9001 - val_loss: 0.1982 - val_acc: 0.9173\n",
      "\n",
      "Epoch 00037: val_acc did not improve from 0.92172\n",
      "Epoch 38/100\n",
      "127/127 [==============================] - 31s 246ms/step - loss: 0.2388 - acc: 0.9001 - val_loss: 0.2010 - val_acc: 0.9139\n",
      "\n",
      "Epoch 00038: val_acc did not improve from 0.92172\n",
      "Epoch 39/100\n",
      "127/127 [==============================] - 31s 247ms/step - loss: 0.2390 - acc: 0.8986 - val_loss: 0.1945 - val_acc: 0.9173\n"
     ]
    },
    {
     "name": "stdout",
     "output_type": "stream",
     "text": [
      "\n",
      "Epoch 00039: val_acc did not improve from 0.92172\n",
      "Epoch 40/100\n",
      "127/127 [==============================] - 31s 246ms/step - loss: 0.2404 - acc: 0.9003 - val_loss: 0.1939 - val_acc: 0.9159\n",
      "\n",
      "Epoch 00040: val_acc did not improve from 0.92172\n",
      "Epoch 41/100\n",
      "127/127 [==============================] - 31s 247ms/step - loss: 0.2358 - acc: 0.9000 - val_loss: 0.1953 - val_acc: 0.9119357\n",
      "\n",
      "Epoch 00041: val_acc did not improve from 0.92172\n",
      "Epoch 42/100\n",
      "127/127 [==============================] - 31s 247ms/step - loss: 0.2404 - acc: 0.9006 - val_loss: 0.1934 - val_acc: 0.9173\n",
      "\n",
      "Epoch 00042: val_acc did not improve from 0.92172\n",
      "Epoch 43/100\n",
      "127/127 [==============================] - 31s 247ms/step - loss: 0.2407 - acc: 0.8976 - val_loss: 0.1907 - val_acc: 0.9159\n",
      "\n",
      "Epoch 00043: val_acc did not improve from 0.92172\n",
      "Epoch 44/100\n",
      "127/127 [==============================] - 31s 246ms/step - loss: 0.2406 - acc: 0.8991 - val_loss: 0.1898 - val_acc: 0.9168\n",
      "\n",
      "Epoch 00044: val_acc did not improve from 0.92172\n",
      "Epoch 45/100\n",
      "127/127 [==============================] - 31s 246ms/step - loss: 0.2374 - acc: 0.8968 - val_loss: 0.1918 - val_acc: 0.9134\n",
      "\n",
      "Epoch 00045: val_acc did not improve from 0.92172\n",
      "Epoch 46/100\n",
      "127/127 [==============================] - 31s 246ms/step - loss: 0.2328 - acc: 0.9022 - val_loss: 0.1869 - val_acc: 0.9173\n",
      "\n",
      "Epoch 00046: val_acc did not improve from 0.92172\n",
      "Epoch 47/100\n",
      "127/127 [==============================] - 31s 246ms/step - loss: 0.2323 - acc: 0.9022 - val_loss: 0.1913 - val_acc: 0.9168s - loss: 0.231\n",
      "\n",
      "Epoch 00047: val_acc did not improve from 0.92172\n",
      "Epoch 48/100\n",
      "127/127 [==============================] - 31s 246ms/step - loss: 0.2376 - acc: 0.9005 - val_loss: 0.1888 - val_acc: 0.9198\n",
      "\n",
      "Epoch 00048: val_acc did not improve from 0.92172\n",
      "Epoch 49/100\n",
      "127/127 [==============================] - 31s 246ms/step - loss: 0.2339 - acc: 0.9010 - val_loss: 0.1897 - val_acc: 0.9159\n",
      "\n",
      "Epoch 00049: val_acc did not improve from 0.92172\n",
      "Epoch 50/100\n",
      "127/127 [==============================] - 31s 247ms/step - loss: 0.2442 - acc: 0.8945 - val_loss: 0.1910 - val_acc: 0.9193\n",
      "\n",
      "Epoch 00050: val_acc did not improve from 0.92172\n",
      "Epoch 51/100\n",
      "127/127 [==============================] - 31s 246ms/step - loss: 0.2311 - acc: 0.9072 - val_loss: 0.1913 - val_acc: 0.9178\n",
      "\n",
      "Epoch 00051: val_acc did not improve from 0.92172\n",
      "Epoch 52/100\n",
      "127/127 [==============================] - 31s 246ms/step - loss: 0.2359 - acc: 0.9010 - val_loss: 0.1869 - val_acc: 0.9203\n",
      "\n",
      "Epoch 00052: val_acc did not improve from 0.92172\n",
      "Epoch 53/100\n",
      "127/127 [==============================] - 31s 247ms/step - loss: 0.2243 - acc: 0.9066 - val_loss: 0.1884 - val_acc: 0.9159\n",
      "\n",
      "Epoch 00053: val_acc did not improve from 0.92172\n",
      "Epoch 54/100\n",
      "127/127 [==============================] - 31s 246ms/step - loss: 0.2279 - acc: 0.9033 - val_loss: 0.1870 - val_acc: 0.9222\n",
      "\n",
      "Epoch 00054: val_acc improved from 0.92172 to 0.92221, saving model to Detection\\Models\\vgg19_1.h5\n",
      "Epoch 55/100\n",
      "127/127 [==============================] - 31s 246ms/step - loss: 0.2290 - acc: 0.9052 - val_loss: 0.1858 - val_acc: 0.9193\n",
      "\n",
      "Epoch 00055: val_acc did not improve from 0.92221\n",
      "Epoch 56/100\n",
      "127/127 [==============================] - 31s 246ms/step - loss: 0.2333 - acc: 0.9012 - val_loss: 0.1864 - val_acc: 0.9178\n",
      "\n",
      "Epoch 00056: val_acc did not improve from 0.92221\n",
      "Epoch 57/100\n",
      "127/127 [==============================] - 31s 247ms/step - loss: 0.2227 - acc: 0.9083 - val_loss: 0.1851 - val_acc: 0.9183\n",
      "\n",
      "Epoch 00057: val_acc did not improve from 0.92221\n",
      "Epoch 58/100\n",
      "127/127 [==============================] - 31s 246ms/step - loss: 0.2281 - acc: 0.9012 - val_loss: 0.1869 - val_acc: 0.9159\n",
      "\n",
      "Epoch 00058: val_acc did not improve from 0.92221\n",
      "Epoch 59/100\n",
      "127/127 [==============================] - 31s 246ms/step - loss: 0.2225 - acc: 0.9070 - val_loss: 0.1913 - val_acc: 0.9163\n",
      "\n",
      "Epoch 00059: val_acc did not improve from 0.92221\n",
      "Epoch 60/100\n",
      "127/127 [==============================] - 31s 246ms/step - loss: 0.2336 - acc: 0.9012 - val_loss: 0.1864 - val_acc: 0.9207\n",
      "\n",
      "Epoch 00060: val_acc did not improve from 0.92221\n",
      "Epoch 61/100\n",
      "127/127 [==============================] - 31s 246ms/step - loss: 0.2226 - acc: 0.9059 - val_loss: 0.1869 - val_acc: 0.9154\n",
      "\n",
      "Epoch 00061: val_acc did not improve from 0.92221\n",
      "Epoch 62/100\n",
      "127/127 [==============================] - 31s 246ms/step - loss: 0.2226 - acc: 0.9070 - val_loss: 0.1880 - val_acc: 0.9163\n",
      "\n",
      "Epoch 00062: val_acc did not improve from 0.92221\n",
      "Epoch 63/100\n",
      "127/127 [==============================] - 31s 246ms/step - loss: 0.2160 - acc: 0.9115 - val_loss: 0.1869 - val_acc: 0.9168\n",
      "\n",
      "Epoch 00063: val_acc did not improve from 0.92221\n",
      "Epoch 64/100\n",
      "127/127 [==============================] - 31s 246ms/step - loss: 0.2197 - acc: 0.9068 - val_loss: 0.1874 - val_acc: 0.9168\n",
      "\n",
      "Epoch 00064: val_acc did not improve from 0.92221\n",
      "Epoch 65/100\n",
      "127/127 [==============================] - 31s 246ms/step - loss: 0.2148 - acc: 0.9077 - val_loss: 0.1848 - val_acc: 0.9207\n",
      "\n",
      "Epoch 00065: val_acc did not improve from 0.92221\n",
      "Epoch 66/100\n",
      "127/127 [==============================] - 31s 247ms/step - loss: 0.2136 - acc: 0.9126 - val_loss: 0.1845 - val_acc: 0.9207\n",
      "\n",
      "Epoch 00066: val_acc did not improve from 0.92221\n",
      "Epoch 67/100\n",
      "127/127 [==============================] - 31s 246ms/step - loss: 0.2142 - acc: 0.9082 - val_loss: 0.1856 - val_acc: 0.9168\n",
      "\n",
      "Epoch 00067: val_acc did not improve from 0.92221\n",
      "Epoch 68/100\n",
      "127/127 [==============================] - 31s 247ms/step - loss: 0.2110 - acc: 0.9122 - val_loss: 0.1786 - val_acc: 0.9198\n",
      "\n",
      "Epoch 00068: val_acc did not improve from 0.92221\n",
      "Epoch 69/100\n",
      "127/127 [==============================] - 31s 246ms/step - loss: 0.2149 - acc: 0.9109 - val_loss: 0.1801 - val_acc: 0.9168\n",
      "\n",
      "Epoch 00069: val_acc did not improve from 0.92221\n",
      "Epoch 70/100\n",
      "127/127 [==============================] - 31s 247ms/step - loss: 0.2108 - acc: 0.9128 - val_loss: 0.1804 - val_acc: 0.9198\n",
      "\n",
      "Epoch 00070: val_acc did not improve from 0.92221\n",
      "Epoch 71/100\n",
      "127/127 [==============================] - 32s 249ms/step - loss: 0.2119 - acc: 0.9112 - val_loss: 0.1759 - val_acc: 0.9222\n",
      "\n",
      "Epoch 00071: val_acc did not improve from 0.92221\n",
      "Epoch 72/100\n",
      "127/127 [==============================] - 31s 247ms/step - loss: 0.2218 - acc: 0.9089 - val_loss: 0.1828 - val_acc: 0.9178\n",
      "\n",
      "Epoch 00072: val_acc did not improve from 0.92221\n",
      "Epoch 73/100\n",
      "127/127 [==============================] - 31s 246ms/step - loss: 0.2090 - acc: 0.9121 - val_loss: 0.1792 - val_acc: 0.9217\n",
      "\n",
      "Epoch 00073: val_acc did not improve from 0.92221\n",
      "Epoch 74/100\n",
      "127/127 [==============================] - 31s 247ms/step - loss: 0.2039 - acc: 0.9182 - val_loss: 0.1779 - val_acc: 0.9232\n",
      "\n",
      "Epoch 00074: val_acc improved from 0.92221 to 0.92319, saving model to Detection\\Models\\vgg19_1.h5\n",
      "Epoch 75/100\n",
      "127/127 [==============================] - 31s 247ms/step - loss: 0.2163 - acc: 0.9091 - val_loss: 0.1769 - val_acc: 0.9256\n",
      "\n",
      "Epoch 00075: val_acc improved from 0.92319 to 0.92564, saving model to Detection\\Models\\vgg19_1.h5\n",
      "Epoch 76/100\n",
      "127/127 [==============================] - 31s 246ms/step - loss: 0.2092 - acc: 0.9127 - val_loss: 0.1793 - val_acc: 0.9232\n",
      "\n",
      "Epoch 00076: val_acc did not improve from 0.92564\n",
      "Epoch 77/100\n",
      "127/127 [==============================] - 31s 246ms/step - loss: 0.2054 - acc: 0.9160 - val_loss: 0.1788 - val_acc: 0.9261\n",
      "\n",
      "Epoch 00077: val_acc improved from 0.92564 to 0.92613, saving model to Detection\\Models\\vgg19_1.h5\n",
      "Epoch 78/100\n",
      "127/127 [==============================] - 31s 246ms/step - loss: 0.2121 - acc: 0.9125 - val_loss: 0.1783 - val_acc: 0.9227\n",
      "\n",
      "Epoch 00078: val_acc did not improve from 0.92613\n",
      "Epoch 79/100\n",
      "127/127 [==============================] - 31s 247ms/step - loss: 0.2120 - acc: 0.9109 - val_loss: 0.1801 - val_acc: 0.9183\n",
      "\n",
      "Epoch 00079: val_acc did not improve from 0.92613\n",
      "Epoch 80/100\n",
      "127/127 [==============================] - 31s 247ms/step - loss: 0.2063 - acc: 0.9141 - val_loss: 0.1758 - val_acc: 0.9198\n",
      "\n",
      "Epoch 00080: val_acc did not improve from 0.92613\n",
      "Epoch 81/100\n",
      "127/127 [==============================] - 31s 246ms/step - loss: 0.2047 - acc: 0.9143 - val_loss: 0.1777 - val_acc: 0.9207\n",
      "\n",
      "Epoch 00081: val_acc did not improve from 0.92613\n",
      "Epoch 82/100\n"
     ]
    },
    {
     "name": "stdout",
     "output_type": "stream",
     "text": [
      "127/127 [==============================] - 31s 246ms/step - loss: 0.2120 - acc: 0.9131 - val_loss: 0.1775 - val_acc: 0.9198\n",
      "\n",
      "Epoch 00082: val_acc did not improve from 0.92613\n",
      "Epoch 83/100\n",
      "127/127 [==============================] - 31s 246ms/step - loss: 0.2108 - acc: 0.9096 - val_loss: 0.1780 - val_acc: 0.9227\n",
      "\n",
      "Epoch 00083: val_acc did not improve from 0.92613\n",
      "Epoch 84/100\n",
      "127/127 [==============================] - 31s 246ms/step - loss: 0.2184 - acc: 0.9115 - val_loss: 0.1768 - val_acc: 0.9247\n",
      "\n",
      "Epoch 00084: val_acc did not improve from 0.92613\n",
      "Epoch 85/100\n",
      "127/127 [==============================] - 31s 246ms/step - loss: 0.2054 - acc: 0.9139 - val_loss: 0.1760 - val_acc: 0.9237\n",
      "\n",
      "Epoch 00085: val_acc did not improve from 0.92613\n",
      "Epoch 86/100\n",
      "127/127 [==============================] - 31s 246ms/step - loss: 0.2070 - acc: 0.9154 - val_loss: 0.1744 - val_acc: 0.9212\n",
      "\n",
      "Epoch 00086: val_acc did not improve from 0.92613\n",
      "Epoch 87/100\n",
      "127/127 [==============================] - 31s 248ms/step - loss: 0.2086 - acc: 0.9100 - val_loss: 0.1756 - val_acc: 0.9237\n",
      "\n",
      "Epoch 00087: val_acc did not improve from 0.92613\n",
      "Epoch 88/100\n",
      "127/127 [==============================] - 31s 246ms/step - loss: 0.2112 - acc: 0.9122 - val_loss: 0.1761 - val_acc: 0.9242\n",
      "\n",
      "Epoch 00088: val_acc did not improve from 0.92613\n",
      "Epoch 89/100\n",
      "127/127 [==============================] - 31s 247ms/step - loss: 0.2047 - acc: 0.9152 - val_loss: 0.1737 - val_acc: 0.9261\n",
      "\n",
      "Epoch 00089: val_acc did not improve from 0.92613\n",
      "Epoch 90/100\n",
      "127/127 [==============================] - 31s 247ms/step - loss: 0.2033 - acc: 0.9144 - val_loss: 0.1764 - val_acc: 0.9266\n",
      "\n",
      "Epoch 00090: val_acc improved from 0.92613 to 0.92661, saving model to Detection\\Models\\vgg19_1.h5\n",
      "Epoch 91/100\n",
      "127/127 [==============================] - 31s 247ms/step - loss: 0.1979 - acc: 0.9177 - val_loss: 0.1753 - val_acc: 0.9237\n",
      "\n",
      "Epoch 00091: val_acc did not improve from 0.92661\n",
      "Epoch 92/100\n",
      "127/127 [==============================] - 31s 246ms/step - loss: 0.1999 - acc: 0.9160 - val_loss: 0.1763 - val_acc: 0.9251\n",
      "\n",
      "Epoch 00092: val_acc did not improve from 0.92661\n",
      "Epoch 93/100\n",
      "127/127 [==============================] - 31s 247ms/step - loss: 0.2070 - acc: 0.9145 - val_loss: 0.1746 - val_acc: 0.9237\n",
      "\n",
      "Epoch 00093: val_acc did not improve from 0.92661\n",
      "Epoch 94/100\n",
      "127/127 [==============================] - 31s 247ms/step - loss: 0.2011 - acc: 0.9182 - val_loss: 0.1745 - val_acc: 0.9261\n",
      "\n",
      "Epoch 00094: val_acc did not improve from 0.92661\n",
      "Epoch 95/100\n",
      "127/127 [==============================] - 31s 247ms/step - loss: 0.2019 - acc: 0.9139 - val_loss: 0.1768 - val_acc: 0.9247\n",
      "\n",
      "Epoch 00095: val_acc did not improve from 0.92661\n",
      "Epoch 96/100\n",
      "127/127 [==============================] - 31s 246ms/step - loss: 0.2019 - acc: 0.9150 - val_loss: 0.1718 - val_acc: 0.9256\n",
      "\n",
      "Epoch 00096: val_acc did not improve from 0.92661\n",
      "Epoch 97/100\n",
      "127/127 [==============================] - 31s 248ms/step - loss: 0.2065 - acc: 0.9155 - val_loss: 0.1734 - val_acc: 0.9276\n",
      "\n",
      "Epoch 00097: val_acc improved from 0.92661 to 0.92759, saving model to Detection\\Models\\vgg19_1.h5\n",
      "Epoch 98/100\n",
      "127/127 [==============================] - 31s 246ms/step - loss: 0.2027 - acc: 0.9200 - val_loss: 0.1721 - val_acc: 0.9256\n",
      "\n",
      "Epoch 00098: val_acc did not improve from 0.92759\n",
      "Epoch 99/100\n",
      "127/127 [==============================] - 32s 248ms/step - loss: 0.2080 - acc: 0.9117 - val_loss: 0.1721 - val_acc: 0.9217\n",
      "\n",
      "Epoch 00099: val_acc did not improve from 0.92759\n",
      "Epoch 100/100\n",
      "127/127 [==============================] - 31s 247ms/step - loss: 0.1981 - acc: 0.9185 - val_loss: 0.1753 - val_acc: 0.9212\n",
      "\n",
      "Epoch 00100: val_acc did not improve from 0.92759\n"
     ]
    }
   ],
   "source": [
    "# train the model\n",
    "x = model_final.fit_generator(aug.flow(trainX, trainY, batch_size=batch_size),\n",
    "                        validation_data=(testX,testY),\n",
    "                        steps_per_epoch=len(trainX) // batch_size,\n",
    "                        epochs=epochs, \n",
    "                        verbose=1, \n",
    "                        workers = 6, \n",
    "                        callbacks = [history, checkpoint], \n",
    "                        max_q_size = 100)"
   ]
  },
  {
   "cell_type": "code",
   "execution_count": 26,
   "metadata": {
    "scrolled": true
   },
   "outputs": [
    {
     "data": {
      "text/plain": [
       "dict_keys(['acc', 'val_acc', 'val_loss', 'loss'])"
      ]
     },
     "execution_count": 26,
     "metadata": {},
     "output_type": "execute_result"
    }
   ],
   "source": [
    "x.history.keys()"
   ]
  },
  {
   "cell_type": "code",
   "execution_count": 27,
   "metadata": {},
   "outputs": [],
   "source": [
    "plt.rcParams['figure.figsize'] = (15, 20)\n",
    "plt.style.use(\"seaborn\")"
   ]
  },
  {
   "cell_type": "code",
   "execution_count": 34,
   "metadata": {},
   "outputs": [
    {
     "data": {
      "image/png": "[encoded data removed]",
      "text/plain": [
       "<Figure size 576x396 with 1 Axes>"
      ]
     },
     "metadata": {},
     "output_type": "display_data"
    }
   ],
   "source": [
    "# plot training/validation loss/accuracy\n",
    "N = epochs\n",
    "plt.plot(np.arange(0,N), x.history[\"loss\"], label=\"train_loss\")\n",
    "plt.plot(np.arange(0,N), x.history[\"val_loss\"], label=\"val_loss\")\n",
    "plt.plot(np.arange(0,N), x.history[\"acc\"], label=\"train_acc\")\n",
    "plt.plot(np.arange(0,N), x.history[\"val_acc\"], label=\"val_acc\")\n",
    "\n",
    "plt.title(\"Training Loss and Accuracy\")\n",
    "plt.xlabel(\"Epoch #\")\n",
    "plt.ylabel(\"Loss/Accuracy\")\n",
    "plt.legend(loc=\"center right\")\n",
    "plt.tight_layout()\n",
    "plt.show()"
   ]
  },
  {
   "cell_type": "code",
   "execution_count": 29,
   "metadata": {},
   "outputs": [
    {
     "data": {
      "image/png": "[encoded data removed]",
      "text/plain": [
       "<Figure size 576x396 with 1 Axes>"
      ]
     },
     "metadata": {},
     "output_type": "display_data"
    }
   ],
   "source": [
    "# summarize history for accuracy\n",
    "plt.plot(x.history['acc'])\n",
    "plt.plot(x.history['val_acc'])\n",
    "plt.title('Model Accuracy')\n",
    "plt.ylabel('Accuracy')\n",
    "plt.xlabel('Epoch #')\n",
    "plt.legend(['train', 'test'], loc='upper left')\n",
    "plt.tight_layout()\n",
    "plt.show()"
   ]
  },
  {
   "cell_type": "code",
   "execution_count": 30,
   "metadata": {},
   "outputs": [
    {
     "data": {
      "image/png": "[encoded data removed]",
      "text/plain": [
       "<Figure size 576x396 with 1 Axes>"
      ]
     },
     "metadata": {},
     "output_type": "display_data"
    }
   ],
   "source": [
    "# summarize history for loss\n",
    "plt.plot(x.history['loss'])\n",
    "plt.plot(x.history['val_loss'])\n",
    "plt.title('Model Loss')\n",
    "plt.ylabel('Loss')\n",
    "plt.xlabel('Epoch #')\n",
    "plt.legend(['train', 'test'], loc='upper left')\n",
    "plt.tight_layout()\n",
    "plt.show()"
   ]
  },
  {
   "cell_type": "code",
   "execution_count": null,
   "metadata": {},
   "outputs": [],
   "source": []
  },
  {
   "cell_type": "code",
   "execution_count": 31,
   "metadata": {
    "scrolled": true
   },
   "outputs": [
    {
     "name": "stdout",
     "output_type": "stream",
     "text": [
      "2044/2044 [==============================] - 8s 4ms/step\n",
      "Accuracy on test data: 0.921232876829\n"
     ]
    }
   ],
   "source": [
    "score = model_final.evaluate(testX, testY)\n",
    "print(\"Accuracy on test data:\", score[1])"
   ]
  },
  {
   "cell_type": "code",
   "execution_count": 32,
   "metadata": {},
   "outputs": [],
   "source": [
    "# Save loss history to file\n",
    "loss_history_path = os.path.join('Detection\\\\Models', 'loss_history_transfer_vgg19.log')\n",
    "myFile = open(loss_history_path, 'w+')\n",
    "myFile.write(history.losses)\n",
    "myFile.close()"
   ]
  },
  {
   "cell_type": "code",
   "execution_count": 35,
   "metadata": {},
   "outputs": [],
   "source": [
    "backend.clear_session()"
   ]
  },
  {
   "cell_type": "code",
   "execution_count": null,
   "metadata": {},
   "outputs": [],
   "source": []
  },
  {
   "cell_type": "code",
   "execution_count": null,
   "metadata": {},
   "outputs": [],
   "source": []
  },
  {
   "cell_type": "code",
   "execution_count": null,
   "metadata": {},
   "outputs": [],
   "source": []
  }
 ],
 "metadata": {
  "kernelspec": {
   "display_name": "Python 3",
   "language": "python",
   "name": "python3"
  },
  "language_info": {
   "codemirror_mode": {
    "name": "ipython",
    "version": 3
   },
   "file_extension": ".py",
   "mimetype": "text/x-python",
   "name": "python",
   "nbconvert_exporter": "python",
   "pygments_lexer": "ipython3",
   "version": "3.5.5"
  }
 },
 "nbformat": 4,
 "nbformat_minor": 2
}
