{
 "cells": [
  {
   "cell_type": "markdown",
   "metadata": {},
   "source": []
  },
  {
   "cell_type": "code",
   "execution_count": 24,
   "metadata": {},
   "outputs": [],
   "source": [
    "import pandas as pd\n",
    "import openpyxl\n",
    "from openpyxl.utils.dataframe import dataframe_to_rows\n",
    "from openpyxl import Workbook,load_workbook\n",
    "import os"
   ]
  },
  {
   "cell_type": "code",
   "execution_count": null,
   "metadata": {},
   "outputs": [],
   "source": []
  },
  {
   "cell_type": "code",
   "execution_count": 25,
   "metadata": {},
   "outputs": [],
   "source": [
    "def createWorkbook():\n",
    "    try:\n",
    "        # Initialize a workbook \n",
    "        wb = Workbook()\n",
    "\n",
    "        # Get the worksheet in the active workbook\n",
    "        wb.create_sheet('TeamDetails')\n",
    "\n",
    "        # Acquire a sheet by its name\n",
    "        ws = wb['TeamDetails']\n",
    "\n",
    "        #apply some formatting and write template\n",
    "        Alig = openpyxl.styles.Alignment(horizontal='center', vertical='center', wrap_text=False)\n",
    "        FontBold = openpyxl.styles.Font(bold=True)\n",
    "\n",
    "        ws['A1'] = \"TeamName\"\n",
    "        ws['B1'] = \"PersonName\"\n",
    "        ws['C1'] = \"Gender\"\n",
    "        \n",
    "        extraSheet = wb['Sheet']\n",
    "        wb.remove(extraSheet)\n",
    "\n",
    "        # Enumerate the cells in the second row\n",
    "        for cell in ws[\"1:1\"]:\n",
    "            cell.font = FontBold\n",
    "            cell.alignment = Alig\n",
    "            \n",
    "        wb.save('TeamOutput/TeamFormationDetails.xlsx')\n",
    "    \n",
    "    except Exception as ex:\n",
    "        print(ex)"
   ]
  },
  {
   "cell_type": "code",
   "execution_count": 26,
   "metadata": {},
   "outputs": [],
   "source": [
    "def readDataFromExcel(file_path = \"TeamOutput/TeamFormationDetails.xlsx\"):\n",
    "    try:\n",
    "        teamdata_excel = pd.read_excel(file_path,sheet_name=\"TeamDetails\")\n",
    "    except:\n",
    "        teamdata_excel = pd.read_excel(file_path,sheet_name=\"teamdetails\")\n",
    "    finally:\n",
    "        return(teamdata_excel)"
   ]
  },
  {
   "cell_type": "code",
   "execution_count": 27,
   "metadata": {},
   "outputs": [],
   "source": [
    "def checkExcelFile(file_path = \"TeamOutput/TeamFormationDetails.xlsx\"):\n",
    "    try:\n",
    "        \"\"\"Function to check excel file is present or not in a specified folder\"\"\"\n",
    "\n",
    "        if os.path.exists(file_path):\n",
    "            return True\n",
    "        else:\n",
    "            createWorkbook()\n",
    "            return True\n",
    "    except Exception as ex:\n",
    "        return False\n",
    "        print(ex)"
   ]
  },
  {
   "cell_type": "code",
   "execution_count": 28,
   "metadata": {},
   "outputs": [],
   "source": [
    "def check_readExcel(file_path = \"TeamOutput/TeamFormationDetails.xlsx\"):\n",
    "    try:\n",
    "        if checkExcelFile(file_path):\n",
    "            excel_data = readDataFromExcel(file_path)\n",
    "            return (excel_data)\n",
    "        else:\n",
    "            return\n",
    "    except:\n",
    "        print(\"Not able to read excel file\")\n",
    "        return"
   ]
  },
  {
   "cell_type": "code",
   "execution_count": 29,
   "metadata": {},
   "outputs": [],
   "source": [
    "def appendDataToExcel(data_dict, file_loc = \"TeamOutput/TeamFormationDetails.xlsx\"):\n",
    "    try:\n",
    "        \"\"\"Function to append the data\"\"\"\n",
    "        \n",
    "        #loading the workook\n",
    "        wb = load_workbook(file_loc)\n",
    "        \n",
    "        #fetching the worksheet\n",
    "        ws = wb['TeamDetails']\n",
    "\n",
    "        #convert to dataframe\n",
    "        data_df = pd.DataFrame.from_dict(data_dict)\n",
    "        \n",
    "        data_df = data_df[[\"TeamName\",\"PersonName\",\"Gender\"]]\n",
    "\n",
    "        # Append the rows of the DataFrame to your worksheet\n",
    "        for r in dataframe_to_rows(data_df, index=False, header=False):\n",
    "            ws.append(r)\n",
    "            \n",
    "        wb.save(file_loc)\n",
    "    except Exception as ex:\n",
    "        print(ex)"
   ]
  },
  {
   "cell_type": "code",
   "execution_count": null,
   "metadata": {},
   "outputs": [],
   "source": []
  },
  {
   "cell_type": "code",
   "execution_count": null,
   "metadata": {},
   "outputs": [],
   "source": []
  },
  {
   "cell_type": "code",
   "execution_count": null,
   "metadata": {},
   "outputs": [],
   "source": []
  }
 ],
 "metadata": {
  "kernelspec": {
   "display_name": "Python 3",
   "language": "python",
   "name": "python3"
  },
  "language_info": {
   "codemirror_mode": {
    "name": "ipython",
    "version": 3
   },
   "file_extension": ".py",
   "mimetype": "text/x-python",
   "name": "python",
   "nbconvert_exporter": "python",
   "pygments_lexer": "ipython3",
   "version": "3.5.5"
  }
 },
 "nbformat": 4,
 "nbformat_minor": 2
}
