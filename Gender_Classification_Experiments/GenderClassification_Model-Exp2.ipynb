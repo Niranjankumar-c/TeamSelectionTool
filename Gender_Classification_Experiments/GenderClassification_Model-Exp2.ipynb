{
 "cells": [
  {
   "cell_type": "code",
   "execution_count": 1,
   "metadata": {},
   "outputs": [
    {
     "name": "stderr",
     "output_type": "stream",
     "text": [
      "C:\\Users\\NiranjanKumar\\Anaconda3\\envs\\deep\\lib\\site-packages\\h5py\\__init__.py:36: FutureWarning: Conversion of the second argument of issubdtype from `float` to `np.floating` is deprecated. In future, it will be treated as `np.float64 == np.dtype(float).type`.\n",
      "  from ._conv import register_converters as _register_converters\n",
      "Using TensorFlow backend.\n"
     ]
    }
   ],
   "source": [
    "#importing the required packages\n",
    "import os\n",
    "import matplotlib.pyplot as plt\n",
    "import numpy as np\n",
    "from keras import backend\n",
    "import argparse\n",
    "import random\n",
    "import cv2\n",
    "import glob"
   ]
  },
  {
   "cell_type": "code",
   "execution_count": 2,
   "metadata": {},
   "outputs": [],
   "source": [
    "from keras.models import Sequential\n",
    "from keras.layers import Conv2D, MaxPooling2D, Flatten, Dense, Dropout\n",
    "from keras.optimizers import Adam\n",
    "from keras.preprocessing.image import ImageDataGenerator\n",
    "from keras.callbacks import Callback, ModelCheckpoint\n",
    "from keras.layers.normalization import BatchNormalization\n",
    "from keras.layers.core import Activation\n",
    "from keras.optimizers import Adam\n",
    "from keras.preprocessing.image import img_to_array\n",
    "from keras.utils import to_categorical\n",
    "from keras.utils import plot_model\n",
    "from sklearn.model_selection import train_test_split"
   ]
  },
  {
   "cell_type": "code",
   "execution_count": null,
   "metadata": {},
   "outputs": [],
   "source": []
  },
  {
   "cell_type": "code",
   "execution_count": 3,
   "metadata": {},
   "outputs": [],
   "source": [
    "dataset_path = \"Data\\\\gender_dataset_face-backup\""
   ]
  },
  {
   "cell_type": "code",
   "execution_count": 8,
   "metadata": {},
   "outputs": [],
   "source": [
    "# initial parameters\n",
    "epochs = 100\n",
    "lr_rate = 1e-3\n",
    "batch_size = 64\n",
    "img_dims = (96,96,3)\n",
    "drop_out = 0.15\n",
    "\n",
    "data = []\n",
    "labels = []"
   ]
  },
  {
   "cell_type": "code",
   "execution_count": 9,
   "metadata": {},
   "outputs": [],
   "source": [
    "# load image files from the dataset\n",
    "random.seed(42)\n",
    "image_files = [f for f in glob.glob(dataset_path + \"/**/*\", recursive=True) if not os.path.isdir(f)]\n",
    "random.shuffle(image_files)"
   ]
  },
  {
   "cell_type": "code",
   "execution_count": 10,
   "metadata": {},
   "outputs": [],
   "source": [
    "# create groud-truth label from the image path\n",
    "for img in image_files:\n",
    "\n",
    "    image = cv2.imread(img)\n",
    "    \n",
    "    image = cv2.resize(image, (img_dims[0],img_dims[1]))\n",
    "    image = img_to_array(image)\n",
    "    data.append(image)\n",
    "\n",
    "    label = img.split(os.path.sep)[-2]\n",
    "    if label == \"woman\":\n",
    "        label = 1\n",
    "    else:\n",
    "        label = 0\n",
    "        \n",
    "    labels.append([label])"
   ]
  },
  {
   "cell_type": "code",
   "execution_count": 13,
   "metadata": {},
   "outputs": [
    {
     "data": {
      "text/plain": [
       "6761"
      ]
     },
     "execution_count": 13,
     "metadata": {},
     "output_type": "execute_result"
    }
   ],
   "source": [
    "len(data)"
   ]
  },
  {
   "cell_type": "code",
   "execution_count": 14,
   "metadata": {},
   "outputs": [
    {
     "data": {
      "text/plain": [
       "6761"
      ]
     },
     "execution_count": 14,
     "metadata": {},
     "output_type": "execute_result"
    }
   ],
   "source": [
    "len(labels)"
   ]
  },
  {
   "cell_type": "code",
   "execution_count": 16,
   "metadata": {
    "scrolled": true
   },
   "outputs": [],
   "source": [
    "# pre-processing\n",
    "data = np.array(data, dtype=\"float\") / 255.0\n",
    "labels = np.array(labels)\n",
    "\n",
    "# split dataset for training and validation\n",
    "(trainX, testX, trainY, testY) = train_test_split(data, labels, test_size=0.2,\n",
    "                                                  random_state=42)\n",
    "trainY = to_categorical(trainY, num_classes=2)\n",
    "testY = to_categorical(testY, num_classes=2)"
   ]
  },
  {
   "cell_type": "code",
   "execution_count": 17,
   "metadata": {},
   "outputs": [],
   "source": [
    "# augmenting datset \n",
    "aug = ImageDataGenerator(rotation_range=25, \n",
    "                         width_shift_range=0.1,\n",
    "                         height_shift_range=0.1, \n",
    "                         shear_range=0.2, \n",
    "                         zoom_range=0.2,\n",
    "                         horizontal_flip=True, \n",
    "                         fill_mode=\"nearest\")"
   ]
  },
  {
   "cell_type": "code",
   "execution_count": 18,
   "metadata": {},
   "outputs": [
    {
     "name": "stdout",
     "output_type": "stream",
     "text": [
      "training x length:  5408\n",
      "testing x length:  1353\n"
     ]
    }
   ],
   "source": [
    "print(\"training x length: \", len(trainX))\n",
    "print(\"testing x length: \", len(testY))"
   ]
  },
  {
   "cell_type": "code",
   "execution_count": null,
   "metadata": {},
   "outputs": [],
   "source": []
  },
  {
   "cell_type": "code",
   "execution_count": null,
   "metadata": {},
   "outputs": [],
   "source": []
  },
  {
   "cell_type": "markdown",
   "metadata": {},
   "source": [
    "### CNN"
   ]
  },
  {
   "cell_type": "code",
   "execution_count": 19,
   "metadata": {},
   "outputs": [],
   "source": [
    "#Creating a function for saving the model at each epoch end\n",
    "class LossHistory(Callback):\n",
    "    def __init__(self):\n",
    "        super().__init__()\n",
    "        self.epoch_id = 0\n",
    "        self.losses = ''\n",
    " \n",
    "    def on_epoch_end(self, epoch, logs={}):\n",
    "        self.losses += \"Epoch {}: accuracy -> {:.3f}, val_accuracy -> {:.3f}\\n\"\\\n",
    "            .format(str(self.epoch_id), logs.get('acc'), logs.get('val_acc'))\n",
    "        self.epoch_id += 1\n",
    " \n",
    "    def on_train_begin(self, logs={}):\n",
    "        self.losses += 'Training begins...\\n'"
   ]
  },
  {
   "cell_type": "code",
   "execution_count": 20,
   "metadata": {},
   "outputs": [],
   "source": [
    "#Creating a checkpointer \n",
    "checkpointer = ModelCheckpoint(filepath= os.path.join('Detection\\\\Models', 'scratchmodel_gender1.hdf5'), \n",
    "                               verbose=1,save_best_only=True)"
   ]
  },
  {
   "cell_type": "code",
   "execution_count": 21,
   "metadata": {},
   "outputs": [],
   "source": [
    "# Initialising the CNN\n",
    "model = Sequential()"
   ]
  },
  {
   "cell_type": "code",
   "execution_count": 22,
   "metadata": {
    "scrolled": true
   },
   "outputs": [],
   "source": [
    "model.add(Conv2D(32, (3,3), padding=\"same\", input_shape=(img_dims)))\n",
    "model.add(Activation(\"relu\"))\n",
    "model.add(BatchNormalization())\n",
    "model.add(MaxPooling2D(pool_size=(3,3)))\n",
    "model.add(Dropout(drop_out))\n",
    "\n",
    "model.add(Conv2D(64, (3,3), padding=\"same\"))\n",
    "model.add(Activation(\"relu\"))\n",
    "model.add(BatchNormalization())\n",
    "\n",
    "model.add(Conv2D(64, (3,3), padding=\"same\"))\n",
    "model.add(Activation(\"relu\"))\n",
    "model.add(BatchNormalization())\n",
    "model.add(MaxPooling2D(pool_size=(2,2)))\n",
    "model.add(Dropout(drop_out))\n",
    "\n",
    "model.add(Conv2D(128, (3,3), padding=\"same\"))\n",
    "model.add(Activation(\"relu\"))\n",
    "model.add(BatchNormalization())\n",
    "model.add(Conv2D(128, (3,3), padding=\"same\"))\n",
    "model.add(Activation(\"relu\"))\n",
    "model.add(BatchNormalization())\n",
    "model.add(MaxPooling2D(pool_size=(2,2)))\n",
    "model.add(Dropout(drop_out))\n",
    "\n",
    "model.add(Flatten())\n",
    "model.add(Dense(1024))\n",
    "model.add(Activation(\"relu\"))\n",
    "model.add(BatchNormalization())\n",
    "model.add(Dropout(0.5))\n",
    "\n",
    "model.add(Dense(2))\n",
    "model.add(Activation(\"sigmoid\"))"
   ]
  },
  {
   "cell_type": "code",
   "execution_count": 23,
   "metadata": {},
   "outputs": [],
   "source": [
    "#compiling\n",
    "optimizer = Adam(lr=lr_rate, decay= lr_rate/epochs)\n",
    "metrics=['accuracy']\n",
    "model.compile(optimizer=optimizer, loss='binary_crossentropy', metrics=metrics)"
   ]
  },
  {
   "cell_type": "code",
   "execution_count": 24,
   "metadata": {},
   "outputs": [],
   "source": [
    "# Create a loss history\n",
    "history = LossHistory()"
   ]
  },
  {
   "cell_type": "code",
   "execution_count": 25,
   "metadata": {
    "scrolled": true
   },
   "outputs": [
    {
     "name": "stderr",
     "output_type": "stream",
     "text": [
      "C:\\Users\\NiranjanKumar\\Anaconda3\\envs\\deep\\lib\\site-packages\\ipykernel_launcher.py:9: UserWarning: Update your `fit_generator` call to the Keras 2 API: `fit_generator(<keras_pre..., callbacks=[<__main__..., steps_per_epoch=84, max_queue_size=100, workers=6, epochs=100, validation_data=(array([[[..., verbose=1)`\n",
      "  if __name__ == '__main__':\n"
     ]
    },
    {
     "name": "stdout",
     "output_type": "stream",
     "text": [
      "Epoch 1/100\n",
      " 3/84 [>.............................] - ETA: 16:59 - loss: 1.0502 - acc: 0.6172"
     ]
    },
    {
     "name": "stderr",
     "output_type": "stream",
     "text": [
      "C:\\Users\\NiranjanKumar\\Anaconda3\\envs\\deep\\lib\\site-packages\\keras\\callbacks.py:120: UserWarning: Method on_batch_end() is slow compared to the batch update (0.227398). Check your callbacks.\n",
      "  % delta_t_median)\n"
     ]
    },
    {
     "name": "stdout",
     "output_type": "stream",
     "text": [
      "84/84 [==============================] - 57s 677ms/step - loss: 0.4717 - acc: 0.8210 - val_loss: 0.3603 - val_acc: 0.8596\n",
      "\n",
      "Epoch 00001: val_loss improved from inf to 0.36033, saving model to Detection\\Models\\scratchmodel_gender1.hdf5\n",
      "Epoch 2/100\n",
      "84/84 [==============================] - 20s 236ms/step - loss: 0.3275 - acc: 0.8651 - val_loss: 0.2517 - val_acc: 0.9024\n",
      "\n",
      "Epoch 00002: val_loss improved from 0.36033 to 0.25170, saving model to Detection\\Models\\scratchmodel_gender1.hdf5\n",
      "Epoch 3/100\n",
      "84/84 [==============================] - 20s 242ms/step - loss: 0.2622 - acc: 0.8930 - val_loss: 0.2460 - val_acc: 0.9109\n",
      "\n",
      "Epoch 00003: val_loss improved from 0.25170 to 0.24603, saving model to Detection\\Models\\scratchmodel_gender1.hdf5\n",
      "Epoch 4/100\n",
      "84/84 [==============================] - 20s 238ms/step - loss: 0.2260 - acc: 0.9076 - val_loss: 0.3956 - val_acc: 0.8459\n",
      "\n",
      "Epoch 00004: val_loss did not improve from 0.24603\n",
      "Epoch 5/100\n",
      "84/84 [==============================] - 19s 226ms/step - loss: 0.1932 - acc: 0.9195 - val_loss: 0.1638 - val_acc: 0.9379\n",
      "\n",
      "Epoch 00005: val_loss improved from 0.24603 to 0.16378, saving model to Detection\\Models\\scratchmodel_gender1.hdf5\n",
      "Epoch 6/100\n",
      "84/84 [==============================] - 19s 221ms/step - loss: 0.1686 - acc: 0.9332 - val_loss: 0.1270 - val_acc: 0.9542\n",
      "\n",
      "Epoch 00006: val_loss improved from 0.16378 to 0.12696, saving model to Detection\\Models\\scratchmodel_gender1.hdf5\n",
      "Epoch 7/100\n",
      "84/84 [==============================] - 19s 231ms/step - loss: 0.1636 - acc: 0.9349 - val_loss: 0.1309 - val_acc: 0.9512\n",
      "\n",
      "Epoch 00007: val_loss did not improve from 0.12696\n",
      "Epoch 8/100\n",
      "84/84 [==============================] - 19s 231ms/step - loss: 0.1422 - acc: 0.9463 - val_loss: 0.3701 - val_acc: 0.8507\n",
      "\n",
      "Epoch 00008: val_loss did not improve from 0.12696\n",
      "Epoch 9/100\n",
      "84/84 [==============================] - 19s 227ms/step - loss: 0.1369 - acc: 0.9462 - val_loss: 0.1719 - val_acc: 0.9287\n",
      "\n",
      "Epoch 00009: val_loss did not improve from 0.12696\n",
      "Epoch 10/100\n",
      "84/84 [==============================] - 19s 225ms/step - loss: 0.1423 - acc: 0.9449 - val_loss: 0.1409 - val_acc: 0.9468\n",
      "\n",
      "Epoch 00010: val_loss did not improve from 0.12696\n",
      "Epoch 11/100\n",
      "84/84 [==============================] - 20s 239ms/step - loss: 0.1280 - acc: 0.9503 - val_loss: 0.1713 - val_acc: 0.9342\n",
      "\n",
      "Epoch 00011: val_loss did not improve from 0.12696\n",
      "Epoch 12/100\n",
      "84/84 [==============================] - 20s 234ms/step - loss: 0.1162 - acc: 0.9558 - val_loss: 0.1391 - val_acc: 0.9612\n",
      "\n",
      "Epoch 00012: val_loss did not improve from 0.12696\n",
      "Epoch 13/100\n",
      "84/84 [==============================] - 19s 223ms/step - loss: 0.1122 - acc: 0.9572 - val_loss: 0.1469 - val_acc: 0.9468\n",
      "\n",
      "Epoch 00013: val_loss did not improve from 0.12696\n",
      "Epoch 14/100\n",
      "84/84 [==============================] - 18s 219ms/step - loss: 0.1058 - acc: 0.9608 - val_loss: 0.0609 - val_acc: 0.9808\n",
      "\n",
      "Epoch 00014: val_loss improved from 0.12696 to 0.06091, saving model to Detection\\Models\\scratchmodel_gender1.hdf5\n",
      "Epoch 15/100\n",
      "84/84 [==============================] - 19s 224ms/step - loss: 0.0941 - acc: 0.9637 - val_loss: 0.2835 - val_acc: 0.9294\n",
      "\n",
      "Epoch 00015: val_loss did not improve from 0.06091\n",
      "Epoch 16/100\n",
      "84/84 [==============================] - 18s 220ms/step - loss: 0.0830 - acc: 0.9674 - val_loss: 0.0933 - val_acc: 0.9727\n",
      "\n",
      "Epoch 00016: val_loss did not improve from 0.06091\n",
      "Epoch 17/100\n",
      "84/84 [==============================] - 19s 222ms/step - loss: 0.0991 - acc: 0.9633 - val_loss: 0.1197 - val_acc: 0.9638\n",
      "\n",
      "Epoch 00017: val_loss did not improve from 0.06091\n",
      "Epoch 18/100\n",
      "84/84 [==============================] - 18s 218ms/step - loss: 0.0865 - acc: 0.9665 - val_loss: 0.0607 - val_acc: 0.9771\n",
      "\n",
      "Epoch 00018: val_loss improved from 0.06091 to 0.06073, saving model to Detection\\Models\\scratchmodel_gender1.hdf5\n",
      "Epoch 19/100\n",
      "84/84 [==============================] - 19s 226ms/step - loss: 0.0707 - acc: 0.9739 - val_loss: 0.0629 - val_acc: 0.9797\n",
      "\n",
      "Epoch 00019: val_loss did not improve from 0.06073\n",
      "Epoch 20/100\n",
      "84/84 [==============================] - 19s 224ms/step - loss: 0.0663 - acc: 0.9750 - val_loss: 0.1139 - val_acc: 0.9605\n",
      "\n",
      "Epoch 00020: val_loss did not improve from 0.06073\n",
      "Epoch 21/100\n",
      "84/84 [==============================] - 19s 221ms/step - loss: 0.0608 - acc: 0.9774 - val_loss: 0.1861 - val_acc: 0.9387\n",
      "\n",
      "Epoch 00021: val_loss did not improve from 0.06073\n",
      "Epoch 22/100\n",
      "84/84 [==============================] - 19s 223ms/step - loss: 0.0551 - acc: 0.9785 - val_loss: 0.0607 - val_acc: 0.9812\n",
      "\n",
      "Epoch 00022: val_loss improved from 0.06073 to 0.06065, saving model to Detection\\Models\\scratchmodel_gender1.hdf5\n",
      "Epoch 23/100\n",
      "84/84 [==============================] - 19s 225ms/step - loss: 0.0659 - acc: 0.9755 - val_loss: 0.0450 - val_acc: 0.9826\n",
      "\n",
      "Epoch 00023: val_loss improved from 0.06065 to 0.04499, saving model to Detection\\Models\\scratchmodel_gender1.hdf5\n",
      "Epoch 24/100\n",
      "84/84 [==============================] - 19s 224ms/step - loss: 0.0671 - acc: 0.9756 - val_loss: 0.1138 - val_acc: 0.9627\n",
      "\n",
      "Epoch 00024: val_loss did not improve from 0.04499\n",
      "Epoch 25/100\n",
      "84/84 [==============================] - 19s 225ms/step - loss: 0.0614 - acc: 0.9774 - val_loss: 0.1793 - val_acc: 0.9424\n",
      "\n",
      "Epoch 00025: val_loss did not improve from 0.04499\n",
      "Epoch 26/100\n",
      "84/84 [==============================] - 19s 227ms/step - loss: 0.0671 - acc: 0.9739 - val_loss: 0.1393 - val_acc: 0.9586\n",
      "\n",
      "Epoch 00026: val_loss did not improve from 0.04499\n",
      "Epoch 27/100\n",
      "84/84 [==============================] - 19s 230ms/step - loss: 0.0716 - acc: 0.9729 - val_loss: 0.4075 - val_acc: 0.8906\n",
      "\n",
      "Epoch 00027: val_loss did not improve from 0.04499\n",
      "Epoch 28/100\n",
      "84/84 [==============================] - 19s 226ms/step - loss: 0.0632 - acc: 0.9754 - val_loss: 0.0515 - val_acc: 0.9804\n",
      "\n",
      "Epoch 00028: val_loss did not improve from 0.04499\n",
      "Epoch 29/100\n",
      "84/84 [==============================] - 19s 222ms/step - loss: 0.0446 - acc: 0.9828 - val_loss: 0.0375 - val_acc: 0.9860\n",
      "\n",
      "Epoch 00029: val_loss improved from 0.04499 to 0.03753, saving model to Detection\\Models\\scratchmodel_gender1.hdf5\n",
      "Epoch 30/100\n",
      "84/84 [==============================] - 19s 229ms/step - loss: 0.0464 - acc: 0.9826 - val_loss: 0.0323 - val_acc: 0.9860\n",
      "\n",
      "Epoch 00030: val_loss improved from 0.03753 to 0.03227, saving model to Detection\\Models\\scratchmodel_gender1.hdf5\n",
      "Epoch 31/100\n",
      "84/84 [==============================] - 19s 222ms/step - loss: 0.0485 - acc: 0.9835 - val_loss: 0.0501 - val_acc: 0.9852\n",
      "\n",
      "Epoch 00031: val_loss did not improve from 0.03227\n",
      "Epoch 32/100\n",
      "84/84 [==============================] - 19s 225ms/step - loss: 0.0435 - acc: 0.9846 - val_loss: 0.1137 - val_acc: 0.9638\n",
      "\n",
      "Epoch 00032: val_loss did not improve from 0.03227\n",
      "Epoch 33/100\n",
      "84/84 [==============================] - 19s 224ms/step - loss: 0.0594 - acc: 0.9794 - val_loss: 0.0566 - val_acc: 0.9826\n",
      "\n",
      "Epoch 00033: val_loss did not improve from 0.03227\n",
      "Epoch 34/100\n",
      "84/84 [==============================] - 19s 224ms/step - loss: 0.0555 - acc: 0.9802 - val_loss: 0.1099 - val_acc: 0.9642\n",
      "\n",
      "Epoch 00034: val_loss did not improve from 0.03227\n",
      "Epoch 35/100\n",
      "84/84 [==============================] - 19s 224ms/step - loss: 0.0449 - acc: 0.9828 - val_loss: 0.2034 - val_acc: 0.9416\n",
      "\n",
      "Epoch 00035: val_loss did not improve from 0.03227\n",
      "Epoch 36/100\n",
      "84/84 [==============================] - 19s 228ms/step - loss: 0.0424 - acc: 0.9841 - val_loss: 0.0531 - val_acc: 0.9819\n",
      "\n",
      "Epoch 00036: val_loss did not improve from 0.03227\n",
      "Epoch 37/100\n",
      "84/84 [==============================] - 19s 227ms/step - loss: 0.0570 - acc: 0.9774 - val_loss: 0.1259 - val_acc: 0.9593\n",
      "\n",
      "Epoch 00037: val_loss did not improve from 0.03227\n",
      "Epoch 38/100\n",
      "84/84 [==============================] - 19s 223ms/step - loss: 0.0397 - acc: 0.9864 - val_loss: 0.0673 - val_acc: 0.9808\n",
      "\n",
      "Epoch 00038: val_loss did not improve from 0.03227\n",
      "Epoch 39/100\n",
      "84/84 [==============================] - 19s 223ms/step - loss: 0.0401 - acc: 0.9854 - val_loss: 0.0641 - val_acc: 0.9845\n",
      "\n",
      "Epoch 00039: val_loss did not improve from 0.03227\n",
      "Epoch 40/100\n",
      "84/84 [==============================] - 19s 226ms/step - loss: 0.0498 - acc: 0.9821 - val_loss: 0.0401 - val_acc: 0.9867\n",
      "\n",
      "Epoch 00040: val_loss did not improve from 0.03227\n",
      "Epoch 41/100\n"
     ]
    },
    {
     "name": "stdout",
     "output_type": "stream",
     "text": [
      "84/84 [==============================] - 19s 226ms/step - loss: 0.0379 - acc: 0.9863 - val_loss: 0.0458 - val_acc: 0.9819\n",
      "\n",
      "Epoch 00041: val_loss did not improve from 0.03227\n",
      "Epoch 42/100\n",
      "84/84 [==============================] - 19s 227ms/step - loss: 0.0426 - acc: 0.9839 - val_loss: 0.0330 - val_acc: 0.9885\n",
      "\n",
      "Epoch 00042: val_loss did not improve from 0.03227\n",
      "Epoch 43/100\n",
      "84/84 [==============================] - 19s 226ms/step - loss: 0.0470 - acc: 0.9824 - val_loss: 0.1531 - val_acc: 0.9616\n",
      "\n",
      "Epoch 00043: val_loss did not improve from 0.03227\n",
      "Epoch 44/100\n",
      "84/84 [==============================] - 19s 228ms/step - loss: 0.0428 - acc: 0.9832 - val_loss: 0.0557 - val_acc: 0.9815\n",
      "\n",
      "Epoch 00044: val_loss did not improve from 0.03227\n",
      "Epoch 45/100\n",
      "84/84 [==============================] - 19s 223ms/step - loss: 0.0362 - acc: 0.9888 - val_loss: 0.0567 - val_acc: 0.9819\n",
      "\n",
      "Epoch 00045: val_loss did not improve from 0.03227\n",
      "Epoch 46/100\n",
      "84/84 [==============================] - 19s 227ms/step - loss: 0.0376 - acc: 0.9884 - val_loss: 0.0494 - val_acc: 0.9793\n",
      "\n",
      "Epoch 00046: val_loss did not improve from 0.03227\n",
      "Epoch 47/100\n",
      "84/84 [==============================] - 19s 230ms/step - loss: 0.0387 - acc: 0.9859 - val_loss: 0.0862 - val_acc: 0.9741\n",
      "\n",
      "Epoch 00047: val_loss did not improve from 0.03227\n",
      "Epoch 48/100\n",
      "84/84 [==============================] - 19s 223ms/step - loss: 0.0368 - acc: 0.9864 - val_loss: 0.1902 - val_acc: 0.9438\n",
      "\n",
      "Epoch 00048: val_loss did not improve from 0.03227\n",
      "Epoch 49/100\n",
      "84/84 [==============================] - 19s 226ms/step - loss: 0.0422 - acc: 0.9838 - val_loss: 0.0586 - val_acc: 0.9812\n",
      "\n",
      "Epoch 00049: val_loss did not improve from 0.03227\n",
      "Epoch 50/100\n",
      "84/84 [==============================] - 19s 228ms/step - loss: 0.0426 - acc: 0.9844 - val_loss: 0.0509 - val_acc: 0.9874\n",
      "\n",
      "Epoch 00050: val_loss did not improve from 0.03227\n",
      "Epoch 51/100\n",
      "84/84 [==============================] - 19s 229ms/step - loss: 0.0329 - acc: 0.9883 - val_loss: 0.0282 - val_acc: 0.9926\n",
      "\n",
      "Epoch 00051: val_loss improved from 0.03227 to 0.02820, saving model to Detection\\Models\\scratchmodel_gender1.hdf5\n",
      "Epoch 52/100\n",
      "84/84 [==============================] - 19s 227ms/step - loss: 0.0326 - acc: 0.9896 - val_loss: 0.0897 - val_acc: 0.9741\n",
      "\n",
      "Epoch 00052: val_loss did not improve from 0.02820\n",
      "Epoch 53/100\n",
      "84/84 [==============================] - 20s 235ms/step - loss: 0.0378 - acc: 0.9864 - val_loss: 0.0570 - val_acc: 0.9819\n",
      "\n",
      "Epoch 00053: val_loss did not improve from 0.02820\n",
      "Epoch 54/100\n",
      "84/84 [==============================] - 20s 232ms/step - loss: 0.0362 - acc: 0.9856 - val_loss: 0.0515 - val_acc: 0.9860\n",
      "\n",
      "Epoch 00054: val_loss did not improve from 0.02820\n",
      "Epoch 55/100\n",
      "84/84 [==============================] - 13s 150ms/step - loss: 0.0260 - acc: 0.9917 - val_loss: 0.1037 - val_acc: 0.9727\n",
      "\n",
      "Epoch 00055: val_loss did not improve from 0.02820\n",
      "Epoch 56/100\n",
      "84/84 [==============================] - 9s 107ms/step - loss: 0.0271 - acc: 0.9906 - val_loss: 0.0384 - val_acc: 0.9867\n",
      "\n",
      "Epoch 00056: val_loss did not improve from 0.02820\n",
      "Epoch 57/100\n",
      "84/84 [==============================] - 9s 108ms/step - loss: 0.0311 - acc: 0.9891 - val_loss: 0.1305 - val_acc: 0.9675\n",
      "\n",
      "Epoch 00057: val_loss did not improve from 0.02820\n",
      "Epoch 58/100\n",
      "84/84 [==============================] - 9s 107ms/step - loss: 0.0200 - acc: 0.9923 - val_loss: 0.2615 - val_acc: 0.9375\n",
      "\n",
      "Epoch 00058: val_loss did not improve from 0.02820\n",
      "Epoch 59/100\n",
      "84/84 [==============================] - 9s 107ms/step - loss: 0.0353 - acc: 0.9893 - val_loss: 0.1499 - val_acc: 0.9608\n",
      "\n",
      "Epoch 00059: val_loss did not improve from 0.02820\n",
      "Epoch 60/100\n",
      "84/84 [==============================] - 9s 107ms/step - loss: 0.0333 - acc: 0.9880 - val_loss: 0.1942 - val_acc: 0.9560\n",
      "\n",
      "Epoch 00060: val_loss did not improve from 0.02820\n",
      "Epoch 61/100\n",
      "84/84 [==============================] - 9s 110ms/step - loss: 0.0270 - acc: 0.9905 - val_loss: 0.0519 - val_acc: 0.9823\n",
      "\n",
      "Epoch 00061: val_loss did not improve from 0.02820\n",
      "Epoch 62/100\n",
      "84/84 [==============================] - 9s 111ms/step - loss: 0.0363 - acc: 0.9879 - val_loss: 0.0379 - val_acc: 0.9900\n",
      "\n",
      "Epoch 00062: val_loss did not improve from 0.02820\n",
      "Epoch 63/100\n",
      "84/84 [==============================] - 9s 111ms/step - loss: 0.0277 - acc: 0.9912 - val_loss: 0.0326 - val_acc: 0.9874\n",
      "\n",
      "Epoch 00063: val_loss did not improve from 0.02820\n",
      "Epoch 64/100\n",
      "84/84 [==============================] - 9s 108ms/step - loss: 0.0184 - acc: 0.9925 - val_loss: 0.1801 - val_acc: 0.9564\n",
      "\n",
      "Epoch 00064: val_loss did not improve from 0.02820\n",
      "Epoch 65/100\n",
      "84/84 [==============================] - 9s 111ms/step - loss: 0.0152 - acc: 0.9941 - val_loss: 0.1067 - val_acc: 0.9649\n",
      "\n",
      "Epoch 00065: val_loss did not improve from 0.02820\n",
      "Epoch 66/100\n",
      "84/84 [==============================] - 9s 111ms/step - loss: 0.0295 - acc: 0.9882 - val_loss: 0.5954 - val_acc: 0.8865\n",
      "\n",
      "Epoch 00066: val_loss did not improve from 0.02820\n",
      "Epoch 67/100\n",
      "84/84 [==============================] - 9s 113ms/step - loss: 0.0214 - acc: 0.9932 - val_loss: 0.0444 - val_acc: 0.9867\n",
      "\n",
      "Epoch 00067: val_loss did not improve from 0.02820\n",
      "Epoch 68/100\n",
      "84/84 [==============================] - 9s 111ms/step - loss: 0.0248 - acc: 0.9909 - val_loss: 0.0585 - val_acc: 0.9800\n",
      "\n",
      "Epoch 00068: val_loss did not improve from 0.02820\n",
      "Epoch 69/100\n",
      "84/84 [==============================] - 9s 111ms/step - loss: 0.0298 - acc: 0.9887 - val_loss: 0.0994 - val_acc: 0.9730\n",
      "\n",
      "Epoch 00069: val_loss did not improve from 0.02820\n",
      "Epoch 70/100\n",
      "84/84 [==============================] - 9s 112ms/step - loss: 0.0207 - acc: 0.9928 - val_loss: 0.1761 - val_acc: 0.9601\n",
      "\n",
      "Epoch 00070: val_loss did not improve from 0.02820\n",
      "Epoch 71/100\n",
      "84/84 [==============================] - 10s 117ms/step - loss: 0.0325 - acc: 0.9890 - val_loss: 0.0314 - val_acc: 0.9893\n",
      "\n",
      "Epoch 00071: val_loss did not improve from 0.02820\n",
      "Epoch 72/100\n",
      "84/84 [==============================] - 9s 112ms/step - loss: 0.0320 - acc: 0.9895 - val_loss: 0.0717 - val_acc: 0.9734\n",
      "\n",
      "Epoch 00072: val_loss did not improve from 0.02820\n",
      "Epoch 73/100\n",
      "84/84 [==============================] - 9s 113ms/step - loss: 0.0584 - acc: 0.9791 - val_loss: 0.4571 - val_acc: 0.9002\n",
      "\n",
      "Epoch 00073: val_loss did not improve from 0.02820\n",
      "Epoch 74/100\n",
      "84/84 [==============================] - 9s 112ms/step - loss: 0.0466 - acc: 0.9834 - val_loss: 0.0451 - val_acc: 0.9860\n",
      "\n",
      "Epoch 00074: val_loss did not improve from 0.02820\n",
      "Epoch 75/100\n",
      "84/84 [==============================] - 9s 110ms/step - loss: 0.0363 - acc: 0.9872 - val_loss: 0.1845 - val_acc: 0.9309\n",
      "\n",
      "Epoch 00075: val_loss did not improve from 0.02820\n",
      "Epoch 76/100\n",
      "84/84 [==============================] - 9s 110ms/step - loss: 0.0687 - acc: 0.9740 - val_loss: 0.2193 - val_acc: 0.9106\n",
      "\n",
      "Epoch 00076: val_loss did not improve from 0.02820\n",
      "Epoch 77/100\n",
      "84/84 [==============================] - 9s 111ms/step - loss: 0.0851 - acc: 0.9682 - val_loss: 0.0452 - val_acc: 0.9863\n",
      "\n",
      "Epoch 00077: val_loss did not improve from 0.02820\n",
      "Epoch 78/100\n",
      "84/84 [==============================] - 9s 110ms/step - loss: 0.0350 - acc: 0.9863 - val_loss: 0.0369 - val_acc: 0.9874\n",
      "\n",
      "Epoch 00078: val_loss did not improve from 0.02820\n",
      "Epoch 79/100\n",
      "84/84 [==============================] - 10s 113ms/step - loss: 0.0327 - acc: 0.9874 - val_loss: 0.0308 - val_acc: 0.9904\n",
      "\n",
      "Epoch 00079: val_loss did not improve from 0.02820\n",
      "Epoch 80/100\n",
      "84/84 [==============================] - 10s 114ms/step - loss: 0.0230 - acc: 0.9910 - val_loss: 0.0602 - val_acc: 0.9808\n",
      "\n",
      "Epoch 00080: val_loss did not improve from 0.02820\n",
      "Epoch 81/100\n",
      "84/84 [==============================] - 9s 112ms/step - loss: 0.0282 - acc: 0.9902 - val_loss: 0.0799 - val_acc: 0.9808\n",
      "\n",
      "Epoch 00081: val_loss did not improve from 0.02820\n",
      "Epoch 82/100\n",
      "84/84 [==============================] - 9s 110ms/step - loss: 0.0250 - acc: 0.9917 - val_loss: 0.0416 - val_acc: 0.9845\n",
      "\n",
      "Epoch 00082: val_loss did not improve from 0.02820\n",
      "Epoch 83/100\n",
      "84/84 [==============================] - 9s 109ms/step - loss: 0.0196 - acc: 0.9925 - val_loss: 0.0378 - val_acc: 0.9874\n",
      "\n",
      "Epoch 00083: val_loss did not improve from 0.02820\n",
      "Epoch 84/100\n",
      "84/84 [==============================] - 9s 111ms/step - loss: 0.0241 - acc: 0.9918 - val_loss: 0.0429 - val_acc: 0.9889\n"
     ]
    },
    {
     "name": "stdout",
     "output_type": "stream",
     "text": [
      "\n",
      "Epoch 00084: val_loss did not improve from 0.02820\n",
      "Epoch 85/100\n",
      "84/84 [==============================] - 9s 108ms/step - loss: 0.0252 - acc: 0.9907 - val_loss: 0.0320 - val_acc: 0.9885\n",
      "\n",
      "Epoch 00085: val_loss did not improve from 0.02820\n",
      "Epoch 86/100\n",
      "84/84 [==============================] - 9s 106ms/step - loss: 0.0268 - acc: 0.9887 - val_loss: 0.0242 - val_acc: 0.9911\n",
      "\n",
      "Epoch 00086: val_loss improved from 0.02820 to 0.02416, saving model to Detection\\Models\\scratchmodel_gender1.hdf5\n",
      "Epoch 87/100\n",
      "84/84 [==============================] - 9s 110ms/step - loss: 0.0233 - acc: 0.9919 - val_loss: 0.0286 - val_acc: 0.9922\n",
      "\n",
      "Epoch 00087: val_loss did not improve from 0.02416\n",
      "Epoch 88/100\n",
      "84/84 [==============================] - 9s 110ms/step - loss: 0.0226 - acc: 0.9919 - val_loss: 1.1881 - val_acc: 0.8477oss: 0.0224 - acc:\n",
      "\n",
      "Epoch 00088: val_loss did not improve from 0.02416\n",
      "Epoch 89/100\n",
      "84/84 [==============================] - 9s 111ms/step - loss: 0.0328 - acc: 0.9877 - val_loss: 0.0509 - val_acc: 0.9841\n",
      "\n",
      "Epoch 00089: val_loss did not improve from 0.02416\n",
      "Epoch 90/100\n",
      "84/84 [==============================] - 9s 110ms/step - loss: 0.0412 - acc: 0.9845 - val_loss: 0.0423 - val_acc: 0.9830\n",
      "\n",
      "Epoch 00090: val_loss did not improve from 0.02416\n",
      "Epoch 91/100\n",
      "84/84 [==============================] - 10s 117ms/step - loss: 0.0191 - acc: 0.9930 - val_loss: 0.0312 - val_acc: 0.9897\n",
      "\n",
      "Epoch 00091: val_loss did not improve from 0.02416\n",
      "Epoch 92/100\n",
      "84/84 [==============================] - 9s 110ms/step - loss: 0.0277 - acc: 0.9907 - val_loss: 0.0401 - val_acc: 0.9819\n",
      "\n",
      "Epoch 00092: val_loss did not improve from 0.02416\n",
      "Epoch 93/100\n",
      "84/84 [==============================] - 9s 112ms/step - loss: 0.0207 - acc: 0.9929 - val_loss: 0.1585 - val_acc: 0.9601\n",
      "\n",
      "Epoch 00093: val_loss did not improve from 0.02416\n",
      "Epoch 94/100\n",
      "84/84 [==============================] - 9s 111ms/step - loss: 0.0209 - acc: 0.9926 - val_loss: 0.0359 - val_acc: 0.9874\n",
      "\n",
      "Epoch 00094: val_loss did not improve from 0.02416\n",
      "Epoch 95/100\n",
      "84/84 [==============================] - 10s 114ms/step - loss: 0.0174 - acc: 0.9936 - val_loss: 0.0244 - val_acc: 0.9904\n",
      "\n",
      "Epoch 00095: val_loss did not improve from 0.02416\n",
      "Epoch 96/100\n",
      "84/84 [==============================] - 9s 110ms/step - loss: 0.0170 - acc: 0.9926 - val_loss: 0.0210 - val_acc: 0.9911\n",
      "\n",
      "Epoch 00096: val_loss improved from 0.02416 to 0.02096, saving model to Detection\\Models\\scratchmodel_gender1.hdf5\n",
      "Epoch 97/100\n",
      "84/84 [==============================] - 9s 110ms/step - loss: 0.0220 - acc: 0.9932 - val_loss: 0.0356 - val_acc: 0.9889\n",
      "\n",
      "Epoch 00097: val_loss did not improve from 0.02096\n",
      "Epoch 98/100\n",
      "84/84 [==============================] - 9s 110ms/step - loss: 0.0167 - acc: 0.9940 - val_loss: 0.0439 - val_acc: 0.9893\n",
      "\n",
      "Epoch 00098: val_loss did not improve from 0.02096\n",
      "Epoch 99/100\n",
      "84/84 [==============================] - 9s 108ms/step - loss: 0.0194 - acc: 0.9947 - val_loss: 0.6218 - val_acc: 0.8921\n",
      "\n",
      "Epoch 00099: val_loss did not improve from 0.02096\n",
      "Epoch 100/100\n",
      "84/84 [==============================] - 9s 108ms/step - loss: 0.0157 - acc: 0.9938 - val_loss: 0.1370 - val_acc: 0.9730\n",
      "\n",
      "Epoch 00100: val_loss did not improve from 0.02096\n"
     ]
    }
   ],
   "source": [
    "# train the model\n",
    "x = model.fit_generator(aug.flow(trainX, trainY, batch_size=batch_size),\n",
    "                        validation_data=(testX,testY),\n",
    "                        steps_per_epoch=len(trainX) // batch_size,\n",
    "                        epochs=epochs, \n",
    "                        verbose=1, \n",
    "                        workers = 6, \n",
    "                        callbacks = [history, checkpointer], \n",
    "                        max_q_size = 100)"
   ]
  },
  {
   "cell_type": "code",
   "execution_count": null,
   "metadata": {},
   "outputs": [],
   "source": []
  },
  {
   "cell_type": "code",
   "execution_count": 26,
   "metadata": {
    "scrolled": true
   },
   "outputs": [
    {
     "data": {
      "text/plain": [
       "dict_keys(['loss', 'val_acc', 'acc', 'val_loss'])"
      ]
     },
     "execution_count": 26,
     "metadata": {},
     "output_type": "execute_result"
    }
   ],
   "source": [
    "x.history.keys()"
   ]
  },
  {
   "cell_type": "code",
   "execution_count": 29,
   "metadata": {},
   "outputs": [
    {
     "data": {
      "image/png": "[encoded data removed]",
      "text/plain": [
       "<Figure size 576x396 with 1 Axes>"
      ]
     },
     "metadata": {},
     "output_type": "display_data"
    }
   ],
   "source": [
    "# plot training/validation loss/accuracy\n",
    "plt.style.use(\"seaborn\")\n",
    "plt.figure()\n",
    "N = epochs\n",
    "plt.plot(np.arange(0,N), x.history[\"loss\"], label=\"train_loss\")\n",
    "plt.plot(np.arange(0,N), x.history[\"val_loss\"], label=\"val_loss\")\n",
    "plt.plot(np.arange(0,N), x.history[\"acc\"], label=\"train_acc\")\n",
    "plt.plot(np.arange(0,N), x.history[\"val_acc\"], label=\"val_acc\")\n",
    "\n",
    "plt.title(\"Training Loss and Accuracy\")\n",
    "plt.xlabel(\"Epoch #\")\n",
    "plt.ylabel(\"Loss/Accuracy\")\n",
    "plt.legend(loc=\"upper left\")\n",
    "plt.show()"
   ]
  },
  {
   "cell_type": "code",
   "execution_count": 30,
   "metadata": {},
   "outputs": [
    {
     "data": {
      "image/png": "[encoded data removed]",
      "text/plain": [
       "<Figure size 576x396 with 1 Axes>"
      ]
     },
     "metadata": {},
     "output_type": "display_data"
    }
   ],
   "source": [
    "# summarize history for accuracy\n",
    "plt.plot(x.history['acc'])\n",
    "plt.plot(x.history['val_acc'])\n",
    "plt.title('model accuracy')\n",
    "plt.ylabel('accuracy')\n",
    "plt.xlabel('epoch')\n",
    "plt.legend(['train', 'test'], loc='upper left')\n",
    "plt.show()"
   ]
  },
  {
   "cell_type": "code",
   "execution_count": 31,
   "metadata": {},
   "outputs": [
    {
     "data": {
      "image/png": "[encoded data removed]",
      "text/plain": [
       "<Figure size 576x396 with 1 Axes>"
      ]
     },
     "metadata": {},
     "output_type": "display_data"
    }
   ],
   "source": [
    "# summarize history for loss\n",
    "plt.plot(x.history['loss'])\n",
    "plt.plot(x.history['val_loss'])\n",
    "plt.title('model loss')\n",
    "plt.ylabel('loss')\n",
    "plt.xlabel('epoch')\n",
    "plt.legend(['train', 'test'], loc='upper left')\n",
    "plt.show()"
   ]
  },
  {
   "cell_type": "code",
   "execution_count": 32,
   "metadata": {},
   "outputs": [
    {
     "name": "stdout",
     "output_type": "stream",
     "text": [
      "1353/1353 [==============================] - 1s 684us/step\n",
      "Accuracy on test data: 0.9730229120473023\n"
     ]
    }
   ],
   "source": [
    "score = model.evaluate(testX, testY)\n",
    "print(\"Accuracy on test data:\", score[1])"
   ]
  },
  {
   "cell_type": "code",
   "execution_count": 33,
   "metadata": {},
   "outputs": [],
   "source": [
    "# Save loss history to file\n",
    "loss_history_path = os.path.join('Detection\\\\Models', 'scratchmodel_gender1.log')\n",
    "myFile = open(loss_history_path, 'w+')\n",
    "myFile.write(history.losses)\n",
    "myFile.close()"
   ]
  },
  {
   "cell_type": "code",
   "execution_count": 34,
   "metadata": {},
   "outputs": [],
   "source": [
    "backend.clear_session()"
   ]
  },
  {
   "cell_type": "code",
   "execution_count": null,
   "metadata": {},
   "outputs": [],
   "source": []
  },
  {
   "cell_type": "code",
   "execution_count": null,
   "metadata": {},
   "outputs": [],
   "source": []
  },
  {
   "cell_type": "code",
   "execution_count": null,
   "metadata": {},
   "outputs": [],
   "source": []
  },
  {
   "cell_type": "code",
   "execution_count": null,
   "metadata": {},
   "outputs": [],
   "source": []
  },
  {
   "cell_type": "code",
   "execution_count": null,
   "metadata": {},
   "outputs": [],
   "source": []
  },
  {
   "cell_type": "code",
   "execution_count": null,
   "metadata": {},
   "outputs": [],
   "source": []
  },
  {
   "cell_type": "code",
   "execution_count": null,
   "metadata": {},
   "outputs": [],
   "source": []
  }
 ],
 "metadata": {
  "kernelspec": {
   "display_name": "Python 3",
   "language": "python",
   "name": "python3"
  },
  "language_info": {
   "codemirror_mode": {
    "name": "ipython",
    "version": 3
   },
   "file_extension": ".py",
   "mimetype": "text/x-python",
   "name": "python",
   "nbconvert_exporter": "python",
   "pygments_lexer": "ipython3",
   "version": "3.5.5"
  }
 },
 "nbformat": 4,
 "nbformat_minor": 2
}
