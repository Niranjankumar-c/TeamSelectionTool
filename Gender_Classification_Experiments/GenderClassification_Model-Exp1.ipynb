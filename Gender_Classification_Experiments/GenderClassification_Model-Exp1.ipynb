{
 "cells": [
  {
   "cell_type": "code",
   "execution_count": 32,
   "metadata": {
    "scrolled": true
   },
   "outputs": [],
   "source": [
    "#importing the required packages\n",
    "import os\n",
    "import matplotlib.pyplot as plt\n",
    "import numpy as np\n",
    "from keras import backend\n",
    "import argparse\n",
    "import random\n",
    "import cv2\n",
    "import glob"
   ]
  },
  {
   "cell_type": "code",
   "execution_count": 33,
   "metadata": {},
   "outputs": [],
   "source": [
    "from keras.models import Sequential\n",
    "from keras.layers import Conv2D, MaxPooling2D, Flatten, Dense, Dropout\n",
    "from keras.optimizers import Adam\n",
    "from keras.preprocessing.image import ImageDataGenerator\n",
    "from keras.callbacks import Callback, ModelCheckpoint\n",
    "from keras.layers.normalization import BatchNormalization\n",
    "from keras.layers.core import Activation\n",
    "from keras.optimizers import Adam\n",
    "from keras.preprocessing.image import img_to_array\n",
    "from keras.utils import to_categorical\n",
    "from keras.utils import plot_model\n",
    "from sklearn.model_selection import train_test_split"
   ]
  },
  {
   "cell_type": "code",
   "execution_count": null,
   "metadata": {},
   "outputs": [],
   "source": []
  },
  {
   "cell_type": "code",
   "execution_count": 34,
   "metadata": {},
   "outputs": [],
   "source": [
    "dataset_path = \"Data\\\\gender_dataset_face_pretained\""
   ]
  },
  {
   "cell_type": "code",
   "execution_count": 35,
   "metadata": {},
   "outputs": [],
   "source": [
    "# initial parameters\n",
    "epochs = 100\n",
    "lr_rate = 1e-3\n",
    "batch_size = 64\n",
    "img_dims = (96,96,3)\n",
    "drop_out = 0.15\n",
    "\n",
    "data = []\n",
    "labels = []"
   ]
  },
  {
   "cell_type": "code",
   "execution_count": 36,
   "metadata": {},
   "outputs": [],
   "source": [
    "# load image files from the dataset\n",
    "random.seed(42)\n",
    "image_files = [f for f in glob.glob(dataset_path + \"/**/*\", recursive=True) if not os.path.isdir(f)]\n",
    "random.shuffle(image_files)"
   ]
  },
  {
   "cell_type": "code",
   "execution_count": 37,
   "metadata": {},
   "outputs": [],
   "source": [
    "# create groud-truth label from the image path\n",
    "for img in image_files:\n",
    "\n",
    "    image = cv2.imread(img)\n",
    "    \n",
    "    image = cv2.resize(image, (img_dims[0],img_dims[1]))\n",
    "    image = img_to_array(image)\n",
    "    data.append(image)\n",
    "\n",
    "    label = img.split(os.path.sep)[-2]\n",
    "    if label == \"woman\":\n",
    "        label = 1\n",
    "    else:\n",
    "        label = 0\n",
    "        \n",
    "    labels.append([label])"
   ]
  },
  {
   "cell_type": "code",
   "execution_count": 38,
   "metadata": {},
   "outputs": [
    {
     "data": {
      "text/plain": [
       "2307"
      ]
     },
     "execution_count": 38,
     "metadata": {},
     "output_type": "execute_result"
    }
   ],
   "source": [
    "len(data)"
   ]
  },
  {
   "cell_type": "code",
   "execution_count": 39,
   "metadata": {},
   "outputs": [
    {
     "data": {
      "text/plain": [
       "2307"
      ]
     },
     "execution_count": 39,
     "metadata": {},
     "output_type": "execute_result"
    }
   ],
   "source": [
    "len(labels)"
   ]
  },
  {
   "cell_type": "code",
   "execution_count": 40,
   "metadata": {
    "scrolled": true
   },
   "outputs": [],
   "source": [
    "# pre-processing\n",
    "data = np.array(data, dtype=\"float\") / 255.0\n",
    "labels = np.array(labels)\n",
    "\n",
    "# split dataset for training and validation\n",
    "(trainX, testX, trainY, testY) = train_test_split(data, labels, test_size=0.2,\n",
    "                                                  random_state=42)\n",
    "trainY = to_categorical(trainY, num_classes=2)\n",
    "testY = to_categorical(testY, num_classes=2)"
   ]
  },
  {
   "cell_type": "code",
   "execution_count": 41,
   "metadata": {},
   "outputs": [],
   "source": [
    "# augmenting datset \n",
    "aug = ImageDataGenerator(rotation_range=25, \n",
    "                         width_shift_range=0.1,\n",
    "                         height_shift_range=0.1, \n",
    "                         shear_range=0.2, \n",
    "                         zoom_range=0.2,\n",
    "                         horizontal_flip=True, \n",
    "                         fill_mode=\"nearest\")"
   ]
  },
  {
   "cell_type": "code",
   "execution_count": 42,
   "metadata": {},
   "outputs": [
    {
     "name": "stdout",
     "output_type": "stream",
     "text": [
      "training x length:  1845\n",
      "testing x length:  462\n"
     ]
    }
   ],
   "source": [
    "print(\"training x length: \", len(trainX))\n",
    "print(\"testing x length: \", len(testY))"
   ]
  },
  {
   "cell_type": "code",
   "execution_count": null,
   "metadata": {},
   "outputs": [],
   "source": []
  },
  {
   "cell_type": "markdown",
   "metadata": {},
   "source": [
    "## CNN"
   ]
  },
  {
   "cell_type": "code",
   "execution_count": 43,
   "metadata": {},
   "outputs": [],
   "source": [
    "#Creating a function for saving the model at each epoch end\n",
    "class LossHistory(Callback):\n",
    "    def __init__(self):\n",
    "        super().__init__()\n",
    "        self.epoch_id = 0\n",
    "        self.losses = ''\n",
    " \n",
    "    def on_epoch_end(self, epoch, logs={}):\n",
    "        self.losses += \"Epoch {}: accuracy -> {:.3f}, val_accuracy -> {:.3f}\\n\"\\\n",
    "            .format(str(self.epoch_id), logs.get('acc'), logs.get('val_acc'))\n",
    "        self.epoch_id += 1\n",
    " \n",
    "    def on_train_begin(self, logs={}):\n",
    "        self.losses += 'Training begins...\\n'"
   ]
  },
  {
   "cell_type": "code",
   "execution_count": 44,
   "metadata": {},
   "outputs": [],
   "source": [
    "#Creating a checkpointer \n",
    "checkpointer = ModelCheckpoint(filepath = os.path.join('Detection\\\\Models', 'male_or_female_pretained.h5'), \n",
    "                               verbose=1,save_best_only=True)"
   ]
  },
  {
   "cell_type": "code",
   "execution_count": 45,
   "metadata": {},
   "outputs": [],
   "source": [
    "# Initialising the CNN\n",
    "model = Sequential()"
   ]
  },
  {
   "cell_type": "code",
   "execution_count": 46,
   "metadata": {
    "scrolled": true
   },
   "outputs": [],
   "source": [
    "model.add(Conv2D(32, (3,3), padding=\"same\", input_shape=(img_dims)))\n",
    "model.add(Activation(\"relu\"))\n",
    "model.add(BatchNormalization())\n",
    "model.add(MaxPooling2D(pool_size=(3,3)))\n",
    "model.add(Dropout(drop_out))\n",
    "\n",
    "model.add(Conv2D(64, (3,3), padding=\"same\"))\n",
    "model.add(Activation(\"relu\"))\n",
    "model.add(BatchNormalization())\n",
    "\n",
    "model.add(Conv2D(64, (3,3), padding=\"same\"))\n",
    "model.add(Activation(\"relu\"))\n",
    "model.add(BatchNormalization())\n",
    "model.add(MaxPooling2D(pool_size=(2,2)))\n",
    "model.add(Dropout(drop_out))\n",
    "\n",
    "model.add(Conv2D(128, (3,3), padding=\"same\"))\n",
    "model.add(Activation(\"relu\"))\n",
    "model.add(BatchNormalization())\n",
    "model.add(Conv2D(128, (3,3), padding=\"same\"))\n",
    "model.add(Activation(\"relu\"))\n",
    "model.add(BatchNormalization())\n",
    "model.add(MaxPooling2D(pool_size=(2,2)))\n",
    "model.add(Dropout(drop_out))\n",
    "\n",
    "model.add(Flatten())\n",
    "model.add(Dense(1024))\n",
    "model.add(Activation(\"relu\"))\n",
    "model.add(BatchNormalization())\n",
    "model.add(Dropout(0.5))\n",
    "\n",
    "model.add(Dense(2))\n",
    "model.add(Activation(\"sigmoid\"))"
   ]
  },
  {
   "cell_type": "code",
   "execution_count": 47,
   "metadata": {},
   "outputs": [],
   "source": [
    "#compiling\n",
    "optimizer = Adam(lr=lr_rate, decay= lr_rate/epochs)\n",
    "metrics=['accuracy']\n",
    "model.compile(optimizer=optimizer, loss='binary_crossentropy', metrics=metrics)"
   ]
  },
  {
   "cell_type": "code",
   "execution_count": 48,
   "metadata": {},
   "outputs": [],
   "source": [
    "# Create a loss history\n",
    "history = LossHistory()"
   ]
  },
  {
   "cell_type": "code",
   "execution_count": 49,
   "metadata": {
    "scrolled": true
   },
   "outputs": [
    {
     "name": "stderr",
     "output_type": "stream",
     "text": [
      "C:\\Users\\NiranjanKumar\\Anaconda3\\envs\\deep\\lib\\site-packages\\ipykernel_launcher.py:9: UserWarning: Update your `fit_generator` call to the Keras 2 API: `fit_generator(<keras_pre..., callbacks=[<__main__..., verbose=1, max_queue_size=100, validation_data=(array([[[..., workers=6, steps_per_epoch=28, epochs=100)`\n",
      "  if __name__ == '__main__':\n"
     ]
    },
    {
     "name": "stdout",
     "output_type": "stream",
     "text": [
      "Epoch 1/100\n",
      "28/28 [==============================] - 6s 197ms/step - loss: 0.6729 - acc: 0.7490 - val_loss: 0.6742 - val_acc: 0.8214\n",
      "\n",
      "Epoch 00001: val_loss improved from inf to 0.67424, saving model to Detection\\Models\\male_or_female_pretained.h5\n",
      "Epoch 2/100\n",
      "28/28 [==============================] - 3s 110ms/step - loss: 0.4399 - acc: 0.8215 - val_loss: 0.5327 - val_acc: 0.8193\n",
      "\n",
      "Epoch 00002: val_loss improved from 0.67424 to 0.53266, saving model to Detection\\Models\\male_or_female_pretained.h5\n",
      "Epoch 3/100\n",
      "28/28 [==============================] - 3s 107ms/step - loss: 0.4266 - acc: 0.8343 - val_loss: 0.3993 - val_acc: 0.8582\n",
      "\n",
      "Epoch 00003: val_loss improved from 0.53266 to 0.39930, saving model to Detection\\Models\\male_or_female_pretained.h5\n",
      "Epoch 4/100\n",
      "28/28 [==============================] - 3s 106ms/step - loss: 0.3398 - acc: 0.8611 - val_loss: 0.4275 - val_acc: 0.8561\n",
      "\n",
      "Epoch 00004: val_loss did not improve from 0.39930\n",
      "Epoch 5/100\n",
      "28/28 [==============================] - 3s 109ms/step - loss: 0.3584 - acc: 0.8616 - val_loss: 0.1992 - val_acc: 0.9199\n",
      "\n",
      "Epoch 00005: val_loss improved from 0.39930 to 0.19924, saving model to Detection\\Models\\male_or_female_pretained.h5\n",
      "Epoch 6/100\n",
      "28/28 [==============================] - 3s 106ms/step - loss: 0.3080 - acc: 0.8827 - val_loss: 0.2554 - val_acc: 0.8939\n",
      "\n",
      "Epoch 00006: val_loss did not improve from 0.19924\n",
      "Epoch 7/100\n",
      "28/28 [==============================] - 3s 110ms/step - loss: 0.2672 - acc: 0.8890 - val_loss: 0.3282 - val_acc: 0.8712\n",
      "\n",
      "Epoch 00007: val_loss did not improve from 0.19924\n",
      "Epoch 8/100\n",
      "28/28 [==============================] - 3s 108ms/step - loss: 0.2519 - acc: 0.9044 - val_loss: 0.7608 - val_acc: 0.7933\n",
      "\n",
      "Epoch 00008: val_loss did not improve from 0.19924\n",
      "Epoch 9/100\n",
      "28/28 [==============================] - 3s 110ms/step - loss: 0.2184 - acc: 0.9124 - val_loss: 0.1633 - val_acc: 0.9448\n",
      "\n",
      "Epoch 00009: val_loss improved from 0.19924 to 0.16331, saving model to Detection\\Models\\male_or_female_pretained.h5\n",
      "Epoch 10/100\n",
      "28/28 [==============================] - 3s 110ms/step - loss: 0.2207 - acc: 0.9166 - val_loss: 1.0226 - val_acc: 0.7024\n",
      "\n",
      "Epoch 00010: val_loss did not improve from 0.16331\n",
      "Epoch 11/100\n",
      "28/28 [==============================] - 3s 109ms/step - loss: 0.1572 - acc: 0.9358 - val_loss: 0.1664 - val_acc: 0.9383\n",
      "\n",
      "Epoch 00011: val_loss did not improve from 0.16331\n",
      "Epoch 12/100\n",
      "28/28 [==============================] - 3s 108ms/step - loss: 0.1717 - acc: 0.9339 - val_loss: 0.1700 - val_acc: 0.9437\n",
      "\n",
      "Epoch 00012: val_loss did not improve from 0.16331\n",
      "Epoch 13/100\n",
      "28/28 [==============================] - 3s 107ms/step - loss: 0.1725 - acc: 0.9246 - val_loss: 0.1726 - val_acc: 0.9481\n",
      "\n",
      "Epoch 00013: val_loss did not improve from 0.16331\n",
      "Epoch 14/100\n",
      "28/28 [==============================] - 3s 108ms/step - loss: 0.1561 - acc: 0.9402 - val_loss: 0.3638 - val_acc: 0.8582\n",
      "\n",
      "Epoch 00014: val_loss did not improve from 0.16331\n",
      "Epoch 15/100\n",
      "28/28 [==============================] - 3s 110ms/step - loss: 0.1527 - acc: 0.9408 - val_loss: 0.1895 - val_acc: 0.9405\n",
      "\n",
      "Epoch 00015: val_loss did not improve from 0.16331\n",
      "Epoch 16/100\n",
      "28/28 [==============================] - 3s 109ms/step - loss: 0.1516 - acc: 0.9428 - val_loss: 0.7413 - val_acc: 0.8398\n",
      "\n",
      "Epoch 00016: val_loss did not improve from 0.16331\n",
      "Epoch 17/100\n",
      "28/28 [==============================] - 3s 108ms/step - loss: 0.1318 - acc: 0.9515 - val_loss: 0.1233 - val_acc: 0.9545\n",
      "\n",
      "Epoch 00017: val_loss improved from 0.16331 to 0.12334, saving model to Detection\\Models\\male_or_female_pretained.h5\n",
      "Epoch 18/100\n",
      "28/28 [==============================] - 3s 111ms/step - loss: 0.1219 - acc: 0.9507 - val_loss: 0.1785 - val_acc: 0.9340\n",
      "\n",
      "Epoch 00018: val_loss did not improve from 0.12334\n",
      "Epoch 19/100\n",
      "28/28 [==============================] - 3s 112ms/step - loss: 0.1345 - acc: 0.9514 - val_loss: 0.1178 - val_acc: 0.9643\n",
      "\n",
      "Epoch 00019: val_loss improved from 0.12334 to 0.11779, saving model to Detection\\Models\\male_or_female_pretained.h5\n",
      "Epoch 20/100\n",
      "28/28 [==============================] - 3s 110ms/step - loss: 0.1062 - acc: 0.9581 - val_loss: 0.1977 - val_acc: 0.9372\n",
      "\n",
      "Epoch 00020: val_loss did not improve from 0.11779\n",
      "Epoch 21/100\n",
      "28/28 [==============================] - 3s 110ms/step - loss: 0.1066 - acc: 0.9583 - val_loss: 1.0386 - val_acc: 0.7132\n",
      "\n",
      "Epoch 00021: val_loss did not improve from 0.11779\n",
      "Epoch 22/100\n",
      "28/28 [==============================] - 3s 111ms/step - loss: 0.1098 - acc: 0.9561 - val_loss: 0.2608 - val_acc: 0.9253\n",
      "\n",
      "Epoch 00022: val_loss did not improve from 0.11779\n",
      "Epoch 23/100\n",
      "28/28 [==============================] - 3s 109ms/step - loss: 0.0969 - acc: 0.9599 - val_loss: 0.1384 - val_acc: 0.9502\n",
      "\n",
      "Epoch 00023: val_loss did not improve from 0.11779\n",
      "Epoch 24/100\n",
      "28/28 [==============================] - 3s 112ms/step - loss: 0.1085 - acc: 0.9579 - val_loss: 0.1899 - val_acc: 0.9416\n",
      "\n",
      "Epoch 00024: val_loss did not improve from 0.11779\n",
      "Epoch 25/100\n",
      "28/28 [==============================] - 3s 112ms/step - loss: 0.0961 - acc: 0.9615 - val_loss: 0.2039 - val_acc: 0.9383\n",
      "\n",
      "Epoch 00025: val_loss did not improve from 0.11779\n",
      "Epoch 26/100\n",
      "28/28 [==============================] - 3s 111ms/step - loss: 0.1316 - acc: 0.9528 - val_loss: 0.6068 - val_acc: 0.8387\n",
      "\n",
      "Epoch 00026: val_loss did not improve from 0.11779\n",
      "Epoch 27/100\n",
      "28/28 [==============================] - 3s 108ms/step - loss: 0.0996 - acc: 0.9639 - val_loss: 0.2272 - val_acc: 0.9383\n",
      "\n",
      "Epoch 00027: val_loss did not improve from 0.11779\n",
      "Epoch 28/100\n",
      "28/28 [==============================] - 3s 111ms/step - loss: 0.0993 - acc: 0.9628 - val_loss: 0.1106 - val_acc: 0.9545\n",
      "\n",
      "Epoch 00028: val_loss improved from 0.11779 to 0.11064, saving model to Detection\\Models\\male_or_female_pretained.h5\n",
      "Epoch 29/100\n",
      "28/28 [==============================] - 3s 104ms/step - loss: 0.0815 - acc: 0.9700 - val_loss: 0.3888 - val_acc: 0.8842\n",
      "\n",
      "Epoch 00029: val_loss did not improve from 0.11064\n",
      "Epoch 30/100\n",
      "28/28 [==============================] - 3s 103ms/step - loss: 0.0826 - acc: 0.9703 - val_loss: 0.1454 - val_acc: 0.9545\n",
      "\n",
      "Epoch 00030: val_loss did not improve from 0.11064\n",
      "Epoch 31/100\n",
      "28/28 [==============================] - 3s 112ms/step - loss: 0.0872 - acc: 0.9687 - val_loss: 0.2198 - val_acc: 0.9329\n",
      "\n",
      "Epoch 00031: val_loss did not improve from 0.11064\n",
      "Epoch 32/100\n",
      "28/28 [==============================] - 3s 111ms/step - loss: 0.0852 - acc: 0.9669 - val_loss: 0.1400 - val_acc: 0.9610\n",
      "\n",
      "Epoch 00032: val_loss did not improve from 0.11064\n",
      "Epoch 33/100\n",
      "28/28 [==============================] - 3s 109ms/step - loss: 0.0758 - acc: 0.9721 - val_loss: 0.3022 - val_acc: 0.9232\n",
      "\n",
      "Epoch 00033: val_loss did not improve from 0.11064\n",
      "Epoch 34/100\n",
      "28/28 [==============================] - 3s 111ms/step - loss: 0.0807 - acc: 0.9707 - val_loss: 0.4981 - val_acc: 0.8723\n",
      "\n",
      "Epoch 00034: val_loss did not improve from 0.11064\n",
      "Epoch 35/100\n",
      "28/28 [==============================] - 3s 108ms/step - loss: 0.0839 - acc: 0.9687 - val_loss: 0.1454 - val_acc: 0.9665\n",
      "\n",
      "Epoch 00035: val_loss did not improve from 0.11064\n",
      "Epoch 36/100\n",
      "28/28 [==============================] - 3s 110ms/step - loss: 0.1046 - acc: 0.9595 - val_loss: 0.1778 - val_acc: 0.9394\n",
      "\n",
      "Epoch 00036: val_loss did not improve from 0.11064\n",
      "Epoch 37/100\n",
      "28/28 [==============================] - 3s 111ms/step - loss: 0.0668 - acc: 0.9777 - val_loss: 0.3422 - val_acc: 0.9123\n",
      "\n",
      "Epoch 00037: val_loss did not improve from 0.11064\n",
      "Epoch 38/100\n",
      "28/28 [==============================] - 3s 110ms/step - loss: 0.0736 - acc: 0.9693 - val_loss: 0.1384 - val_acc: 0.9470\n",
      "\n",
      "Epoch 00038: val_loss did not improve from 0.11064\n",
      "Epoch 39/100\n",
      "28/28 [==============================] - 3s 112ms/step - loss: 0.0799 - acc: 0.9709 - val_loss: 0.1883 - val_acc: 0.9405\n",
      "\n",
      "Epoch 00039: val_loss did not improve from 0.11064\n",
      "Epoch 40/100\n",
      "28/28 [==============================] - 3s 114ms/step - loss: 0.0807 - acc: 0.9705 - val_loss: 0.1011 - val_acc: 0.9643\n",
      "\n",
      "Epoch 00040: val_loss improved from 0.11064 to 0.10115, saving model to Detection\\Models\\male_or_female_pretained.h5\n",
      "Epoch 41/100\n",
      "28/28 [==============================] - 3s 113ms/step - loss: 0.1042 - acc: 0.9616 - val_loss: 0.2047 - val_acc: 0.9383\n",
      "\n",
      "Epoch 00041: val_loss did not improve from 0.10115\n",
      "Epoch 42/100\n"
     ]
    },
    {
     "name": "stdout",
     "output_type": "stream",
     "text": [
      "28/28 [==============================] - 3s 108ms/step - loss: 0.1067 - acc: 0.9582 - val_loss: 0.2371 - val_acc: 0.9351\n",
      "\n",
      "Epoch 00042: val_loss did not improve from 0.10115\n",
      "Epoch 43/100\n",
      "28/28 [==============================] - 3s 110ms/step - loss: 0.0761 - acc: 0.9712 - val_loss: 0.1933 - val_acc: 0.9383\n",
      "\n",
      "Epoch 00043: val_loss did not improve from 0.10115\n",
      "Epoch 44/100\n",
      "28/28 [==============================] - 3s 109ms/step - loss: 0.0698 - acc: 0.9763 - val_loss: 0.1043 - val_acc: 0.9600\n",
      "\n",
      "Epoch 00044: val_loss did not improve from 0.10115\n",
      "Epoch 45/100\n",
      "28/28 [==============================] - 3s 111ms/step - loss: 0.0589 - acc: 0.9752 - val_loss: 0.0826 - val_acc: 0.9675\n",
      "\n",
      "Epoch 00045: val_loss improved from 0.10115 to 0.08262, saving model to Detection\\Models\\male_or_female_pretained.h5\n",
      "Epoch 46/100\n",
      "28/28 [==============================] - 3s 110ms/step - loss: 0.0665 - acc: 0.9780 - val_loss: 0.0544 - val_acc: 0.9859\n",
      "\n",
      "Epoch 00046: val_loss improved from 0.08262 to 0.05438, saving model to Detection\\Models\\male_or_female_pretained.h5\n",
      "Epoch 47/100\n",
      "28/28 [==============================] - 3s 109ms/step - loss: 0.0830 - acc: 0.9686 - val_loss: 0.6796 - val_acc: 0.8139\n",
      "\n",
      "Epoch 00047: val_loss did not improve from 0.05438\n",
      "Epoch 48/100\n",
      "28/28 [==============================] - 3s 110ms/step - loss: 0.0708 - acc: 0.9724 - val_loss: 0.4024 - val_acc: 0.8896\n",
      "\n",
      "Epoch 00048: val_loss did not improve from 0.05438\n",
      "Epoch 49/100\n",
      "28/28 [==============================] - 3s 112ms/step - loss: 0.0583 - acc: 0.9781 - val_loss: 0.1028 - val_acc: 0.9665\n",
      "\n",
      "Epoch 00049: val_loss did not improve from 0.05438\n",
      "Epoch 50/100\n",
      "28/28 [==============================] - 3s 109ms/step - loss: 0.0715 - acc: 0.9728 - val_loss: 0.1218 - val_acc: 0.9589\n",
      "\n",
      "Epoch 00050: val_loss did not improve from 0.05438\n",
      "Epoch 51/100\n",
      "28/28 [==============================] - 3s 113ms/step - loss: 0.0503 - acc: 0.9819 - val_loss: 0.1009 - val_acc: 0.9610\n",
      "\n",
      "Epoch 00051: val_loss did not improve from 0.05438\n",
      "Epoch 52/100\n",
      "28/28 [==============================] - 3s 111ms/step - loss: 0.0537 - acc: 0.9829 - val_loss: 0.4945 - val_acc: 0.8658\n",
      "\n",
      "Epoch 00052: val_loss did not improve from 0.05438\n",
      "Epoch 53/100\n",
      "28/28 [==============================] - 3s 111ms/step - loss: 0.0364 - acc: 0.9855 - val_loss: 0.0863 - val_acc: 0.9686\n",
      "\n",
      "Epoch 00053: val_loss did not improve from 0.05438\n",
      "Epoch 54/100\n",
      "28/28 [==============================] - 3s 111ms/step - loss: 0.0367 - acc: 0.9890 - val_loss: 0.0553 - val_acc: 0.9762\n",
      "\n",
      "Epoch 00054: val_loss did not improve from 0.05438\n",
      "Epoch 55/100\n",
      "28/28 [==============================] - 3s 110ms/step - loss: 0.0635 - acc: 0.9769 - val_loss: 0.7651 - val_acc: 0.7955\n",
      "\n",
      "Epoch 00055: val_loss did not improve from 0.05438\n",
      "Epoch 56/100\n",
      "28/28 [==============================] - 3s 112ms/step - loss: 0.0690 - acc: 0.9766 - val_loss: 0.0991 - val_acc: 0.9621\n",
      "\n",
      "Epoch 00056: val_loss did not improve from 0.05438\n",
      "Epoch 57/100\n",
      "28/28 [==============================] - 3s 111ms/step - loss: 0.0522 - acc: 0.9757 - val_loss: 0.1485 - val_acc: 0.9589\n",
      "\n",
      "Epoch 00057: val_loss did not improve from 0.05438\n",
      "Epoch 58/100\n",
      "28/28 [==============================] - 3s 104ms/step - loss: 0.0470 - acc: 0.9809 - val_loss: 1.5869 - val_acc: 0.7208\n",
      "\n",
      "Epoch 00058: val_loss did not improve from 0.05438\n",
      "Epoch 59/100\n",
      "28/28 [==============================] - 3s 103ms/step - loss: 0.0542 - acc: 0.9806 - val_loss: 0.1979 - val_acc: 0.9545\n",
      "\n",
      "Epoch 00059: val_loss did not improve from 0.05438\n",
      "Epoch 60/100\n",
      "28/28 [==============================] - 3s 109ms/step - loss: 0.0476 - acc: 0.9833 - val_loss: 0.1454 - val_acc: 0.9556\n",
      "\n",
      "Epoch 00060: val_loss did not improve from 0.05438\n",
      "Epoch 61/100\n",
      "28/28 [==============================] - 3s 114ms/step - loss: 0.0430 - acc: 0.9839 - val_loss: 0.4012 - val_acc: 0.8820\n",
      "\n",
      "Epoch 00061: val_loss did not improve from 0.05438\n",
      "Epoch 62/100\n",
      "28/28 [==============================] - 3s 111ms/step - loss: 0.0385 - acc: 0.9844 - val_loss: 0.1040 - val_acc: 0.9600\n",
      "\n",
      "Epoch 00062: val_loss did not improve from 0.05438\n",
      "Epoch 63/100\n",
      "28/28 [==============================] - 3s 110ms/step - loss: 0.0486 - acc: 0.9821 - val_loss: 0.1187 - val_acc: 0.9632\n",
      "\n",
      "Epoch 00063: val_loss did not improve from 0.05438\n",
      "Epoch 64/100\n",
      "28/28 [==============================] - 3s 109ms/step - loss: 0.0522 - acc: 0.9802 - val_loss: 0.1263 - val_acc: 0.9600\n",
      "\n",
      "Epoch 00064: val_loss did not improve from 0.05438\n",
      "Epoch 65/100\n",
      "28/28 [==============================] - 3s 110ms/step - loss: 0.0509 - acc: 0.9788 - val_loss: 0.9278 - val_acc: 0.8052\n",
      "\n",
      "Epoch 00065: val_loss did not improve from 0.05438\n",
      "Epoch 66/100\n",
      "28/28 [==============================] - 3s 111ms/step - loss: 0.0589 - acc: 0.9796 - val_loss: 0.2285 - val_acc: 0.9437\n",
      "\n",
      "Epoch 00066: val_loss did not improve from 0.05438\n",
      "Epoch 67/100\n",
      "28/28 [==============================] - 3s 111ms/step - loss: 0.0448 - acc: 0.9840 - val_loss: 0.0750 - val_acc: 0.9762\n",
      "\n",
      "Epoch 00067: val_loss did not improve from 0.05438\n",
      "Epoch 68/100\n",
      "28/28 [==============================] - 3s 109ms/step - loss: 0.0468 - acc: 0.9860 - val_loss: 0.1651 - val_acc: 0.9502\n",
      "\n",
      "Epoch 00068: val_loss did not improve from 0.05438\n",
      "Epoch 69/100\n",
      "28/28 [==============================] - 3s 108ms/step - loss: 0.0424 - acc: 0.9858 - val_loss: 1.4778 - val_acc: 0.7468\n",
      "\n",
      "Epoch 00069: val_loss did not improve from 0.05438\n",
      "Epoch 70/100\n",
      "28/28 [==============================] - 3s 110ms/step - loss: 0.0492 - acc: 0.9819 - val_loss: 0.0528 - val_acc: 0.9784\n",
      "\n",
      "Epoch 00070: val_loss improved from 0.05438 to 0.05281, saving model to Detection\\Models\\male_or_female_pretained.h5\n",
      "Epoch 71/100\n",
      "28/28 [==============================] - 3s 109ms/step - loss: 0.0486 - acc: 0.9811 - val_loss: 0.0942 - val_acc: 0.9697\n",
      "\n",
      "Epoch 00071: val_loss did not improve from 0.05281\n",
      "Epoch 72/100\n",
      "28/28 [==============================] - 3s 112ms/step - loss: 0.0523 - acc: 0.9809 - val_loss: 0.0638 - val_acc: 0.9784\n",
      "\n",
      "Epoch 00072: val_loss did not improve from 0.05281\n",
      "Epoch 73/100\n",
      "28/28 [==============================] - 3s 111ms/step - loss: 0.0420 - acc: 0.9883 - val_loss: 0.1098 - val_acc: 0.9697\n",
      "\n",
      "Epoch 00073: val_loss did not improve from 0.05281\n",
      "Epoch 74/100\n",
      "28/28 [==============================] - 3s 110ms/step - loss: 0.0416 - acc: 0.9810 - val_loss: 0.3200 - val_acc: 0.9058\n",
      "\n",
      "Epoch 00074: val_loss did not improve from 0.05281\n",
      "Epoch 75/100\n",
      "28/28 [==============================] - 3s 111ms/step - loss: 0.0417 - acc: 0.9872 - val_loss: 3.1584 - val_acc: 0.5325\n",
      "\n",
      "Epoch 00075: val_loss did not improve from 0.05281\n",
      "Epoch 76/100\n",
      "28/28 [==============================] - 3s 108ms/step - loss: 0.0450 - acc: 0.9824 - val_loss: 0.0678 - val_acc: 0.9773\n",
      "\n",
      "Epoch 00076: val_loss did not improve from 0.05281\n",
      "Epoch 77/100\n",
      "28/28 [==============================] - 3s 110ms/step - loss: 0.0499 - acc: 0.9834 - val_loss: 0.0785 - val_acc: 0.9697\n",
      "\n",
      "Epoch 00077: val_loss did not improve from 0.05281\n",
      "Epoch 78/100\n",
      "28/28 [==============================] - 3s 112ms/step - loss: 0.0388 - acc: 0.9864 - val_loss: 0.0528 - val_acc: 0.9848\n",
      "\n",
      "Epoch 00078: val_loss improved from 0.05281 to 0.05276, saving model to Detection\\Models\\male_or_female_pretained.h5\n",
      "Epoch 79/100\n",
      "28/28 [==============================] - 3s 112ms/step - loss: 0.0298 - acc: 0.9874 - val_loss: 0.0910 - val_acc: 0.9632\n",
      "\n",
      "Epoch 00079: val_loss did not improve from 0.05276\n",
      "Epoch 80/100\n",
      "28/28 [==============================] - 3s 113ms/step - loss: 0.0537 - acc: 0.9777 - val_loss: 0.1744 - val_acc: 0.9459\n",
      "\n",
      "Epoch 00080: val_loss did not improve from 0.05276\n",
      "Epoch 81/100\n",
      "28/28 [==============================] - 3s 112ms/step - loss: 0.0449 - acc: 0.9865 - val_loss: 1.0255 - val_acc: 0.7468\n",
      "\n",
      "Epoch 00081: val_loss did not improve from 0.05276\n",
      "Epoch 82/100\n",
      "28/28 [==============================] - 3s 113ms/step - loss: 0.0350 - acc: 0.9871 - val_loss: 1.3239 - val_acc: 0.7056\n",
      "\n",
      "Epoch 00082: val_loss did not improve from 0.05276\n",
      "Epoch 83/100\n",
      "28/28 [==============================] - 3s 113ms/step - loss: 0.0329 - acc: 0.9893 - val_loss: 0.2250 - val_acc: 0.9394\n",
      "\n",
      "Epoch 00083: val_loss did not improve from 0.05276\n",
      "Epoch 84/100\n",
      "28/28 [==============================] - 3s 110ms/step - loss: 0.0320 - acc: 0.9871 - val_loss: 0.1095 - val_acc: 0.9643\n"
     ]
    },
    {
     "name": "stdout",
     "output_type": "stream",
     "text": [
      "\n",
      "Epoch 00084: val_loss did not improve from 0.05276\n",
      "Epoch 85/100\n",
      "28/28 [==============================] - 3s 114ms/step - loss: 0.0424 - acc: 0.9852 - val_loss: 0.0766 - val_acc: 0.9708\n",
      "\n",
      "Epoch 00085: val_loss did not improve from 0.05276\n",
      "Epoch 86/100\n",
      "28/28 [==============================] - 3s 112ms/step - loss: 0.0501 - acc: 0.9800 - val_loss: 0.6693 - val_acc: 0.8236\n",
      "\n",
      "Epoch 00086: val_loss did not improve from 0.05276\n",
      "Epoch 87/100\n",
      "28/28 [==============================] - 3s 104ms/step - loss: 0.0674 - acc: 0.9723 - val_loss: 0.1125 - val_acc: 0.9665\n",
      "\n",
      "Epoch 00087: val_loss did not improve from 0.05276\n",
      "Epoch 88/100\n",
      "28/28 [==============================] - 3s 103ms/step - loss: 0.0595 - acc: 0.9790 - val_loss: 0.1396 - val_acc: 0.9654\n",
      "\n",
      "Epoch 00088: val_loss did not improve from 0.05276\n",
      "Epoch 89/100\n",
      "28/28 [==============================] - 3s 111ms/step - loss: 0.0421 - acc: 0.9840 - val_loss: 0.1906 - val_acc: 0.9459\n",
      "\n",
      "Epoch 00089: val_loss did not improve from 0.05276\n",
      "Epoch 90/100\n",
      "28/28 [==============================] - 3s 110ms/step - loss: 0.0439 - acc: 0.9826 - val_loss: 0.1601 - val_acc: 0.9502\n",
      "\n",
      "Epoch 00090: val_loss did not improve from 0.05276\n",
      "Epoch 91/100\n",
      "28/28 [==============================] - 3s 112ms/step - loss: 0.0482 - acc: 0.9833 - val_loss: 0.0889 - val_acc: 0.9697\n",
      "\n",
      "Epoch 00091: val_loss did not improve from 0.05276\n",
      "Epoch 92/100\n",
      "28/28 [==============================] - 3s 111ms/step - loss: 0.0559 - acc: 0.9790 - val_loss: 0.0976 - val_acc: 0.9632\n",
      "\n",
      "Epoch 00092: val_loss did not improve from 0.05276\n",
      "Epoch 93/100\n",
      "28/28 [==============================] - 3s 109ms/step - loss: 0.0476 - acc: 0.9841 - val_loss: 0.1322 - val_acc: 0.9589\n",
      "\n",
      "Epoch 00093: val_loss did not improve from 0.05276\n",
      "Epoch 94/100\n",
      "28/28 [==============================] - 3s 113ms/step - loss: 0.0428 - acc: 0.9852 - val_loss: 0.0848 - val_acc: 0.9708\n",
      "\n",
      "Epoch 00094: val_loss did not improve from 0.05276\n",
      "Epoch 95/100\n",
      "28/28 [==============================] - 3s 113ms/step - loss: 0.0271 - acc: 0.9897 - val_loss: 0.1212 - val_acc: 0.9675\n",
      "\n",
      "Epoch 00095: val_loss did not improve from 0.05276\n",
      "Epoch 96/100\n",
      "28/28 [==============================] - 3s 109ms/step - loss: 0.0351 - acc: 0.9860 - val_loss: 0.4430 - val_acc: 0.8918\n",
      "\n",
      "Epoch 00096: val_loss did not improve from 0.05276\n",
      "Epoch 97/100\n",
      "28/28 [==============================] - 3s 110ms/step - loss: 0.0354 - acc: 0.9866 - val_loss: 0.0945 - val_acc: 0.9654\n",
      "\n",
      "Epoch 00097: val_loss did not improve from 0.05276\n",
      "Epoch 98/100\n",
      "28/28 [==============================] - 3s 109ms/step - loss: 0.0421 - acc: 0.9820 - val_loss: 0.1561 - val_acc: 0.9654\n",
      "\n",
      "Epoch 00098: val_loss did not improve from 0.05276\n",
      "Epoch 99/100\n",
      "28/28 [==============================] - 3s 112ms/step - loss: 0.0400 - acc: 0.9840 - val_loss: 0.0561 - val_acc: 0.9848\n",
      "\n",
      "Epoch 00099: val_loss did not improve from 0.05276\n",
      "Epoch 100/100\n",
      "28/28 [==============================] - 3s 109ms/step - loss: 0.0299 - acc: 0.9869 - val_loss: 0.7860 - val_acc: 0.7944\n",
      "\n",
      "Epoch 00100: val_loss did not improve from 0.05276\n"
     ]
    }
   ],
   "source": [
    "# train the model\n",
    "x = model.fit_generator(aug.flow(trainX, trainY, batch_size=batch_size),\n",
    "                        validation_data=(testX,testY),\n",
    "                        steps_per_epoch=len(trainX) // batch_size,\n",
    "                        epochs=epochs, \n",
    "                        verbose=1, \n",
    "                        workers = 6, \n",
    "                        callbacks = [history, checkpointer], \n",
    "                        max_q_size = 100)"
   ]
  },
  {
   "cell_type": "code",
   "execution_count": null,
   "metadata": {},
   "outputs": [],
   "source": []
  },
  {
   "cell_type": "code",
   "execution_count": 50,
   "metadata": {
    "scrolled": true
   },
   "outputs": [
    {
     "data": {
      "text/plain": [
       "dict_keys(['val_loss', 'acc', 'loss', 'val_acc'])"
      ]
     },
     "execution_count": 50,
     "metadata": {},
     "output_type": "execute_result"
    }
   ],
   "source": [
    "x.history.keys()"
   ]
  },
  {
   "cell_type": "code",
   "execution_count": 51,
   "metadata": {},
   "outputs": [],
   "source": [
    "plt.rcParams['figure.figsize'] = (15, 20)\n",
    "plt.style.use(\"seaborn\")"
   ]
  },
  {
   "cell_type": "code",
   "execution_count": 52,
   "metadata": {},
   "outputs": [
    {
     "data": {
      "image/png": "[encoded data removed]",
      "text/plain": [
       "<Figure size 576x396 with 1 Axes>"
      ]
     },
     "metadata": {},
     "output_type": "display_data"
    }
   ],
   "source": [
    "# plot training/validation loss/accuracy\n",
    "N = epochs\n",
    "plt.plot(np.arange(0,N), x.history[\"loss\"], label=\"train_loss\")\n",
    "plt.plot(np.arange(0,N), x.history[\"val_loss\"], label=\"val_loss\")\n",
    "plt.plot(np.arange(0,N), x.history[\"acc\"], label=\"train_acc\")\n",
    "plt.plot(np.arange(0,N), x.history[\"val_acc\"], label=\"val_acc\")\n",
    "\n",
    "plt.title(\"Training Loss and Accuracy\")\n",
    "plt.xlabel(\"Epoch #\")\n",
    "plt.ylabel(\"Loss/Accuracy\")\n",
    "plt.legend(loc=\"upper right\")\n",
    "plt.show()"
   ]
  },
  {
   "cell_type": "code",
   "execution_count": 53,
   "metadata": {},
   "outputs": [
    {
     "data": {
      "image/png": "[encoded data removed]",
      "text/plain": [
       "<Figure size 576x396 with 1 Axes>"
      ]
     },
     "metadata": {},
     "output_type": "display_data"
    }
   ],
   "source": [
    "# summarize history for accuracy\n",
    "plt.plot(x.history['acc'])\n",
    "plt.plot(x.history['val_acc'])\n",
    "plt.title('Model Accuracy')\n",
    "plt.ylabel('Accuracy')\n",
    "plt.xlabel('Epoch #')\n",
    "plt.legend(['train', 'test'], loc='upper left')\n",
    "plt.show()"
   ]
  },
  {
   "cell_type": "code",
   "execution_count": 54,
   "metadata": {},
   "outputs": [
    {
     "data": {
      "image/png": "[encoded data removed]",
      "text/plain": [
       "<Figure size 576x396 with 1 Axes>"
      ]
     },
     "metadata": {},
     "output_type": "display_data"
    }
   ],
   "source": [
    "# summarize history for loss\n",
    "plt.plot(x.history['loss'])\n",
    "plt.plot(x.history['val_loss'])\n",
    "plt.title('Model Loss')\n",
    "plt.ylabel('Loss')\n",
    "plt.xlabel('Epoch #')\n",
    "plt.legend(['train', 'test'], loc='upper left')\n",
    "plt.show()"
   ]
  },
  {
   "cell_type": "code",
   "execution_count": 55,
   "metadata": {},
   "outputs": [
    {
     "data": {
      "text/plain": [
       "'Detection\\\\Models\\\\male_or_female_pretained.h5'"
      ]
     },
     "execution_count": 55,
     "metadata": {},
     "output_type": "execute_result"
    }
   ],
   "source": [
    "model_backup_path"
   ]
  },
  {
   "cell_type": "code",
   "execution_count": 56,
   "metadata": {
    "scrolled": true
   },
   "outputs": [
    {
     "name": "stdout",
     "output_type": "stream",
     "text": [
      "462/462 [==============================] - 0s 695us/step\n",
      "Accuracy on test data: 0.7943722943722944\n"
     ]
    }
   ],
   "source": [
    "score = model.evaluate(testX, testY)\n",
    "print(\"Accuracy on test data:\", score[1])"
   ]
  },
  {
   "cell_type": "code",
   "execution_count": 57,
   "metadata": {},
   "outputs": [],
   "source": [
    "# Save loss history to file\n",
    "loss_history_path = os.path.join('Detection\\\\Models', 'loss_history_pretained.log')\n",
    "myFile = open(loss_history_path, 'w+')\n",
    "myFile.write(history.losses)\n",
    "myFile.close()"
   ]
  },
  {
   "cell_type": "code",
   "execution_count": 58,
   "metadata": {},
   "outputs": [],
   "source": [
    "backend.clear_session()"
   ]
  },
  {
   "cell_type": "code",
   "execution_count": null,
   "metadata": {},
   "outputs": [],
   "source": []
  },
  {
   "cell_type": "code",
   "execution_count": null,
   "metadata": {},
   "outputs": [],
   "source": []
  },
  {
   "cell_type": "code",
   "execution_count": null,
   "metadata": {},
   "outputs": [],
   "source": []
  },
  {
   "cell_type": "code",
   "execution_count": null,
   "metadata": {},
   "outputs": [],
   "source": []
  },
  {
   "cell_type": "code",
   "execution_count": null,
   "metadata": {},
   "outputs": [],
   "source": []
  }
 ],
 "metadata": {
  "kernelspec": {
   "display_name": "Python 3",
   "language": "python",
   "name": "python3"
  },
  "language_info": {
   "codemirror_mode": {
    "name": "ipython",
    "version": 3
   },
   "file_extension": ".py",
   "mimetype": "text/x-python",
   "name": "python",
   "nbconvert_exporter": "python",
   "pygments_lexer": "ipython3",
   "version": "3.5.5"
  }
 },
 "nbformat": 4,
 "nbformat_minor": 2
}
